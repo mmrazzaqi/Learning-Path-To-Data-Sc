{
 "cells": [
  {
   "cell_type": "markdown",
   "id": "aa2a3a0e",
   "metadata": {},
   "source": [
    "## Escape Characters\n",
    "\n",
    "<img src=\"images/escape_chars.jpg\" width=\"700\" />"
   ]
  },
  {
   "cell_type": "markdown",
   "id": "eb7f88a3",
   "metadata": {},
   "source": [
    "### Single and Double Quote Escape Character "
   ]
  },
  {
   "cell_type": "code",
   "execution_count": 4,
   "id": "68b000d9",
   "metadata": {},
   "outputs": [
    {
     "name": "stdout",
     "output_type": "stream",
     "text": [
      "hello'world\n"
     ]
    }
   ],
   "source": [
    "x = 'hello\\'world'\n",
    "print(x)"
   ]
  },
  {
   "cell_type": "code",
   "execution_count": 5,
   "id": "9c7510ff",
   "metadata": {},
   "outputs": [
    {
     "name": "stdout",
     "output_type": "stream",
     "text": [
      "hello\"world\"\n"
     ]
    }
   ],
   "source": [
    "x = 'hello\\\"world\\\"'\n",
    "print(x)"
   ]
  },
  {
   "cell_type": "markdown",
   "id": "3b95e47c",
   "metadata": {},
   "source": [
    "If we are using **double quotes** to define a string, you may not use the escape sequence to escape the single quote. But, even if you use, that does not change the output, anyways."
   ]
  },
  {
   "cell_type": "code",
   "execution_count": 11,
   "id": "6b57688f",
   "metadata": {},
   "outputs": [
    {
     "name": "stdout",
     "output_type": "stream",
     "text": [
      "mohsin 'razzaqi'\n",
      "mohsin 'razzaqi'\n",
      "mohsin \"razzaqi\"\n"
     ]
    }
   ],
   "source": [
    "name = \"mohsin 'razzaqi'\"\n",
    "print(name)\n",
    "\n",
    "name = \"mohsin \\'razzaqi\\'\"\n",
    "print(name)\n",
    "\n",
    "name = \"mohsin \\\"razzaqi\\\"\"\n",
    "print(name)"
   ]
  },
  {
   "cell_type": "markdown",
   "id": "c0fb021e",
   "metadata": {},
   "source": [
    "But if we want to escape the double quote in string which define by double quote is invalid syntax. <br>\n",
    "To escape double quote, we shuold use \\."
   ]
  },
  {
   "cell_type": "code",
   "execution_count": 20,
   "id": "bc08a102",
   "metadata": {},
   "outputs": [
    {
     "name": "stdout",
     "output_type": "stream",
     "text": [
      "mohsin \"razzaqi\"\n"
     ]
    }
   ],
   "source": [
    "#  invalid syntax\n",
    "# name = \"mohsin \"razzaqi\"\"   \n",
    "# print(name)\n",
    "\n",
    "# valid syntax\n",
    "name = \"mohsin \\\"razzaqi\\\"\"\n",
    "print(name)"
   ]
  },
  {
   "cell_type": "markdown",
   "id": "e3322ae9",
   "metadata": {},
   "source": [
    "### Backslash Escape Character"
   ]
  },
  {
   "cell_type": "code",
   "execution_count": 15,
   "id": "f63454f7",
   "metadata": {},
   "outputs": [
    {
     "name": "stdout",
     "output_type": "stream",
     "text": [
      "hello\\world\n"
     ]
    }
   ],
   "source": [
    "x = 'hello\\\\world'\n",
    "print(x)"
   ]
  },
  {
   "cell_type": "code",
   "execution_count": 16,
   "id": "9605a007",
   "metadata": {},
   "outputs": [
    {
     "name": "stdout",
     "output_type": "stream",
     "text": [
      "hello\\world\n"
     ]
    }
   ],
   "source": [
    "x = \"hello\\\\world\"\n",
    "print(x)"
   ]
  },
  {
   "cell_type": "markdown",
   "id": "4d210171",
   "metadata": {},
   "source": [
    "### Newline Escape Character"
   ]
  },
  {
   "cell_type": "code",
   "execution_count": 18,
   "id": "073a6ed5",
   "metadata": {},
   "outputs": [
    {
     "name": "stdout",
     "output_type": "stream",
     "text": [
      "hello\n",
      "world\n",
      "hello\n",
      "world\n"
     ]
    }
   ],
   "source": [
    "x = 'hello\\nworld'\n",
    "print(x)\n",
    "\n",
    "x = \"hello\\nworld\"\n",
    "print(x)"
   ]
  },
  {
   "cell_type": "markdown",
   "id": "94d4b032",
   "metadata": {},
   "source": [
    "### Carriage Return Escape Character"
   ]
  },
  {
   "cell_type": "code",
   "execution_count": 19,
   "id": "ad5dbe26",
   "metadata": {},
   "outputs": [
    {
     "name": "stdout",
     "output_type": "stream",
     "text": [
      "hello\r",
      "world\n"
     ]
    }
   ],
   "source": [
    "x = 'hello\\rworld'\n",
    "print(x)"
   ]
  },
  {
   "cell_type": "markdown",
   "id": "2b9612f0",
   "metadata": {},
   "source": [
    "After printing hello, carriage return will take the cursor to the start of the same line, and then it prints world, which kind of overwrites on the previous data. So, we see only world, but no hello, in the output."
   ]
  },
  {
   "cell_type": "markdown",
   "id": "522cac4c",
   "metadata": {},
   "source": [
    "### Tab Escape Character"
   ]
  },
  {
   "cell_type": "code",
   "execution_count": 21,
   "id": "92241116",
   "metadata": {},
   "outputs": [
    {
     "name": "stdout",
     "output_type": "stream",
     "text": [
      "hello\tworld\n"
     ]
    }
   ],
   "source": [
    "x = 'hello\\tworld'\n",
    "print(x)"
   ]
  },
  {
   "cell_type": "markdown",
   "id": "da4bc8fb",
   "metadata": {},
   "source": [
    "### Backspace Escape Character"
   ]
  },
  {
   "cell_type": "code",
   "execution_count": 22,
   "id": "4fe36bd8",
   "metadata": {},
   "outputs": [
    {
     "name": "stdout",
     "output_type": "stream",
     "text": [
      "hello\bworld\n"
     ]
    }
   ],
   "source": [
    "x = 'hello\\bworld'\n",
    "print(x)"
   ]
  },
  {
   "cell_type": "markdown",
   "id": "3c00bd23",
   "metadata": {},
   "source": [
    "After printing hello, a backspace would delete the last character o, and then world is printed out. So, the final result would look like **hellworld.**"
   ]
  },
  {
   "cell_type": "markdown",
   "id": "433f204e",
   "metadata": {},
   "source": [
    "### Form feed Escape Character"
   ]
  },
  {
   "cell_type": "code",
   "execution_count": 23,
   "id": "3dd950fd",
   "metadata": {},
   "outputs": [
    {
     "name": "stdout",
     "output_type": "stream",
     "text": [
      "hello\f",
      "world\n"
     ]
    }
   ],
   "source": [
    "x = 'hello\\fworld'\n",
    "print(x)"
   ]
  },
  {
   "cell_type": "markdown",
   "id": "28c94095",
   "metadata": {},
   "source": [
    "**Form feed** is an ASCII control character, which breaks the page. It makes the printer to throw out the current page and then to keep on printing at the top of another any. It will also cause a carriage return in many cases."
   ]
  },
  {
   "cell_type": "markdown",
   "id": "59f7491c",
   "metadata": {},
   "source": [
    "### Octal Value Escape Character"
   ]
  },
  {
   "cell_type": "code",
   "execution_count": 33,
   "id": "e456792e",
   "metadata": {},
   "outputs": [
    {
     "name": "stdout",
     "output_type": "stream",
     "text": [
      "ABC\n",
      "D\n"
     ]
    }
   ],
   "source": [
    "x = '\\101\\102\\103'\n",
    "print(x)\n",
    "\n",
    "x = '\\104'\n",
    "print(x)"
   ]
  },
  {
   "cell_type": "markdown",
   "id": "bd538ea8",
   "metadata": {},
   "source": [
    "Octal value 101 represents A, 102 represents B, and so on. So, in the output, we got ABC for the given octal values."
   ]
  },
  {
   "cell_type": "markdown",
   "id": "7645c9f6",
   "metadata": {},
   "source": [
    "### Hex Value Escape Character\n",
    "\n",
    "To specify a byte using **hex value**, use a preceding backslash and **x** for two digit hex value in the string."
   ]
  },
  {
   "cell_type": "code",
   "execution_count": 34,
   "id": "ed7ba3c9",
   "metadata": {},
   "outputs": [
    {
     "name": "stdout",
     "output_type": "stream",
     "text": [
      "ABC\n"
     ]
    }
   ],
   "source": [
    "x = '\\x41\\x42\\x43'\n",
    "print(x)"
   ]
  },
  {
   "cell_type": "markdown",
   "id": "32094612",
   "metadata": {},
   "source": [
    "Hex value of 41 means 65 in decimal. And a byte with decimal 65 represents the character A. Similarly 42 is B, 43 is C."
   ]
  },
  {
   "cell_type": "code",
   "execution_count": null,
   "id": "6fe08492",
   "metadata": {},
   "outputs": [],
   "source": []
  }
 ],
 "metadata": {
  "kernelspec": {
   "display_name": "Python 3 (ipykernel)",
   "language": "python",
   "name": "python3"
  },
  "language_info": {
   "codemirror_mode": {
    "name": "ipython",
    "version": 3
   },
   "file_extension": ".py",
   "mimetype": "text/x-python",
   "name": "python",
   "nbconvert_exporter": "python",
   "pygments_lexer": "ipython3",
   "version": "3.9.7"
  }
 },
 "nbformat": 4,
 "nbformat_minor": 5
}
