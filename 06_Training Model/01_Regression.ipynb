{
 "cells": [
  {
   "cell_type": "markdown",
   "id": "2ce65f82",
   "metadata": {},
   "source": [
    "# Linear Regression\n",
    "\n",
    "<br>\n",
    "\n",
    "A linear model makes a prediction by simply computing a weighted\n",
    "sum of the input features, plus a constant called the bias term (also called the intercept\n",
    "term). <br>\n",
    "Linear Regression model prediction (vectorized form) <br>\n",
    "y = hθ x = θ · x <br>\n",
    " - θ is the model’s parameter vector, containing the bias term θ0 and the feature weights θ1 to θn.\n",
    " - x is the instance’s feature vector, containing x0 to xn, with x0 always equal to 1.\n",
    " - θ · x is the dot product of the vectors θ and x, which is of course equal to θ0x0 + θ1x1 + θ2x2 + ⋯ + θnxn.\n",
    " - hθ is the hypothesis function, using the model parameters θ. \n",
    " \n",
    "<br>\n",
    " \n",
    "<div>\n",
    "    <img src=\"images/cost_func_LR.png\", width='400' />\n",
    "    </div>"
   ]
  },
  {
   "cell_type": "markdown",
   "id": "e3d94ae6",
   "metadata": {},
   "source": [
    "### The Normal Equation\n",
    "\n",
    "To find the value of θ that minimizes the cost function, there is a closed-form solution, in other words, a mathematical equation that gives the result directly. <br>\n",
    "This is called the Normal Equation.\n",
    "\n",
    "<br>\n",
    "\n",
    "<div>\n",
    "    <img src=\"images/normal_eq.png\", width='700' />\n",
    "    </div>\n",
    " <br>\n",
    " Let’s generate some linear-looking data to test this equation on"
   ]
  },
  {
   "cell_type": "markdown",
   "id": "01dea052",
   "metadata": {},
   "source": [
    "# Setup\n",
    "First, let's import a few common modules, ensure MatplotLib plots figures inline and prepare a function to save the figures. We also check that Python 3.5 or later is installed (although Python 2.x may work, it is deprecated so we strongly recommend you use Python 3 instead), as well as Scikit-Learn ≥0.20."
   ]
  },
  {
   "cell_type": "code",
   "execution_count": 1,
   "id": "aa4acb7e",
   "metadata": {},
   "outputs": [],
   "source": [
    "import sys\n",
    "assert sys.version_info >= (3,5)"
   ]
  },
  {
   "cell_type": "code",
   "execution_count": 2,
   "id": "482242bb",
   "metadata": {},
   "outputs": [],
   "source": [
    "# Scikit-Learn ≥0.20 is required\n",
    "import sklearn\n",
    "assert sklearn.__version__ >= \"0,2\"\n",
    "\n",
    "# Common imports\n",
    "import numpy as np\n",
    "import os\n",
    "\n",
    "# to make this notebook's output stable across runs\n",
    "np.random.seed(42)\n",
    "\n",
    "# To plot pretty figures\n",
    "import matplotlib as mpl\n",
    "import matplotlib.pyplot as plt\n",
    "plt.rc('axes', labelsize=14)\n",
    "plt.rc('xtick', labelsize=12)\n",
    "plt.rc('ytick', labelsize=12)"
   ]
  },
  {
   "cell_type": "markdown",
   "id": "9d7938e0",
   "metadata": {},
   "source": [
    " **numpy.random.randn** generates samples from the normal distribution, while **numpy.random.rand** from a uniform distribution (in the range [0,1]). <br>\n",
    "\n",
    "Second, why did the uniform distribution not work? The main reason is the activation function, especially in your case where you use the sigmoid function."
   ]
  },
  {
   "cell_type": "code",
   "execution_count": 3,
   "id": "81911cfb",
   "metadata": {},
   "outputs": [],
   "source": [
    "# Data for Normal Equation\n",
    "import numpy as np\n",
    "X = 2 * np.random.rand(100, 1)\n",
    "y = 4 + 3 * X + np.random.randn(100, 1)"
   ]
  },
  {
   "cell_type": "code",
   "execution_count": 4,
   "id": "93719ec1",
   "metadata": {},
   "outputs": [
    {
     "data": {
      "image/png": "[encoded data removed]",
      "text/plain": [
       "<Figure size 432x288 with 1 Axes>"
      ]
     },
     "metadata": {
      "needs_background": "light"
     },
     "output_type": "display_data"
    }
   ],
   "source": [
    "# plot the data\n",
    "plt.plot(X, y, 'r.')\n",
    "plt.xlabel('$x_1$', fontsize=18)\n",
    "plt.ylabel('$y$', rotation=0, fontsize=18)\n",
    "plt.axis([0,2, 0,15])\n",
    "plt.show()"
   ]
  },
  {
   "cell_type": "markdown",
   "id": "a4dcc85f",
   "metadata": {},
   "source": [
    "<br>\n",
    "Now let’s compute θ using the Normal Equation.\n",
    "\n",
    "#### add $x_0$ = 1 to each instance"
   ]
  },
  {
   "cell_type": "code",
   "execution_count": 5,
   "id": "1b554374",
   "metadata": {},
   "outputs": [],
   "source": [
    "X_b = np.c_[np.ones((100,1)), X]\n",
    "\n",
    "# This is done to accommodate the bias. While finding the hypothesis function the bias or the y-intercept part \n",
    "# is multiplied with 1 (column of 1) in the matrix multiplication."
   ]
  },
  {
   "cell_type": "code",
   "execution_count": 6,
   "id": "5eca1fd2",
   "metadata": {},
   "outputs": [
    {
     "data": {
      "text/plain": [
       "array([[4.21509616],\n",
       "       [2.77011339]])"
      ]
     },
     "execution_count": 6,
     "metadata": {},
     "output_type": "execute_result"
    }
   ],
   "source": [
    "theta_best = np.linalg.inv(X_b.T.dot(X_b)).dot(X_b.T).dot(y)\n",
    "theta_best"
   ]
  },
  {
   "cell_type": "code",
   "execution_count": 7,
   "id": "94cdf6f6",
   "metadata": {},
   "outputs": [
    {
     "data": {
      "text/plain": [
       "array([[4.21509616],\n",
       "       [9.75532293]])"
      ]
     },
     "execution_count": 7,
     "metadata": {},
     "output_type": "execute_result"
    }
   ],
   "source": [
    "# Now make predictions using θ\n",
    "\n",
    "X_new = np.array([[0], [2]])\n",
    "X_new_b = np.c_[np.ones((2,1)), X_new]  # add x0 = 1 to each instance\n",
    "y_pred = X_new_b.dot(theta_best)\n",
    "y_pred"
   ]
  },
  {
   "cell_type": "code",
   "execution_count": 8,
   "id": "88341863",
   "metadata": {},
   "outputs": [
    {
     "data": {
      "image/png": "[encoded data removed]",
      "text/plain": [
       "<Figure size 432x288 with 1 Axes>"
      ]
     },
     "metadata": {
      "needs_background": "light"
     },
     "output_type": "display_data"
    }
   ],
   "source": [
    "# lets plot the model predictions\n",
    "\n",
    "plt.plot(X_new, y_pred, 'r-', label=\"Predictions\")\n",
    "plt.plot(X, y, 'b.')\n",
    "plt.legend()\n",
    "plt.xlabel(\"X1\")\n",
    "plt.ylabel(\"y\")\n",
    "plt.axis([0,2, 0,15])\n",
    "plt.show()"
   ]
  },
  {
   "cell_type": "markdown",
   "id": "2328dfd8",
   "metadata": {},
   "source": [
    "<br>\n",
    "Performing linear regression using Scikit-Learn"
   ]
  },
  {
   "cell_type": "code",
   "execution_count": 9,
   "id": "8980573c",
   "metadata": {},
   "outputs": [
    {
     "name": "stdout",
     "output_type": "stream",
     "text": [
      "[4.21509616]\n",
      "[[2.77011339]]\n"
     ]
    },
    {
     "data": {
      "text/plain": [
       "array([[4.21509616],\n",
       "       [9.75532293]])"
      ]
     },
     "execution_count": 9,
     "metadata": {},
     "output_type": "execute_result"
    }
   ],
   "source": [
    "from sklearn.linear_model import LinearRegression\n",
    "\n",
    "lin_reg = LinearRegression()\n",
    "lin_reg.fit(X, y)\n",
    "\n",
    "print(lin_reg.intercept_)\n",
    "print(lin_reg.coef_)\n",
    "\n",
    "lin_reg.predict(X_new)"
   ]
  },
  {
   "cell_type": "markdown",
   "id": "86c070f2",
   "metadata": {},
   "source": [
    "<br>\n",
    "\n",
    "The LinearRegression class is based on the scipy.linalg.lstsq() function (the name stands for “least squares”), which we could call directly. <br>\n"
   ]
  },
  {
   "cell_type": "code",
   "execution_count": 10,
   "id": "8c434fea",
   "metadata": {},
   "outputs": [
    {
     "data": {
      "text/plain": [
       "array([[4.21509616],\n",
       "       [2.77011339]])"
      ]
     },
     "execution_count": 10,
     "metadata": {},
     "output_type": "execute_result"
    }
   ],
   "source": [
    "theta_best_svd, residuals, rank, s = np.linalg.lstsq(X_b, y, rcond=1e-6)\n",
    "theta_best_svd"
   ]
  },
  {
   "cell_type": "markdown",
   "id": "66dbb118",
   "metadata": {},
   "source": [
    "<br>\n",
    "\n",
    "This function computes $ θ = X^{+}y $, where $X^{+}$ is the pseudoinverse of X (specifically the\n",
    "Moore-Penrose inverse). We can use np.linalg.pinv() to compute the pseudoinverse\n",
    "directly. <br>\n",
    "\n",
    "The pseudoinverse itself is computed using a standard matrix factorization technique\n",
    "called Singular Value Decomposition (SVD) that can decompose the training set\n",
    "matrix X into the matrix multiplication of three matrices U Σ $V^{T}$ . <br>\n",
    "\n",
    "This approach is more efficient than computing the\n",
    "Normal Equation, plus it handles edge cases nicely: indeed, the Normal Equation may\n",
    "not work if the matrix $X^{T}$X is not invertible (i.e., singular), such as if m < n or if some\n",
    "features are redundant, but the pseudoinverse is always defined."
   ]
  },
  {
   "cell_type": "code",
   "execution_count": 11,
   "id": "288f6efc",
   "metadata": {},
   "outputs": [
    {
     "data": {
      "text/plain": [
       "array([[4.21509616],\n",
       "       [2.77011339]])"
      ]
     },
     "execution_count": 11,
     "metadata": {},
     "output_type": "execute_result"
    }
   ],
   "source": [
    "np.linalg.pinv(X_b).dot(y)"
   ]
  },
  {
   "cell_type": "markdown",
   "id": "6b4561b6",
   "metadata": {},
   "source": [
    "### Computational Complexity\n",
    "\n",
    "The Normal Equation computes the inverse of $X^{T}$ X, which is an (n + 1) × (n + 1)\n",
    "matrix (where n is the number of features). The computational complexity of inverting\n",
    "such a matrix is typically about $O(n^{2.4})$ to $O(n^{3})$ (depending on the implementation).\n",
    "In other words, if you double the number of features, you multiply the computation\n",
    "time by roughly $2^{2.4}$ = 5.3 to $2^{3} = 8$.\n",
    "The SVD approach used by Scikit-Learn’s LinearRegression class is about $O(n^{2})$. If\n",
    "you double the number of features, you multiply the computation time by roughly 4. <br>\n",
    "Both the Normal Equation and the SVD approach get very slow\n",
    "when the number of features grows large (e.g., 100,000). <br>\n",
    "Also, once you have trained your Linear Regression model (using the Normal Equation\n",
    "or any other algorithm), predictions are very fast."
   ]
  },
  {
   "cell_type": "markdown",
   "id": "4a462a89",
   "metadata": {},
   "source": [
    "# Gradient Descent\n",
    "\n",
    "It measures the local gradient of the error function with regards to the\n",
    "parameter vector θ, and it goes in the direction of descending gradient. Once the gradient\n",
    "is zero, you have reached a minimum.\n",
    "\n",
    "<br>\n",
    "\n",
    "<div>\n",
    "    <img src=\"images/gradient_D.jpg\", width=\"500\" />\n",
    "</div>\n",
    "\n",
    "<br>\n",
    "\n",
    "Not all cost functions look like nice regular bowls. There may be holes, ridges,\n",
    "plateaus, and all sorts of irregular terrains, making convergence to the minimum very\n",
    "difficult. \n",
    "\n",
    "<br>\n",
    "\n",
    "<div>\n",
    "    <img src=\"images/gd_pitfalls.jpg\", width=\"500\" />\n",
    "</div>\n",
    "\n",
    "<br>\n",
    "\n",
    "If the random\n",
    "initialization starts the algorithm on the left, then it will converge to a local minimum,\n",
    "which is not as good as the global minimum. If it starts on the right, then it will\n",
    "take a very long time to cross the plateau, and if you stop too early you will never\n",
    "reach the global minimum. <br>\n",
    "\n",
    "Fortunately, the MSE cost function for a Linear Regression model happens to be a\n",
    "convex function, which means that if you pick any two points on the curve, the line\n",
    "segment joining them never crosses the curve. This implies that there are no local\n",
    "minima, just one global minimum. It is also a continuous function with a slope that\n",
    "never changes abruptly.4 These two facts have a great consequence: Gradient Descent\n",
    "is guaranteed to approach arbitrarily close the global minimum (if you wait long\n",
    "enough and if the learning rate is not too high)."
   ]
  },
  {
   "cell_type": "markdown",
   "id": "964d4f55",
   "metadata": {},
   "source": [
    "In fact, the cost function has the shape of a bowl, but it can be an elongated bowl if\n",
    "the features have very different scales. Figure 4-7 shows Gradient Descent on a training\n",
    "set where features 1 and 2 have the same scale (on the left), and on a training set\n",
    "where feature 1 has much smaller values than feature 2 (on the right).\n",
    "\n",
    "<br>\n",
    "\n",
    "<div>\n",
    "    <img src=\"images/gd_withScaling_withoutScaling.bmp\", width=\"500\" />\n",
    "</div>\n",
    "\n",
    "<br>\n",
    "On the left the Gradient Descent algorithm goes straight toward the\n",
    "minimum, thereby reaching it quickly, whereas on the right it first goes in a direction\n",
    "almost orthogonal to the direction of the global minimum, and it ends with a long\n",
    "march down an almost flat valley. It will eventually reach the minimum, but it will\n",
    "take a long time.\n",
    "When using Gradient Descent, you should ensure that all features\n",
    "have a similar scale (e.g., using Scikit-Learn’s StandardScaler\n",
    "class), or else it will take much longer to converge.\n",
    "\n",
    "<br>\n",
    "\n",
    "This diagram also illustrates the fact that training a model means searching for a\n",
    "combination of model parameters that minimizes a cost function (over the training\n",
    "set). It is a search in the model’s parameter space: the more parameters a model has,\n",
    "the more dimensions this space has, and the harder the search is: searching for a needle\n",
    "in a 300-dimensional haystack is much trickier than in three dimensions. Fortunately,\n",
    "since the cost function is convex in the case of Linear Regression, the needle is\n",
    "simply at the bottom of the bowl."
   ]
  },
  {
   "cell_type": "markdown",
   "id": "df1eb049",
   "metadata": {},
   "source": [
    "### Batch Gradient Descent\n",
    "To implement Gradient Descent, you need to compute the gradient of the cost function\n",
    "with regards to each model parameter θj. In other words, you need to calculate\n",
    "how much the cost function will change if you change θj just a little bit. This is called\n",
    "a partial derivative.\n",
    "\n",
    "<br>\n",
    "\n",
    "<div>\n",
    "    <img src=\"images/partial_D.png\", width=\"400\" />\n",
    "</div>\n",
    "\n",
    "<br>\n",
    " \n",
    "Instead of computing these partial derivatives individually, you can use Equation 4-6\n",
    "to compute them all in one go. The gradient vector, noted $∇θMSE(θ)$, contains all the\n",
    "partial derivatives of the cost function (one for each model parameter).\n",
    "\n",
    "<br>\n",
    "\n",
    "<div>\n",
    "    <img src=\"images/gradient_vector.png\", width=\"400\" />\n",
    "</div> \n",
    "\n",
    "<br>\n",
    "\n",
    "Notice that this formula involves calculations over the full training\n",
    "set X, at each Gradient Descent step! This is why the algorithm is\n",
    "called Batch Gradient Descent: it uses the whole batch of training\n",
    "data at every step (actually, Full Gradient Descent would probably\n",
    "be a better name). As a result it is terribly slow on very large training\n",
    "sets (but we will see much faster Gradient Descent algorithms\n",
    "shortly). <br>\n",
    "\n",
    "Once you have the gradient vector, which points uphill, just go in the opposite direction\n",
    "to go downhill. This means subtracting ∇θMSE(θ) from θ. This is where the\n",
    "learning rate η comes into play, multiply the gradient vector by η to determine the\n",
    "size of the downhill step <br>\n",
    "\n",
    "Gradient Descent step <br>\n",
    "\n",
    "$ θ^{next step} = θ − η∇θMSE(θ) $"
   ]
  },
  {
   "cell_type": "code",
   "execution_count": 12,
   "id": "b4ee59b9",
   "metadata": {},
   "outputs": [],
   "source": [
    "learning_rate = 0.1\n",
    "n_iterations = 1000\n",
    "m = 100\n",
    "\n",
    "# random initializatin of parameter (theta)\n",
    "\n",
    "theta = np.random.randn(2,1)\n",
    "\n",
    "for iteration in range(n_iterations):\n",
    "    gradients = 2/m * X_b.T.dot(X_b.dot(theta) - y)\n",
    "    theta = theta-(learning_rate * gradients)"
   ]
  },
  {
   "cell_type": "code",
   "execution_count": 13,
   "id": "671cf594",
   "metadata": {},
   "outputs": [
    {
     "data": {
      "text/plain": [
       "array([[4.21509616],\n",
       "       [2.77011339]])"
      ]
     },
     "execution_count": 13,
     "metadata": {},
     "output_type": "execute_result"
    }
   ],
   "source": [
    "theta"
   ]
  },
  {
   "cell_type": "code",
   "execution_count": 14,
   "id": "820c25b6",
   "metadata": {},
   "outputs": [
    {
     "data": {
      "text/plain": [
       "array([[4.21509616],\n",
       "       [9.75532293]])"
      ]
     },
     "execution_count": 14,
     "metadata": {},
     "output_type": "execute_result"
    }
   ],
   "source": [
    "X_new_b.dot(theta)"
   ]
  },
  {
   "cell_type": "markdown",
   "id": "f2e2da5d",
   "metadata": {},
   "source": [
    "A simple solution is to set the no of iterations is that set a very large number of iterations but to interrupt the algorithm when the gradient vector becomes tiny—that is, when its norm becomes smaller than a tiny number ϵ (called the tolerance)—because this happens when Gradient Descent has(almost) reached the minimum."
   ]
  },
  {
   "cell_type": "markdown",
   "id": "69062bd7",
   "metadata": {},
   "source": [
    "### Stochastic Gradient Descent\n",
    "The main problem with Batch Gradient Descent is the fact that it uses the whole\n",
    "training set to compute the gradients at every step, which makes it very slow when\n",
    "the training set is large. At the opposite extreme, Stochastic Gradient Descent just\n",
    "picks a random instance in the training set at every step and computes the gradients\n",
    "based only on that single instance. <br>\n",
    "\n",
    "On the other hand, due to its stochastic (i.e., random) nature, this algorithm is much\n",
    "less regular than Batch Gradient Descent: instead of gently decreasing until it reaches\n",
    "the minimum, the cost function will bounce up and down, decreasing only on average.\n",
    "So once the algorithm stops, the final parameter values are good, but not optimal.\n",
    "\n",
    "<br>\n",
    "\n",
    "<div>\n",
    "    <img src=\"images/sgd.jpg\", width=\"400\" />\n",
    "</div> \n",
    "\n",
    "<br>\n",
    "\n",
    "When the cost function is very irregular (as in Figure 4-6), this can actually help the\n",
    "algorithm jump out of local minima, so Stochastic Gradient Descent has a better\n",
    "chance of finding the global minimum than Batch Gradient Descent does.\n",
    "__Therefore randomness is good to escape from local optima, but bad because it means\n",
    "that the algorithm can never settle at the minimum.__ One solution to this dilemma is\n",
    "to gradually reduce the learning rate. The steps start out large (which helps make\n",
    "quick progress and escape local minima), then get smaller and smaller, allowing the\n",
    "algorithm to settle at the global minimum. This process is akin to simulated annealing,\n",
    "an algorithm inspired from the process of annealing in metallurgy where molten\n",
    "metal is slowly cooled down. The function that determines the learning rate at each\n",
    "iteration is called the __learning schedule.__ If the learning rate is reduced too quickly, you\n",
    "may get stuck in a local minimum, or even end up frozen halfway to the minimum. If\n",
    "the learning rate is reduced too slowly, you may jump around the minimum for a\n",
    "long time and end up with a suboptimal solution if you halt training too early."
   ]
  },
  {
   "cell_type": "code",
   "execution_count": 15,
   "id": "14912d63",
   "metadata": {},
   "outputs": [],
   "source": [
    "n_epochs = 50\n",
    "\n",
    "# learning shedule hyperparameters\n",
    "t0, t1 = 5, 50\n",
    "def learning_schedule(t):\n",
    "    return t0 / (t + t1)\n",
    "    \n",
    "# random initialization\n",
    "theta = np.random.randn(2,1)\n",
    "\n",
    "# Create a loop over the number of epochs.\n",
    "for epochs in range(n_epochs):\n",
    "    \n",
    "    # And a loop over the size of the training data.\n",
    "    for i in range(m):\n",
    "        \n",
    "        # Pick a random instance: this function takes a random value in the range from 0 to m.\n",
    "        random_index = np.random.randint(m)\n",
    "        \n",
    "        # Now, store this random instance and its target value into the variables xi and yi ...\n",
    "        xi = X_b[random_index:random_index+1]\n",
    "        yi = y[random_index:random_index+1]\n",
    "        \n",
    "        # ... and calculate gradients and beta as before. Remember to calculate the value of the learning\n",
    "        # rate from the learning-rate schedule defined above (epoch * m + i) is just the number of the\n",
    "        # current training step over all epochs.\n",
    "        gradients = 2 * xi.T.dot(xi.dot(theta) - yi)\n",
    "        eta = learning_schedule(epochs * m + i)\n",
    "        theta = theta - eta * gradients\n",
    "        \n",
    "\n"
   ]
  },
  {
   "cell_type": "code",
   "execution_count": 16,
   "id": "98d0411f",
   "metadata": {},
   "outputs": [
    {
     "data": {
      "text/plain": [
       "array([[4.18475289],\n",
       "       [2.73036719]])"
      ]
     },
     "execution_count": 16,
     "metadata": {},
     "output_type": "execute_result"
    }
   ],
   "source": [
    "theta"
   ]
  },
  {
   "cell_type": "markdown",
   "id": "ee6adceb",
   "metadata": {},
   "source": [
    "<br>\n",
    "\n",
    "To perform Linear Regression using SGD with Scikit-Learn\n",
    "code runs for maximum 1000 epochs (max_iter=1000) or until the loss drops\n",
    "by less than 1e-3 during one epoch (tol=1e-3), starting with a learning rate of 0.1\n",
    "(eta0=0.1), using the default learning schedule (different from the preceding one),\n",
    "and it does not use any regularization (penalty=None; more details on this shortly):"
   ]
  },
  {
   "cell_type": "code",
   "execution_count": 17,
   "id": "312a5c4a",
   "metadata": {},
   "outputs": [
    {
     "data": {
      "text/plain": [
       "SGDRegressor(eta0=0.1, penalty=None)"
      ]
     },
     "execution_count": 17,
     "metadata": {},
     "output_type": "execute_result"
    }
   ],
   "source": [
    "from sklearn.linear_model import SGDRegressor\n",
    "\n",
    "sgd_reg = SGDRegressor(max_iter=1000, tol=1e-3, penalty=None, eta0=0.1)\n",
    "sgd_reg.fit(X, y.ravel())"
   ]
  },
  {
   "cell_type": "code",
   "execution_count": 18,
   "id": "5eba934f",
   "metadata": {},
   "outputs": [
    {
     "data": {
      "text/plain": [
       "(array([4.22609703]), array([2.79227913]))"
      ]
     },
     "execution_count": 18,
     "metadata": {},
     "output_type": "execute_result"
    }
   ],
   "source": [
    "sgd_reg.intercept_, sgd_reg.coef_"
   ]
  },
  {
   "cell_type": "markdown",
   "id": "569241bf",
   "metadata": {},
   "source": [
    "### Mini-batch Gradient Descent\n",
    "\n",
    "Minibatch GD computes the gradients on small random sets of instances called minibatches. <br>\n",
    "The algorithm’s progress in parameter space is less erratic than with SGD, especially\n",
    "with fairly large mini-batches. As a result, Mini-batch GD will end up walking\n",
    "around a bit closer to the minimum than SGD. But, on the other hand, it may be\n",
    "harder for it to escape from local minima."
   ]
  },
  {
   "cell_type": "markdown",
   "id": "fa0e784f",
   "metadata": {},
   "source": [
    "# Polynomial Regression"
   ]
  },
  {
   "cell_type": "code",
   "execution_count": 19,
   "id": "90a09e22",
   "metadata": {},
   "outputs": [],
   "source": [
    "np.random.seed(42)\n",
    "m = 100\n",
    "X = 6 * np.random.rand(m, 1) - 3\n",
    "y = 0.5 * X ** 2 + X + 2 + np.random.randn(m, 1)"
   ]
  },
  {
   "cell_type": "code",
   "execution_count": 20,
   "id": "b0854301",
   "metadata": {},
   "outputs": [
    {
     "data": {
      "image/png": "[encoded data removed]",
      "text/plain": [
       "<Figure size 432x288 with 1 Axes>"
      ]
     },
     "metadata": {
      "needs_background": "light"
     },
     "output_type": "display_data"
    }
   ],
   "source": [
    "plt.plot(X, y, 'b.')\n",
    "plt.xlabel(\"X\")\n",
    "plt.ylabel(\"y\")\n",
    "plt.show()"
   ]
  },
  {
   "cell_type": "markdown",
   "id": "5d03edbb",
   "metadata": {},
   "source": [
    "Scikit-Learn’s Poly\n",
    "nomialFeatures class to transform our training data, adding the square (2nd-degree\n",
    "polynomial) of each feature in the training set as new features."
   ]
  },
  {
   "cell_type": "code",
   "execution_count": 21,
   "id": "53ca2ae6",
   "metadata": {},
   "outputs": [
    {
     "data": {
      "text/plain": [
       "(array([-0.75275929]), array([-0.75275929,  0.56664654]))"
      ]
     },
     "execution_count": 21,
     "metadata": {},
     "output_type": "execute_result"
    }
   ],
   "source": [
    "from sklearn.preprocessing import PolynomialFeatures\n",
    "poly_features = PolynomialFeatures(degree=2, include_bias=False)\n",
    "X_poly = poly_features.fit_transform(X)\n",
    "\n",
    "X[0], X_poly[0]\n",
    "\n",
    "# X_poly now contains the original feature of X plus the square of this feature\n",
    "\n",
    "\n"
   ]
  },
  {
   "cell_type": "code",
   "execution_count": 22,
   "id": "b4733a3b",
   "metadata": {},
   "outputs": [
    {
     "data": {
      "text/plain": [
       "LinearRegression()"
      ]
     },
     "execution_count": 22,
     "metadata": {},
     "output_type": "execute_result"
    }
   ],
   "source": [
    "# fit a LinearRegression model to this extended training data\n",
    "\n",
    "lin_reg = LinearRegression()\n",
    "lin_reg.fit(X_poly, y)"
   ]
  },
  {
   "cell_type": "code",
   "execution_count": 23,
   "id": "045d4b9b",
   "metadata": {},
   "outputs": [
    {
     "data": {
      "text/plain": [
       "(array([1.78134581]), array([[0.93366893, 0.56456263]]))"
      ]
     },
     "execution_count": 23,
     "metadata": {},
     "output_type": "execute_result"
    }
   ],
   "source": [
    "lin_reg.intercept_, lin_reg.coef_"
   ]
  },
  {
   "cell_type": "code",
   "execution_count": 24,
   "id": "4abb0dac",
   "metadata": {},
   "outputs": [],
   "source": [
    "X_new = np.linspace(-3,3,100).reshape(100,1)\n",
    "X_new_poly = poly_features.fit_transform(X_new)\n",
    "y_new = lin_reg.predict(X_new_poly)"
   ]
  },
  {
   "cell_type": "code",
   "execution_count": 25,
   "id": "a985cc88",
   "metadata": {},
   "outputs": [
    {
     "data": {
      "image/png": "[encoded data removed]",
      "text/plain": [
       "<Figure size 432x288 with 1 Axes>"
      ]
     },
     "metadata": {
      "needs_background": "light"
     },
     "output_type": "display_data"
    }
   ],
   "source": [
    "plt.plot(X_new,y_new, 'r', label=\"Predictions\")\n",
    "plt.plot(X, y, 'b.')\n",
    "plt.legend()\n",
    "plt.xlabel(\"X1\")\n",
    "plt.ylabel(\"y\")\n",
    "plt.show()"
   ]
  },
  {
   "cell_type": "markdown",
   "id": "9e2bf393",
   "metadata": {},
   "source": [
    "# Learning Curves"
   ]
  },
  {
   "cell_type": "markdown",
   "id": "7682dbdf",
   "metadata": {},
   "source": [
    "We can get an estimate of a model’s generalization\n",
    "performance through cross-validation process as well as with Learning Curves.\n",
    "These are plots of the model’s performance\n",
    "on the training set and the validation set as a function of the training set size\n",
    "(or the training iteration). To generate the plots, simply train the model several times\n",
    "on different sized subsets of the training set."
   ]
  },
  {
   "cell_type": "code",
   "execution_count": 26,
   "id": "89d9b50c",
   "metadata": {},
   "outputs": [],
   "source": [
    "from sklearn.metrics import mean_squared_error\n",
    "from sklearn.model_selection import train_test_split\n",
    "\n",
    "def plot_learning_curves(model, X, y):\n",
    "    X_train, X_val, y_train, y_val = train_test_split(X, y, test_size=0.2)\n",
    "    train_errors, val_errors = [], []\n",
    "    \n",
    "    for m in range(1, len(X_train)):\n",
    "        model.fit(X_train[:m], y_train[:m])\n",
    "        y_train_predict = model.predict(X_train[:m])\n",
    "        y_val_predict = model.predict(X_val)\n",
    "        \n",
    "        train_errors.append(mean_squared_error(y_train[:m], y_train_predict))\n",
    "        val_errors.append(mean_squared_error(y_val, y_val_predict))\n",
    "        \n",
    "    plt.plot(np.sqrt(train_errors), \"r-+\", linewidth=2, label=\"train\")\n",
    "    plt.plot(np.sqrt(val_errors), \"b-\", linewidth=3, label=\"val\")\n",
    "    plt.xlabel(\"Training Set Size\")\n",
    "    plt.ylabel('RMSE')\n",
    "    plt.legend()"
   ]
  },
  {
   "cell_type": "code",
   "execution_count": 27,
   "id": "5015f3cc",
   "metadata": {},
   "outputs": [
    {
     "data": {
      "image/png": "[encoded data removed]",
      "text/plain": [
       "<Figure size 432x288 with 1 Axes>"
      ]
     },
     "metadata": {
      "needs_background": "light"
     },
     "output_type": "display_data"
    }
   ],
   "source": [
    "lin_reg = LinearRegression()\n",
    "plot_learning_curves(lin_reg, X, y)\n",
    "\n",
    "# These learning curves are typical of an underfitting model. Both curves have reached\n",
    "# a plateau; they are close and fairly high.\n",
    "# If model is underfitting the training data, adding more training examples will not help. \n",
    "# We need to use a more complex model or come up with better features."
   ]
  },
  {
   "cell_type": "code",
   "execution_count": 28,
   "id": "02d6d5fe",
   "metadata": {},
   "outputs": [
    {
     "data": {
      "image/png": "[encoded data removed]",
      "text/plain": [
       "<Figure size 432x288 with 1 Axes>"
      ]
     },
     "metadata": {
      "needs_background": "light"
     },
     "output_type": "display_data"
    }
   ],
   "source": [
    "# look at the learning curves of a 10th-degree polynomial model on the same data\n",
    "\n",
    "from sklearn.pipeline import Pipeline\n",
    "\n",
    "polynomial_regression = Pipeline([(\"poly_features\", PolynomialFeatures(degree=10, include_bias=False)),\n",
    "                                  (\"lin_reg\", LinearRegression()),\n",
    "])\n",
    "\n",
    "plot_learning_curves(polynomial_regression, X, y)"
   ]
  },
  {
   "cell_type": "markdown",
   "id": "c46056ce",
   "metadata": {},
   "source": [
    "# Regularized Linear Models"
   ]
  },
  {
   "cell_type": "markdown",
   "id": "a9c814d5",
   "metadata": {},
   "source": [
    "To reduce overfitting is to regularize the\n",
    "model (i.e., to constrain it): the fewer degrees of freedom it has, the harder it will be for it to overfit the data.\n",
    "A simple way to regularize a polynomial model is to reduce the number of polynomial degrees.\n",
    "For a linear model, regularization is typically achieved by constraining the weights of\n",
    "the model."
   ]
  },
  {
   "cell_type": "markdown",
   "id": "d4aa5706",
   "metadata": {},
   "source": [
    "### Ridge Regression\n",
    "\n",
    "Ridge Regression (also called Tikhonov regularization) is a regularized version of Linear\n",
    "Regression: a regularization term equal to $ αΣ_{i = 1} ^{n} θ_{i}^{2} $ is added to the cost function.\n",
    "This forces the learning algorithm to not only fit the data but also keep the model\n",
    "weights as small as possible. Note that the regularization term should only be added\n",
    "to the cost function during training. Once the model is trained, you want to evaluate\n",
    "the model’s performance using the unregularized performance measure. <br>\n",
    "\n",
    "The hyperparameter α controls how much you want to regularize the model. If α = 0\n",
    "then Ridge Regression is just Linear Regression. If α is very large, then all weights end\n",
    "up very close to zero and the result is a flat line going through the data’s mean.\n",
    "\n",
    "<br>\n",
    "\n",
    "<div>\n",
    "    <img src=\"images/ridge_R.png\", width='300' />\n",
    "</div>\n",
    "\n",
    "<br>\n",
    "\n",
    "The bias term $θ_{0}$ is not regularized(the sum starts at i = 1, not 0). <br>\n",
    "If we define w as the vector of feature weights $ (θ_{1} $ to $ θ_{n}) $, then the regularization term is\n",
    "simply equal to $ ½(∥ w ∥2)_{2} $, where $ ∥ w ∥_{2} $ represents the $ ℓ_{2} $ norm of the weight vector.For Gradient Descent, just add αw to the MSE gradient vector. <br>\n",
    "\n",
    "It is important to scale the data (e.g., using a StandardScaler)\n",
    "before performing Ridge Regression, as it is sensitive to the scale of\n",
    "the input features. This is true of most regularized models. <br>\n",
    "\n",
    "We can perform Ridge Regression either by computing a\n",
    "closed-form equation or by performing Gradient Descent.\n",
    "\n",
    "<br>\n",
    "\n",
    "<div>\n",
    "    <img src=\"images/ridge_R_closed.png\", width='300' />\n",
    "</div>\n"
   ]
  },
  {
   "cell_type": "code",
   "execution_count": 29,
   "id": "1df8bb1e",
   "metadata": {},
   "outputs": [],
   "source": [
    "np.random.seed(42)\n",
    "m = 20\n",
    "X = 3 * np.random.rand(m, 1)\n",
    "y = 1 + 0.5 * X + np.random.randn(m, 1) / 1.5\n",
    "X_new = np.linspace(0, 3, 100).reshape(100, 1)"
   ]
  },
  {
   "cell_type": "code",
   "execution_count": 30,
   "id": "d922d435",
   "metadata": {},
   "outputs": [
    {
     "data": {
      "image/png": "[encoded data removed]",
      "text/plain": [
       "<Figure size 432x288 with 1 Axes>"
      ]
     },
     "metadata": {
      "needs_background": "light"
     },
     "output_type": "display_data"
    }
   ],
   "source": [
    "# extra code – a quick peek at the dataset we just generated\n",
    "plt.figure(figsize=(6, 4))\n",
    "plt.plot(X, y, \".\")\n",
    "plt.xlabel(\"$x_1$\")\n",
    "plt.ylabel(\"$y$  \", rotation=0)\n",
    "plt.axis([0, 3, 0, 3.5])\n",
    "plt.grid()\n",
    "plt.show()"
   ]
  },
  {
   "cell_type": "code",
   "execution_count": 31,
   "id": "25fc9520",
   "metadata": {},
   "outputs": [
    {
     "data": {
      "text/plain": [
       "Ridge(alpha=1, solver='cholesky')"
      ]
     },
     "execution_count": 31,
     "metadata": {},
     "output_type": "execute_result"
    }
   ],
   "source": [
    "from sklearn.linear_model import Ridge\n",
    "\n",
    "ridge_reg = Ridge(alpha=1, solver='cholesky')\n",
    "ridge_reg.fit(X,y)"
   ]
  },
  {
   "cell_type": "code",
   "execution_count": 32,
   "id": "74f2c4b8",
   "metadata": {},
   "outputs": [
    {
     "data": {
      "text/plain": [
       "array([[1.55071465]])"
      ]
     },
     "execution_count": 32,
     "metadata": {},
     "output_type": "execute_result"
    }
   ],
   "source": [
    "ridge_reg.predict([[1.5]])"
   ]
  },
  {
   "cell_type": "code",
   "execution_count": 33,
   "id": "7e73ff13",
   "metadata": {},
   "outputs": [
    {
     "data": {
      "text/plain": [
       "array([1.46543286])"
      ]
     },
     "execution_count": 33,
     "metadata": {},
     "output_type": "execute_result"
    }
   ],
   "source": [
    "# using SGD\n",
    "\n",
    "sgd_reg = SGDRegressor(penalty='l2')\n",
    "sgd_reg.fit(X, y.ravel())\n",
    "sgd_reg.predict([[1.5]])"
   ]
  },
  {
   "cell_type": "markdown",
   "id": "f08950cd",
   "metadata": {},
   "source": [
    "### Lasso Regression\n",
    "Least Absolute Shrinkage and Selection Operator Regression (simply called Lasso\n",
    "Regression) is another regularized version of Linear Regression: just like Ridge\n",
    "Regression, it adds a regularization term to the cost function, but it uses the $ ℓ_{1} $ norm\n",
    "of the weight vector instead of half the square of the $ ℓ_{2} $ norm.\n",
    "\n",
    "<br>\n",
    "\n",
    "<div>\n",
    "    <img src=\"images/lasso_reg.png\", width='300' />\n",
    "</div>\n",
    "\n",
    "<br>\n",
    "\n",
    "Lasso Regression subgradient vector\n",
    "\n",
    "<div>\n",
    "    <img src=\"images/lasso_subgradient.png\", width='400' />\n",
    "</div>\n",
    "\n",
    "    "
   ]
  },
  {
   "cell_type": "code",
   "execution_count": 34,
   "id": "13b08697",
   "metadata": {},
   "outputs": [
    {
     "data": {
      "text/plain": [
       "array([1.53788174])"
      ]
     },
     "execution_count": 34,
     "metadata": {},
     "output_type": "execute_result"
    }
   ],
   "source": [
    "from sklearn.linear_model import Lasso\n",
    "lasso_reg = Lasso(alpha=0.1)\n",
    "lasso_reg.fit(X, y)\n",
    "lasso_reg.predict([[1.5]])"
   ]
  },
  {
   "cell_type": "markdown",
   "id": "4584eebb",
   "metadata": {},
   "source": [
    "### Elastic Net"
   ]
  },
  {
   "cell_type": "markdown",
   "id": "02d1620b",
   "metadata": {},
   "source": [
    "Elastic Net is a middle ground between Ridge Regression and Lasso Regression. The\n",
    "regularization term is a simple mix of both Ridge and Lasso’s regularization terms,\n",
    "and you can control the mix ratio r. When r = 0, Elastic Net is equivalent to Ridge\n",
    "Regression, and when r = 1, it is equivalent to Lasso Regression.\n",
    "\n",
    "<br>\n",
    "\n",
    "<div>\n",
    "    <img src=\"images/elastic_reg.png\", width='400' />\n",
    "</div>\n",
    "\n",
    "<br>\n",
    "It is almost always preferable to have at least a little bit of\n",
    "regularization, so generally you should avoid plain Linear Regression. Ridge is a good\n",
    "default, but if you suspect that only a few features are actually useful, you should prefer\n",
    "Lasso or Elastic Net since they tend to reduce the useless features’ weights down to\n",
    "zero. <br>\n",
    "Elastic Net is preferred over Lasso since Lasso\n",
    "may behave erratically when the number of features is greater than the number of\n",
    "training instances or when several features are strongly correlated."
   ]
  },
  {
   "cell_type": "code",
   "execution_count": 35,
   "id": "9389f5bc",
   "metadata": {},
   "outputs": [
    {
     "data": {
      "text/plain": [
       "array([1.54333232])"
      ]
     },
     "execution_count": 35,
     "metadata": {},
     "output_type": "execute_result"
    }
   ],
   "source": [
    "from sklearn.linear_model import ElasticNet\n",
    "\n",
    "elastic_Net_reg = ElasticNet(alpha=0.1, l1_ratio=0.5)\n",
    "elastic_Net_reg.fit(X,y)\n",
    "elastic_Net_reg.predict([[1.5]])"
   ]
  },
  {
   "cell_type": "markdown",
   "id": "c902c615",
   "metadata": {},
   "source": [
    "### Early Stopping\n",
    "A very different way to regularize iterative learning algorithms such as Gradient\n",
    "Descent is to stop training as soon as the validation error reaches a minimum. This is\n",
    "called early stopping.\n",
    "\n",
    "<br>\n",
    "\n",
    "<div>\n",
    "    <img src=\"images/early_stoping.jpg\", width='400' />\n",
    "</div>\n",
    "\n",
    "<br>\n",
    "As the epochs go by, the algorithm learns and its prediction error (RMSE) on the training set\n",
    "naturally goes down, and so does its prediction error on the validation set. However,\n",
    "after a while the validation error stops decreasing and actually starts to go back up.\n",
    "This indicates that the model has started to overfit the training data. <br>\n",
    "With Stochastic and Mini-batch Gradient Descent, the curves are\n",
    "not so smooth, and it may be hard to know whether you have\n",
    "reached the minimum or not. One solution is to stop only after the\n",
    "validation error has been above the minimum for some time (when\n",
    "you are confident that the model will not do any better), then roll\n",
    "back the model parameters to the point where the validation error\n",
    "was at a minimum."
   ]
  },
  {
   "cell_type": "markdown",
   "id": "4e7dec8f",
   "metadata": {},
   "source": [
    "# Logistic Regression\n",
    "Logistic Regression (also called Logit Regression) is commonly\n",
    "used to estimate the probability that an instance belongs to a particular class\n",
    "(e.g., what is the probability that this email is spam?). If the estimated probability is\n",
    "greater than 50%, then the model predicts that the instance belongs to that class\n",
    "(called the positive class, labeled “1”), or else it predicts that it does not (i.e., it\n",
    "belongs to the negative class, labeled “0”). This makes it a binary classifier.\n"
   ]
  },
  {
   "cell_type": "markdown",
   "id": "ce307a8c",
   "metadata": {},
   "source": [
    "### Estimating Probabilities\n",
    "Logistic Regression\n",
    "model computes a weighted sum of the input features (plus a bias term), but instead\n",
    "of outputting the result directly like the Linear Regression model does, it outputs the\n",
    "logistic of this result.\n",
    "\n",
    "<br>\n",
    "\n",
    "<div>\n",
    "    <img src=\"images/logistic_Reg.jpg\", width='300' />\n",
    "</div>\n",
    "\n",
    "<br>\n",
    "\n",
    "The logistic—noted σ(·)—is a sigmoid function (i.e., S-shaped) that outputs a number\n",
    "between 0 and 1.\n",
    "\n",
    "<br>\n",
    "\n",
    "<div>\n",
    "    <img src=\"images/sig_Func.png\", width='300' />\n",
    "</div>\n",
    "\n",
    "<br>\n",
    "<br>\n",
    "\n",
    "<div>\n",
    "    <img src=\"images/logistic_Reg_2.png\", width='300' />\n",
    "</div>\n",
    "\n",
    "<br>\n",
    "\n",
    "The score t is often called the logit: this name comes from the fact\n",
    "that the logit function, defined as logit(p) = log(p / (1 - p)), is the\n",
    "inverse of the logistic function. Indeed, if you compute the logit of\n",
    "the estimated probability p, you will find that the result is t. The\n",
    "logit is also called the log-odds, since it is the log of the ratio\n",
    "between the estimated probability for the positive class and the\n",
    "estimated probability for the negative class."
   ]
  },
  {
   "cell_type": "markdown",
   "id": "a45424ee",
   "metadata": {},
   "source": [
    "### Training and Cost Function\n",
    "The objective of training is to set the parameter\n",
    "vector θ so that the model estimates high probabilities for positive instances (y = 1) and low probabilities for negative instances (y = 0). This idea is captured by the\n",
    "cost function shown in Equation for a single training instance x.\n",
    "\n",
    "\n",
    "\n",
    "<div>\n",
    "    <img src=\"images/cost_funct_LR.png\", width='300' />\n",
    "</div>\n",
    "\n",
    "<br>\n",
    "\n",
    "<div>\n",
    "    <img src=\"images/LR_costF_graph_2.png\", width='500' />\n",
    "</div>\n",
    "\n",
    "The Red line represents 1 class. As we can see, when the predicted probability (x-axis) is close to 1, the loss is less and when the predicted probability is close to 0, loss approaches infinity.\n",
    "\n",
    "The Black line represents 0 class. As we can see, when the predicted probability (x-axis) is close to 0, the loss is less and when the predicted probability is close to 1, loss approaches infinity.\n",
    "\n",
    "<br>\n",
    "\n",
    "<div>\n",
    "    <img src=\"images/log_loss.png\", width='500' />\n",
    "</div>\n",
    "\n",
    "<br>\n",
    "\n",
    "The bad news is that there is no known closed-form equation to compute the value of\n",
    "θ that minimizes this cost function (there is no equivalent of the Normal Equation).\n",
    "But the good news is that this cost function is convex, so Gradient Descent (or any\n",
    "other optimization algorithm) is guaranteed to find the global minimum.\n",
    "\n",
    "<br>\n",
    "\n",
    "<div>\n",
    "    <img src=\"images/cf_partial_der.png\", width='400' />\n",
    "</div>\n",
    "\n",
    "<br>\n",
    "\n"
   ]
  },
  {
   "cell_type": "markdown",
   "id": "63d66a90",
   "metadata": {},
   "source": [
    "### Decision Boundaries"
   ]
  },
  {
   "cell_type": "code",
   "execution_count": 36,
   "id": "8bde12fa",
   "metadata": {},
   "outputs": [],
   "source": [
    "# Let’s try to build a classifier to detect the Iris-Virginica type based only on the petal width feature.\n",
    "\n",
    "from sklearn import datasets\n",
    "\n",
    "iris = datasets.load_iris()"
   ]
  },
  {
   "cell_type": "code",
   "execution_count": 37,
   "id": "5234cfe6",
   "metadata": {},
   "outputs": [
    {
     "data": {
      "text/plain": [
       "['data',\n",
       " 'target',\n",
       " 'frame',\n",
       " 'target_names',\n",
       " 'DESCR',\n",
       " 'feature_names',\n",
       " 'filename',\n",
       " 'data_module']"
      ]
     },
     "execution_count": 37,
     "metadata": {},
     "output_type": "execute_result"
    }
   ],
   "source": [
    "list(iris.keys())"
   ]
  },
  {
   "cell_type": "code",
   "execution_count": 44,
   "id": "54f168cc",
   "metadata": {},
   "outputs": [],
   "source": [
    "# petal width\n",
    "\n",
    "X = iris['data'][:,3:]  "
   ]
  },
  {
   "cell_type": "code",
   "execution_count": 52,
   "id": "3e58f3a0",
   "metadata": {},
   "outputs": [],
   "source": [
    "# 1 if Iris-Virginica, else 0\n",
    "\n",
    "y = (iris[\"target\"] == 2).astype(np.int32)"
   ]
  },
  {
   "cell_type": "code",
   "execution_count": 56,
   "id": "e0d67e89",
   "metadata": {},
   "outputs": [
    {
     "data": {
      "text/plain": [
       "LogisticRegression()"
      ]
     },
     "execution_count": 56,
     "metadata": {},
     "output_type": "execute_result"
    }
   ],
   "source": [
    "from sklearn.linear_model import LogisticRegression\n",
    "\n",
    "log_Reg = LogisticRegression()\n",
    "log_Reg.fit(X, y)"
   ]
  },
  {
   "cell_type": "code",
   "execution_count": 65,
   "id": "8127aa6d",
   "metadata": {},
   "outputs": [
    {
     "data": {
      "text/plain": [
       "Text(0, 0.5, 'Probability')"
      ]
     },
     "execution_count": 65,
     "metadata": {},
     "output_type": "execute_result"
    },
    {
     "data": {
      "image/png": "[encoded data removed]",
      "text/plain": [
       "<Figure size 432x288 with 1 Axes>"
      ]
     },
     "metadata": {
      "needs_background": "light"
     },
     "output_type": "display_data"
    }
   ],
   "source": [
    "X_new = np.linspace(0, 3, 1000).reshape(-1,1)\n",
    "y_proba = log_Reg.predict_proba(X_new)\n",
    "plt.plot(X_new, y_proba[:, 1], \"g-\", label=\"Iris-Virginica\")\n",
    "plt.plot(X_new, y_proba[:, 0], \"b--\", label=\"Not Iris-Virginica\")\n",
    "plt.legend()\n",
    "plt.xlabel('Petal width (cm)')\n",
    "plt.ylabel('Probability')"
   ]
  },
  {
   "cell_type": "code",
   "execution_count": 66,
   "id": "916a75cb",
   "metadata": {},
   "outputs": [
    {
     "data": {
      "text/plain": [
       "array([1, 0])"
      ]
     },
     "execution_count": 66,
     "metadata": {},
     "output_type": "execute_result"
    }
   ],
   "source": [
    "log_Reg.predict([[1.7],[1.5]])"
   ]
  },
  {
   "cell_type": "markdown",
   "id": "7170e9cf",
   "metadata": {},
   "source": [
    "Just like the other linear models, Logistic Regression models can be regularized using\n",
    "ℓ1 or ℓ2 penalties. Scitkit-Learn actually adds an ℓ2 penalty by default.\n",
    "The hyperparameter controlling the regularization strength of a\n",
    "Scikit-Learn LogisticRegression model is not alpha (as in other\n",
    "linear models), but its inverse: C. The higher the value of C, the less\n",
    "the model is regularized."
   ]
  },
  {
   "cell_type": "markdown",
   "id": "5f9be305",
   "metadata": {},
   "source": [
    "### Softmax Regression\n",
    "The Logistic Regression model can be generalized to support multiple classes directly,\n",
    "without having to train and combine multiple binary classifiers.This is called Softmax Regression, or Multinomial Logistic Regression. <br>\n",
    "When given an instance x, the Softmax Regression model\n",
    "first computes a score sk(x) for each class k, then estimates the probability of each\n",
    "class by applying the softmax function (also called the normalized exponential) to the\n",
    "scores.\n",
    "\n",
    "Softmax score for class k\n",
    "$ s_{k}(x) = x^{T}(θ)^{k} $ <br>\n",
    "\n",
    "Note that each class has its own dedicated parameter vector θ(k). All these vectors are\n",
    "typically stored as rows in a parameter matrix Θ. <br>\n",
    "\n",
    "Once you have computed the score of every class for the instance x, you can estimate\n",
    "the probability pk that the instance belongs to class k by running the scores through\n",
    "the softmax function, it computes the exponential of every score,\n",
    "then normalizes them (dividing by the sum of all the exponentials). The scores are\n",
    "generally called logits or log-odds (although they are actually unnormalized logodds).\n",
    "\n",
    "<br>\n",
    "\n",
    "<div>\n",
    "    <img src=\"images/softmax_func.png\", width='400' />\n",
    "</div>\n",
    "\n",
    "<br>\n",
    "\n",
    "- K is the number of classes.\n",
    "- s(x) is a vector containing the scores of each class for the instance x.\n",
    "- σ(s(x))k is the estimated probability that the instance x belongs to class k given\n",
    "the scores of each class for that instance.\n",
    "\n",
    "<br>\n",
    "\n",
    "<div>\n",
    "    <img src=\"images/argmax.png\", width='500' />\n",
    "</div>\n",
    "\n",
    "<br>\n",
    "\n",
    "- The argmax operator returns the value of a variable that maximizes a function. In\n",
    "this equation, it returns the value of k that maximizes the estimated probability\n",
    "σ(s(x))k. <br>\n",
    "\n",
    "The Softmax Regression classifier predicts only one class at a time\n",
    "(i.e., it is multiclass, not multioutput) so it should be used only with\n",
    "mutually exclusive classes such as different types of plants. You\n",
    "cannot use it to recognize multiple people in one picture.\n",
    "\n",
    "<br>\n",
    "\n",
    "The objective is to have a model that estimates a high\n",
    "probability for the target class (and consequently a low probability for the other\n",
    "classes). Minimizing the cost function shown in Equation 4-22, called the cross\n",
    "entropy, should lead to this objective because it penalizes the model when it estimates\n",
    "a low probability for a target class. Cross entropy is frequently used to measure how well a set of estimated class probabilities match the target classes.\n",
    "\n",
    "<br>\n",
    "\n",
    "<div>\n",
    "    <img src=\"images/cross_entropy.png\", width='400' />\n",
    "</div>\n",
    "\n",
    "<br>\n",
    "\n",
    "- $ y_{k} ^{(i)} $ is the target probability that the ith instance belongs to class k. In general, it is\n",
    "either equal to 1 or 0, depending on whether the instance belongs to the class or\n",
    "not."
   ]
  },
  {
   "cell_type": "markdown",
   "id": "28ee062a",
   "metadata": {},
   "source": [
    "#### Cross Entropy\n",
    "\n",
    "Cross entropy originated from information theory. Suppose you want to efficiently\n",
    "transmit information about the weather every day. If there are eight options (sunny,\n",
    "rainy, etc.), you could encode each option using 3 bits since 23 = 8. However, if you\n",
    "think it will be sunny almost every day, it would be much more efficient to code\n",
    "“sunny” on just one bit (0) and the other seven options on 4 bits (starting with a 1).\n",
    "Cross entropy measures the average number of bits you actually send per option. If\n",
    "your assumption about the weather is perfect, cross entropy will just be equal to the\n",
    "entropy of the weather itself (i.e., its intrinsic unpredictability). But if your assumptions\n",
    "are wrong (e.g., if it rains often), cross entropy will be greater by an amount\n",
    "called the Kullback–Leibler divergence. <br>\n",
    "\n",
    "Cross entropy gradient vector for class k\n",
    "\n",
    "<br>\n",
    "\n",
    "<div>\n",
    "    <img src=\"images/cross_entropy_GV.png\", width='400' />\n",
    "</div>\n",
    "\n",
    "<br>\n",
    "\n",
    "Scikit-\n",
    "Learn’s LogisticRegression uses one-versus-all by default when you train it on more\n",
    "than two classes, but you can set the multi_class hyperparameter to \"multinomial\"\n",
    "to switch it to Softmax Regression instead. You must also specify a solver that supports\n",
    "Softmax Regression, such as the \"lbfgs\" solver.\n",
    "It also applies $ℓ_2 $ regularization by default, which you can\n",
    "control using the hyperparameter C.\n"
   ]
  },
  {
   "cell_type": "code",
   "execution_count": 67,
   "id": "56bd4c4a",
   "metadata": {},
   "outputs": [
    {
     "data": {
      "text/plain": [
       "LogisticRegression(C=10, multi_class='multinomial')"
      ]
     },
     "execution_count": 67,
     "metadata": {},
     "output_type": "execute_result"
    }
   ],
   "source": [
    "X = iris[\"data\"][:, (2, 3)] # petal length, petal width\n",
    "y = iris[\"target\"]\n",
    "softmax_reg = LogisticRegression(multi_class=\"multinomial\",solver=\"lbfgs\", C=10)\n",
    "softmax_reg.fit(X, y)"
   ]
  },
  {
   "cell_type": "code",
   "execution_count": 68,
   "id": "8bdc9949",
   "metadata": {},
   "outputs": [
    {
     "data": {
      "text/plain": [
       "array([2])"
      ]
     },
     "execution_count": 68,
     "metadata": {},
     "output_type": "execute_result"
    }
   ],
   "source": [
    "softmax_reg.predict([[5, 2]])"
   ]
  },
  {
   "cell_type": "code",
   "execution_count": 69,
   "id": "f4c2cdab",
   "metadata": {},
   "outputs": [
    {
     "data": {
      "text/plain": [
       "array([[6.38014896e-07, 5.74929995e-02, 9.42506362e-01]])"
      ]
     },
     "execution_count": 69,
     "metadata": {},
     "output_type": "execute_result"
    }
   ],
   "source": [
    "softmax_reg.predict_proba([[5, 2]])"
   ]
  },
  {
   "cell_type": "code",
   "execution_count": null,
   "id": "12ad8d5b",
   "metadata": {},
   "outputs": [],
   "source": []
  }
 ],
 "metadata": {
  "kernelspec": {
   "display_name": "Python 3 (ipykernel)",
   "language": "python",
   "name": "python3"
  },
  "language_info": {
   "codemirror_mode": {
    "name": "ipython",
    "version": 3
   },
   "file_extension": ".py",
   "mimetype": "text/x-python",
   "name": "python",
   "nbconvert_exporter": "python",
   "pygments_lexer": "ipython3",
   "version": "3.9.7"
  }
 },
 "nbformat": 4,
 "nbformat_minor": 5
}
