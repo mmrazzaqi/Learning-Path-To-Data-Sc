{
 "cells": [
  {
   "cell_type": "markdown",
   "id": "554296c3",
   "metadata": {},
   "source": [
    "# Numpy in Linear Algebra\n",
    "\n",
    "#### Vectors\n",
    "- point in space (elements are dimensions of vector)\n",
    "- 1st order tensor\n",
    "- scalar addition and multiplication operation strech out or strech in a vector and produce a new vector\n"
   ]
  },
  {
   "cell_type": "code",
   "execution_count": 5,
   "id": "23e36b6b",
   "metadata": {},
   "outputs": [
    {
     "data": {
      "text/plain": [
       "array([1, 2, 3, 4, 5, 6, 7])"
      ]
     },
     "execution_count": 5,
     "metadata": {},
     "output_type": "execute_result"
    }
   ],
   "source": [
    "import numpy as np\n",
    "\n",
    "# vectors\n",
    "\n",
    "vector_1 = np.array([1,2,3,4,5,6,7])\n",
    "vector_1"
   ]
  },
  {
   "cell_type": "code",
   "execution_count": 6,
   "id": "3df15ac6",
   "metadata": {},
   "outputs": [
    {
     "data": {
      "text/plain": [
       "array([ 2,  4,  6,  8, 10, 12, 14])"
      ]
     },
     "execution_count": 6,
     "metadata": {},
     "output_type": "execute_result"
    }
   ],
   "source": [
    "vector_1 * 2"
   ]
  },
  {
   "cell_type": "code",
   "execution_count": 7,
   "id": "eface1fd",
   "metadata": {},
   "outputs": [
    {
     "data": {
      "text/plain": [
       "array([ 6,  7,  8,  9, 10, 11, 12])"
      ]
     },
     "execution_count": 7,
     "metadata": {},
     "output_type": "execute_result"
    }
   ],
   "source": [
    "vector_1 + 5"
   ]
  },
  {
   "cell_type": "code",
   "execution_count": 8,
   "id": "9ed98e18",
   "metadata": {},
   "outputs": [],
   "source": [
    "vector_2 = np.array([2,5,6,7,8,9,1])"
   ]
  },
  {
   "cell_type": "code",
   "execution_count": 9,
   "id": "aa5fd498",
   "metadata": {},
   "outputs": [
    {
     "data": {
      "text/plain": [
       "array([ 3,  7,  9, 11, 13, 15,  8])"
      ]
     },
     "execution_count": 9,
     "metadata": {},
     "output_type": "execute_result"
    }
   ],
   "source": [
    "vector_1 + vector_2"
   ]
  },
  {
   "cell_type": "markdown",
   "id": "446b4174",
   "metadata": {},
   "source": [
    "#### Matrix\n",
    "- 2nd order tensor\n",
    "- two dimensional array of numbers"
   ]
  },
  {
   "cell_type": "code",
   "execution_count": 10,
   "id": "33478cc3",
   "metadata": {},
   "outputs": [
    {
     "data": {
      "text/plain": [
       "array([[10, 48,  0,  6, 42, 21, 45],\n",
       "       [49,  2, 18, 19,  1, 48, 45],\n",
       "       [12, 18, 16,  4, 25, 15, 24],\n",
       "       [37, 30, 48, 37, 47,  6,  2],\n",
       "       [34, 41, 42, 31,  2, 23, 40],\n",
       "       [12, 24, 42, 29, 21,  0, 21],\n",
       "       [16, 44, 21, 27, 34, 40, 18]])"
      ]
     },
     "execution_count": 10,
     "metadata": {},
     "output_type": "execute_result"
    }
   ],
   "source": [
    "# matrix\n",
    "\n",
    "matrix_1 = np.random.randint(50, size=(7,7))\n",
    "matrix_1"
   ]
  },
  {
   "cell_type": "code",
   "execution_count": 11,
   "id": "1be7e9e3",
   "metadata": {},
   "outputs": [
    {
     "data": {
      "text/plain": [
       "array([[15, 53,  5, 11, 47, 26, 50],\n",
       "       [54,  7, 23, 24,  6, 53, 50],\n",
       "       [17, 23, 21,  9, 30, 20, 29],\n",
       "       [42, 35, 53, 42, 52, 11,  7],\n",
       "       [39, 46, 47, 36,  7, 28, 45],\n",
       "       [17, 29, 47, 34, 26,  5, 26],\n",
       "       [21, 49, 26, 32, 39, 45, 23]])"
      ]
     },
     "execution_count": 11,
     "metadata": {},
     "output_type": "execute_result"
    }
   ],
   "source": [
    "matrix_1 + 5"
   ]
  },
  {
   "cell_type": "code",
   "execution_count": 12,
   "id": "bfde943d",
   "metadata": {},
   "outputs": [
    {
     "data": {
      "text/plain": [
       "array([[20, 96,  0, 12, 84, 42, 90],\n",
       "       [98,  4, 36, 38,  2, 96, 90],\n",
       "       [24, 36, 32,  8, 50, 30, 48],\n",
       "       [74, 60, 96, 74, 94, 12,  4],\n",
       "       [68, 82, 84, 62,  4, 46, 80],\n",
       "       [24, 48, 84, 58, 42,  0, 42],\n",
       "       [32, 88, 42, 54, 68, 80, 36]])"
      ]
     },
     "execution_count": 12,
     "metadata": {},
     "output_type": "execute_result"
    }
   ],
   "source": [
    "matrix_1 * 2"
   ]
  },
  {
   "cell_type": "markdown",
   "id": "7d0cc3bc",
   "metadata": {},
   "source": [
    "#### Tensors\n",
    "- array of numbers with dimension greater than 2\n",
    "- 3rd and higher ordered tensors\n",
    "- color images, video data"
   ]
  },
  {
   "cell_type": "code",
   "execution_count": 13,
   "id": "995ff140",
   "metadata": {},
   "outputs": [
    {
     "data": {
      "text/plain": [
       "array([[[20, 35, 33, 36, 45],\n",
       "        [17, 11,  4, 35, 42],\n",
       "        [45, 13, 42, 14,  3]],\n",
       "\n",
       "       [[38, 11, 35, 19, 13],\n",
       "        [46, 23, 34,  9, 17],\n",
       "        [13, 15, 15, 48, 25]],\n",
       "\n",
       "       [[42,  8, 24, 46, 38],\n",
       "        [45, 11, 17,  9, 12],\n",
       "        [26, 33, 42, 23, 38]]])"
      ]
     },
     "execution_count": 13,
     "metadata": {},
     "output_type": "execute_result"
    }
   ],
   "source": [
    "tensor_1 = np.random.randint(50, size=(3,3,5))\n",
    "tensor_1"
   ]
  },
  {
   "cell_type": "code",
   "execution_count": 14,
   "id": "92a54c27",
   "metadata": {},
   "outputs": [
    {
     "data": {
      "text/plain": [
       "(3, 3, 5)"
      ]
     },
     "execution_count": 14,
     "metadata": {},
     "output_type": "execute_result"
    }
   ],
   "source": [
    "tensor_1.shape"
   ]
  },
  {
   "cell_type": "code",
   "execution_count": 15,
   "id": "81d1bc2a",
   "metadata": {},
   "outputs": [
    {
     "data": {
      "text/plain": [
       "45"
      ]
     },
     "execution_count": 15,
     "metadata": {},
     "output_type": "execute_result"
    }
   ],
   "source": [
    "tensor_1.size"
   ]
  },
  {
   "cell_type": "code",
   "execution_count": 16,
   "id": "c26cb4d9",
   "metadata": {},
   "outputs": [
    {
     "data": {
      "text/plain": [
       "159"
      ]
     },
     "execution_count": 16,
     "metadata": {},
     "output_type": "execute_result"
    }
   ],
   "source": [
    "# dot product\n",
    "\n",
    "vector_1.dot(vector_2)"
   ]
  },
  {
   "cell_type": "code",
   "execution_count": 17,
   "id": "85f963a0",
   "metadata": {},
   "outputs": [
    {
     "data": {
      "text/plain": [
       "array([[1, 5],\n",
       "       [1, 5]])"
      ]
     },
     "execution_count": 17,
     "metadata": {},
     "output_type": "execute_result"
    }
   ],
   "source": [
    "matrix_A = np.random.randint(10, size=(2,2))\n",
    "matrix_A"
   ]
  },
  {
   "cell_type": "code",
   "execution_count": 18,
   "id": "e7f20c5b",
   "metadata": {},
   "outputs": [
    {
     "data": {
      "text/plain": [
       "matrix([[3, 4],\n",
       "        [9, 2]])"
      ]
     },
     "execution_count": 18,
     "metadata": {},
     "output_type": "execute_result"
    }
   ],
   "source": [
    "matrix_B = np.matrix(np.random.randint(10,size=(2,2)))\n",
    "matrix_B"
   ]
  },
  {
   "cell_type": "code",
   "execution_count": 19,
   "id": "26f48821",
   "metadata": {},
   "outputs": [
    {
     "data": {
      "text/plain": [
       "3"
      ]
     },
     "execution_count": 19,
     "metadata": {},
     "output_type": "execute_result"
    }
   ],
   "source": [
    "matrix_B[0,0]"
   ]
  },
  {
   "cell_type": "code",
   "execution_count": 20,
   "id": "c84131d6",
   "metadata": {},
   "outputs": [
    {
     "data": {
      "text/plain": [
       "matrix([[3],\n",
       "        [9]])"
      ]
     },
     "execution_count": 20,
     "metadata": {},
     "output_type": "execute_result"
    }
   ],
   "source": [
    "matrix_B[:,0]"
   ]
  },
  {
   "cell_type": "code",
   "execution_count": 21,
   "id": "3eccb64a",
   "metadata": {},
   "outputs": [
    {
     "data": {
      "text/plain": [
       "matrix([[ 7, 35],\n",
       "        [11, 55]])"
      ]
     },
     "execution_count": 21,
     "metadata": {},
     "output_type": "execute_result"
    }
   ],
   "source": [
    "matrix_C = matrix_B.dot(matrix_A)\n",
    "matrix_C"
   ]
  },
  {
   "cell_type": "code",
   "execution_count": 22,
   "id": "d4d70731",
   "metadata": {},
   "outputs": [
    {
     "data": {
      "text/plain": [
       "array([[ 6, 33, 29, 18],\n",
       "       [ 0, 47, 27, 43],\n",
       "       [40, 23, 27, 42],\n",
       "       [14,  6,  7, 25]])"
      ]
     },
     "execution_count": 22,
     "metadata": {},
     "output_type": "execute_result"
    }
   ],
   "source": [
    "matrix_D = np.random.randint(50,size=(4,4))\n",
    "matrix_D"
   ]
  },
  {
   "cell_type": "code",
   "execution_count": 23,
   "id": "f3de5f37",
   "metadata": {},
   "outputs": [
    {
     "data": {
      "text/plain": [
       "array([[ 6., 33., 29., 18.],\n",
       "       [ 0., 47., 27., 43.],\n",
       "       [40., 23., 27., 42.],\n",
       "       [14.,  6.,  7., 25.]])"
      ]
     },
     "execution_count": 23,
     "metadata": {},
     "output_type": "execute_result"
    }
   ],
   "source": [
    "np.dot(matrix_D,np.identity(4))"
   ]
  },
  {
   "cell_type": "code",
   "execution_count": 24,
   "id": "9d15cc38",
   "metadata": {},
   "outputs": [
    {
     "data": {
      "text/plain": [
       "array([[-0.06268597,  0.02185747,  0.07709765, -0.121985  ],\n",
       "       [-0.10515995,  0.07833861,  0.0884309 , -0.20759115],\n",
       "       [ 0.15693776, -0.09004895, -0.09272286,  0.19766342],\n",
       "       [ 0.01639996, -0.00582775, -0.0384357 ,  0.10278772]])"
      ]
     },
     "execution_count": 24,
     "metadata": {},
     "output_type": "execute_result"
    }
   ],
   "source": [
    "matrix_E = np.linalg.inv(matrix_D)\n",
    "matrix_E"
   ]
  },
  {
   "cell_type": "code",
   "execution_count": 25,
   "id": "04eb9832",
   "metadata": {},
   "outputs": [
    {
     "name": "stdout",
     "output_type": "stream",
     "text": [
      "[[ 1.00000000e+00 -1.35308431e-16 -1.94289029e-16 -9.71445147e-16]\n",
      " [-1.38777878e-17  1.00000000e+00 -2.91433544e-16  3.19189120e-16]\n",
      " [-6.38378239e-16  4.05925293e-16  1.00000000e+00  2.49800181e-16]\n",
      " [-1.52655666e-16  1.40512602e-16 -9.71445147e-17  1.00000000e+00]]\n"
     ]
    }
   ],
   "source": [
    "print(np.dot(matrix_D,matrix_E))"
   ]
  },
  {
   "cell_type": "code",
   "execution_count": 26,
   "id": "9ee7dd9d",
   "metadata": {},
   "outputs": [
    {
     "data": {
      "text/plain": [
       "array([ 3, 14,  7,  1])"
      ]
     },
     "execution_count": 26,
     "metadata": {},
     "output_type": "execute_result"
    }
   ],
   "source": [
    "vector_3 = np.random.randint(1,15,4)\n",
    "vector_3"
   ]
  },
  {
   "cell_type": "markdown",
   "id": "8afb2d77",
   "metadata": {},
   "source": [
    "##### vdot function"
   ]
  },
  {
   "cell_type": "code",
   "execution_count": 27,
   "id": "b6be3b26",
   "metadata": {},
   "outputs": [
    {
     "data": {
      "text/plain": [
       "85"
      ]
     },
     "execution_count": 27,
     "metadata": {},
     "output_type": "execute_result"
    }
   ],
   "source": [
    "np.vdot(vector_3,matrix_A)"
   ]
  },
  {
   "cell_type": "markdown",
   "id": "6a86abef",
   "metadata": {},
   "source": [
    "#### np.dot and np.matmul\n",
    "The numpy.dot() function is used for performing matrix multiplication in Python. It also checks the condition for matrix multiplication, that is, the number of columns of the first matrix must be equal to the number of the rows of the second. It works with multi-dimensional arrays also. We can also specify an alternate array as a parameter to store the result. The @ operator for multiplication invokes the matmul() function of an array that is used to perform the same multiplication. \n",
    "<br>\n",
    "The matmul() function broadcasts the array like a stack of matrices as elements residing in the last two indexes, respectively. The numpy.dot() function, on the other hand, performs multiplication as the sum of products over the last axis of the first array and the second-to-last of the second.\n",
    "<br>\n",
    "Another difference between the matmul() and the numpy.dot function is that the matmul() function cannot perform multiplication of array with scalar values."
   ]
  },
  {
   "cell_type": "code",
   "execution_count": 30,
   "id": "e7e6af9e",
   "metadata": {},
   "outputs": [
    {
     "data": {
      "text/plain": [
       "matrix([[48, 14],\n",
       "        [48, 14]])"
      ]
     },
     "execution_count": 30,
     "metadata": {},
     "output_type": "execute_result"
    }
   ],
   "source": [
    "np.dot(matrix_A,matrix_B)"
   ]
  },
  {
   "cell_type": "code",
   "execution_count": 31,
   "id": "5e7040d6",
   "metadata": {},
   "outputs": [
    {
     "data": {
      "text/plain": [
       "matrix([[48, 14],\n",
       "        [48, 14]])"
      ]
     },
     "execution_count": 31,
     "metadata": {},
     "output_type": "execute_result"
    }
   ],
   "source": [
    "np.matmul(matrix_A,matrix_B)"
   ]
  },
  {
   "cell_type": "markdown",
   "id": "68809075",
   "metadata": {},
   "source": [
    "#### det"
   ]
  },
  {
   "cell_type": "code",
   "execution_count": 33,
   "id": "b457d796",
   "metadata": {},
   "outputs": [
    {
     "data": {
      "text/plain": [
       "-30.000000000000014"
      ]
     },
     "execution_count": 33,
     "metadata": {},
     "output_type": "execute_result"
    }
   ],
   "source": [
    "np.linalg.det(matrix_B)"
   ]
  },
  {
   "cell_type": "code",
   "execution_count": null,
   "id": "792d7b7b",
   "metadata": {},
   "outputs": [],
   "source": []
  }
 ],
 "metadata": {
  "kernelspec": {
   "display_name": "Python 3 (ipykernel)",
   "language": "python",
   "name": "python3"
  },
  "language_info": {
   "codemirror_mode": {
    "name": "ipython",
    "version": 3
   },
   "file_extension": ".py",
   "mimetype": "text/x-python",
   "name": "python",
   "nbconvert_exporter": "python",
   "pygments_lexer": "ipython3",
   "version": "3.9.7"
  }
 },
 "nbformat": 4,
 "nbformat_minor": 5
}
