{
 "cells": [
  {
   "cell_type": "markdown",
   "id": "6c42f95b",
   "metadata": {},
   "source": [
    "**Data types**\n",
    "1. Built-in-Dataypes\n",
    "2. User defined\n",
    "\n",
    "**Immutable.** Data types that are not changeable after assignment.\n",
    "\n",
    "**Mutable.** Data types that are changeable after assignment.\n",
    "\n",
    "**Built-in-Dataypes**\n",
    "- None\n",
    "- Numeric\n",
    "- Sequences\n",
    "- Sets\n",
    "- Mapping\n",
    "\n",
    "<img src=\"images/datatypes.png\" width=\"600\" />"
   ]
  },
  {
   "cell_type": "code",
   "execution_count": 2,
   "id": "3a42eafa",
   "metadata": {},
   "outputs": [
    {
     "name": "stdout",
     "output_type": "stream",
     "text": [
      "None\n",
      "<class 'NoneType'>\n"
     ]
    }
   ],
   "source": [
    "# None\n",
    "\n",
    "a = None\n",
    "print(a)\n",
    "print(type(a))"
   ]
  },
  {
   "cell_type": "markdown",
   "id": "6261ed28",
   "metadata": {},
   "source": [
    "### Numeric\n",
    "##### Integer\n",
    "\n",
    "- Integer values belong to the int class. Specifically, integers represent positive or negative whole numbers without a decimal.\n",
    "- Integers have unlimited precision. There is no distinction between long and short numbers. The length depends on the computer memory.\n",
    "- Binary, octal and hexadecimal number bases also evaluate to integers"
   ]
  },
  {
   "cell_type": "code",
   "execution_count": 23,
   "id": "e56e3273",
   "metadata": {},
   "outputs": [
    {
     "name": "stdout",
     "output_type": "stream",
     "text": [
      "<class 'int'>\n",
      "<class 'int'>\n",
      "<class 'int'>\n",
      "<class 'int'>\n",
      "<class 'int'>\n"
     ]
    }
   ],
   "source": [
    "b = 12\n",
    "print(type(b))\n",
    "\n",
    "very_long_int = 1234567890123456789012345678901234567890123456789012345678901234567890123456789012345678901234567890\n",
    "print(type(very_long_int))\n",
    "\n",
    "print(type(100011))\n",
    "\n",
    "# Octal\n",
    "print(type(0o12))\n",
    "\n",
    "# hexadecimal\n",
    "print(type(0xA))"
   ]
  },
  {
   "cell_type": "markdown",
   "id": "26c56fad",
   "metadata": {},
   "source": [
    "##### Floating-Point Numbers\n",
    "- Floating-point numbers in Python are numbers defined with a decimal point. The class type is float.\n",
    "- Internally, they are binary fractions, which means the number approximates the decimal counterpart. The difference between the real and the approximated value is often unnoticeable.\n",
    "- Alternatively, a number with the character E followed by a number indicates scientific notation(Scientific notation belongs to the floating-point class of numbers).\n",
    "- Floating-point numbers after $ 1.79×10^{308} $ evaluate to infinity. The smallest non-zero number is $5.0×10^{-324}$."
   ]
  },
  {
   "cell_type": "code",
   "execution_count": 24,
   "id": "9c733b3e",
   "metadata": {},
   "outputs": [
    {
     "name": "stdout",
     "output_type": "stream",
     "text": [
      "<class 'float'>\n"
     ]
    }
   ],
   "source": [
    "print(type(-1.0))"
   ]
  },
  {
   "cell_type": "code",
   "execution_count": 25,
   "id": "3f0c3ca6",
   "metadata": {},
   "outputs": [
    {
     "data": {
      "text/plain": [
       "3.4000000000000004"
      ]
     },
     "execution_count": 25,
     "metadata": {},
     "output_type": "execute_result"
    }
   ],
   "source": [
    "1.2 + 2.2"
   ]
  },
  {
   "cell_type": "code",
   "execution_count": 31,
   "id": "ece890a6",
   "metadata": {},
   "outputs": [
    {
     "name": "stdout",
     "output_type": "stream",
     "text": [
      "100.0 <class 'float'>\n",
      "100000.0\n"
     ]
    }
   ],
   "source": [
    "print(1e2, type(1e2))\n",
    "print(1E5)"
   ]
  },
  {
   "cell_type": "markdown",
   "id": "f9665c28",
   "metadata": {},
   "source": [
    "##### Complex"
   ]
  },
  {
   "cell_type": "code",
   "execution_count": 33,
   "id": "6673ae6c",
   "metadata": {},
   "outputs": [
    {
     "name": "stdout",
     "output_type": "stream",
     "text": [
      "<class 'complex'>\n",
      "2j is <class 'complex'>\n"
     ]
    }
   ],
   "source": [
    "print(type(1 + 2j))\n",
    "print(2j, \"is\", type(2j))"
   ]
  },
  {
   "cell_type": "markdown",
   "id": "9c041445",
   "metadata": {},
   "source": [
    "### Sequence Type\n",
    "Sequence types help represent sequential data stored into a single variable.\n",
    "##### String\n",
    "- Strings are a sequence of bytes representing Unicode characters.\n",
    "- Strings in Python are arrays of characters. To access individual elements, use indexing.\n",
    "\n",
    "##### Lists\n",
    "- The -1 index prints the last element in the list. Negative indexing is especially useful for navigating to the end of a long list of members.\n",
    "\n",
    "##### Tuples\n",
    "- Python Tuples are an array of unchangeable ordered elements. Once a tuple is stored into a variable, members cannot be added or removed. A tuple allows duplicate members of any type.\n",
    "- Tuples support indexing notation.\n",
    "- To access parts of a tuple, use slicing notation\n"
   ]
  },
  {
   "cell_type": "code",
   "execution_count": 50,
   "id": "8b30a26a",
   "metadata": {},
   "outputs": [
    {
     "name": "stdout",
     "output_type": "stream",
     "text": [
      "Python\n",
      "This is a string with 'single' quotes delimited by double quotes\n",
      "abc \"Python\" world\n",
      "hello \"world\" of python\n",
      "This is a multiline string\n",
      "with 'single', \"double\" and \"\"\"triple-double\"\"\" quotes\n",
      "delimited with triple single quotes\n"
     ]
    }
   ],
   "source": [
    "# Create a string by using double quote delimiters.\n",
    "# A string delimited with double quotes is helpful for strings containing single quotes or apostrophes. \n",
    "# Alternatively, you can use escape characters\n",
    "\n",
    "print(\"Python\")\n",
    "print(\"This is a string with 'single' quotes delimited by double quotes\")\n",
    "print(\"abc \\\"Python\\\" world\")\n",
    "\n",
    "# Create a string by using single quote delimiters\n",
    "print('hello \"world\" of python')\n",
    "\n",
    "# Create a multiline string by using triple single quote delimiters\n",
    "print('''This is a multiline string\n",
    "with 'single', \"double\" and \"\"\"triple-double\"\"\" quotes\n",
    "delimited with triple single quotes''')"
   ]
  },
  {
   "cell_type": "code",
   "execution_count": 54,
   "id": "1ab6ee4e",
   "metadata": {},
   "outputs": [
    {
     "data": {
      "text/plain": [
       "'oh'"
      ]
     },
     "execution_count": 54,
     "metadata": {},
     "output_type": "execute_result"
    }
   ],
   "source": [
    "# Access Elements of a String\n",
    "\n",
    "a = \"moh\"\n",
    "a[-1]\n",
    "\n",
    "# access part of string\n",
    "a[1:]"
   ]
  },
  {
   "cell_type": "code",
   "execution_count": 59,
   "id": "cef8ad77",
   "metadata": {},
   "outputs": [
    {
     "name": "stdout",
     "output_type": "stream",
     "text": [
      "<class 'list'>\n"
     ]
    }
   ],
   "source": [
    "# Lists\n",
    "A = [1, 2, \"Bob\", 3.4]\n",
    "print(type(A))"
   ]
  },
  {
   "cell_type": "code",
   "execution_count": 58,
   "id": "b67b8c34",
   "metadata": {},
   "outputs": [
    {
     "name": "stdout",
     "output_type": "stream",
     "text": [
      "[[1, 2, 'Bob', 3.4], 2, 3, 4]\n"
     ]
    }
   ],
   "source": [
    "# Make a nested list by adding a list to a list\n",
    "B = [A, 2, 3, 4]\n",
    "print(B)"
   ]
  },
  {
   "cell_type": "code",
   "execution_count": 61,
   "id": "16c784c5",
   "metadata": {},
   "outputs": [
    {
     "name": "stdout",
     "output_type": "stream",
     "text": [
      "('bare', 'metal', 'cloud', 2.0, 'cloud') <class 'tuple'>\n"
     ]
    }
   ],
   "source": [
    "# Tuples\n",
    "t = (\"bare\", \"metal\", \"cloud\", 2.0, \"cloud\")\n",
    "print(t, type(t))"
   ]
  },
  {
   "cell_type": "code",
   "execution_count": 62,
   "id": "62081a75",
   "metadata": {},
   "outputs": [
    {
     "data": {
      "text/plain": [
       "'bare'"
      ]
     },
     "execution_count": 62,
     "metadata": {},
     "output_type": "execute_result"
    }
   ],
   "source": [
    "t[0]"
   ]
  },
  {
   "cell_type": "code",
   "execution_count": 63,
   "id": "e1b79257",
   "metadata": {},
   "outputs": [
    {
     "data": {
      "text/plain": [
       "('metal', 'cloud', 2.0)"
      ]
     },
     "execution_count": 63,
     "metadata": {},
     "output_type": "execute_result"
    }
   ],
   "source": [
    "t[1:-1]"
   ]
  },
  {
   "cell_type": "markdown",
   "id": "cb20c13e",
   "metadata": {},
   "source": [
    "### Boolean Type\n",
    "- Boolean data types belong to the bool class and determine the truth value of expressions\n",
    "- Booleans are a subtype of integer values."
   ]
  },
  {
   "cell_type": "code",
   "execution_count": 64,
   "id": "8d96841b",
   "metadata": {},
   "outputs": [
    {
     "name": "stdout",
     "output_type": "stream",
     "text": [
      "<class 'bool'>\n",
      "<class 'bool'>\n"
     ]
    }
   ],
   "source": [
    "print(type(True))\n",
    "print(type(False))"
   ]
  },
  {
   "cell_type": "code",
   "execution_count": 65,
   "id": "8f37a256",
   "metadata": {},
   "outputs": [
    {
     "name": "stdout",
     "output_type": "stream",
     "text": [
      "True\n",
      "True\n"
     ]
    }
   ],
   "source": [
    "print(True == 1)\n",
    "print(False == 0)"
   ]
  },
  {
   "cell_type": "markdown",
   "id": "181df741",
   "metadata": {},
   "source": [
    "### Set Type\n",
    "- Sets are unordered and do not allow access to individual elements through indexing. Any duplicate values are ignored.\n"
   ]
  },
  {
   "cell_type": "code",
   "execution_count": 67,
   "id": "ba662504",
   "metadata": {},
   "outputs": [
    {
     "name": "stdout",
     "output_type": "stream",
     "text": [
      "{1, 2, 3, 4} <class 'set'>\n"
     ]
    }
   ],
   "source": [
    "s = {1, 2, 3, 3, 3, 4}\n",
    "print(s, type(s))"
   ]
  },
  {
   "cell_type": "markdown",
   "id": "68c154f7",
   "metadata": {},
   "source": [
    "### Mapping Type\n",
    "- Mapping data type is represented by a Python dictionary. A dictionary is a collection of data with key and value pairs belonging to the dict class.\n",
    "- The key and value pairs accept any data type. To access a value in a dictionary, use the key as index"
   ]
  },
  {
   "cell_type": "code",
   "execution_count": 68,
   "id": "36647065",
   "metadata": {},
   "outputs": [
    {
     "name": "stdout",
     "output_type": "stream",
     "text": [
      "{'articles': 10, 'cost': 2.2, True: 'Okay!'} <class 'dict'>\n"
     ]
    }
   ],
   "source": [
    "d = {\"articles\":10, \"cost\":2.2, True:\"Okay!\"}\n",
    "print(d, type(d))"
   ]
  },
  {
   "cell_type": "code",
   "execution_count": 70,
   "id": "ba96875e",
   "metadata": {},
   "outputs": [
    {
     "name": "stdout",
     "output_type": "stream",
     "text": [
      "2.2\n"
     ]
    }
   ],
   "source": [
    "print(d['cost'])"
   ]
  }
 ],
 "metadata": {
  "kernelspec": {
   "display_name": "Python 3 (ipykernel)",
   "language": "python",
   "name": "python3"
  },
  "language_info": {
   "codemirror_mode": {
    "name": "ipython",
    "version": 3
   },
   "file_extension": ".py",
   "mimetype": "text/x-python",
   "name": "python",
   "nbconvert_exporter": "python",
   "pygments_lexer": "ipython3",
   "version": "3.9.7"
  }
 },
 "nbformat": 4,
 "nbformat_minor": 5
}
