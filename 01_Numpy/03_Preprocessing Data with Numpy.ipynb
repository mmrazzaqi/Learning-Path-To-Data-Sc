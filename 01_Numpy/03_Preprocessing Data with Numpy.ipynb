{
 "cells": [
  {
   "cell_type": "markdown",
   "id": "ff36f697",
   "metadata": {},
   "source": [
    "## Importing the pakages"
   ]
  },
  {
   "cell_type": "code",
   "execution_count": 1,
   "id": "e6cfee7c",
   "metadata": {},
   "outputs": [],
   "source": [
    "import numpy as np"
   ]
  },
  {
   "cell_type": "code",
   "execution_count": 2,
   "id": "03d87a36",
   "metadata": {},
   "outputs": [],
   "source": [
    "np.set_printoptions(suppress=True, linewidth=100, precision=2)"
   ]
  },
  {
   "cell_type": "markdown",
   "id": "a6a7de00",
   "metadata": {},
   "source": [
    "## Importing the data"
   ]
  },
  {
   "cell_type": "code",
   "execution_count": 3,
   "id": "5713100f",
   "metadata": {},
   "outputs": [
    {
     "data": {
      "text/plain": [
       "array([[48010226.  ,         nan,    35000.  , ...,         nan,         nan,     9452.96],\n",
       "       [57693261.  ,         nan,    30000.  , ...,         nan,         nan,     4679.7 ],\n",
       "       [59432726.  ,         nan,    15000.  , ...,         nan,         nan,     1969.83],\n",
       "       ...,\n",
       "       [50415990.  ,         nan,    10000.  , ...,         nan,         nan,     2185.64],\n",
       "       [46154151.  ,         nan,         nan, ...,         nan,         nan,     3199.4 ],\n",
       "       [66055249.  ,         nan,    10000.  , ...,         nan,         nan,      301.9 ]])"
      ]
     },
     "execution_count": 3,
     "metadata": {},
     "output_type": "execute_result"
    }
   ],
   "source": [
    "# loadtxt() will generate error\n",
    "# raw_data_np = np.loadtxt(\"loan-data.csv\", delimiter=\";\")\n",
    "\n",
    "raw_data_np = np.genfromtxt(\"loan-data.csv\", delimiter=\";\", skip_header=1, autostrip=True)\n",
    "raw_data_np"
   ]
  },
  {
   "cell_type": "markdown",
   "id": "e4bb8afb",
   "metadata": {},
   "source": [
    "## Checking for incomplete data"
   ]
  },
  {
   "cell_type": "code",
   "execution_count": 4,
   "id": "7949be8a",
   "metadata": {},
   "outputs": [
    {
     "data": {
      "text/plain": [
       "88005"
      ]
     },
     "execution_count": 4,
     "metadata": {},
     "output_type": "execute_result"
    }
   ],
   "source": [
    "np.isnan(raw_data_np).sum()"
   ]
  },
  {
   "cell_type": "code",
   "execution_count": 5,
   "id": "0b375415",
   "metadata": {},
   "outputs": [
    {
     "name": "stderr",
     "output_type": "stream",
     "text": [
      "C:\\Users\\MMOHSI~1\\AppData\\Local\\Temp/ipykernel_6688/1702053823.py:4: RuntimeWarning: Mean of empty slice\n",
      "  temporary_mean = np.nanmean(raw_data_np, axis=0)\n"
     ]
    }
   ],
   "source": [
    "# nanmax() returns maximum value of an array ignoring NaN values\n",
    "\n",
    "temporary_fill = np.nanmax(raw_data_np) + 1\n",
    "temporary_mean = np.nanmean(raw_data_np, axis=0)"
   ]
  },
  {
   "cell_type": "code",
   "execution_count": 6,
   "id": "59aa3ec0",
   "metadata": {},
   "outputs": [
    {
     "data": {
      "text/plain": [
       "array([54015809.19,         nan,    15273.46,         nan,    15311.04,         nan,       16.62,\n",
       "            440.92,         nan,         nan,         nan,         nan,         nan,     3143.85])"
      ]
     },
     "execution_count": 6,
     "metadata": {},
     "output_type": "execute_result"
    }
   ],
   "source": [
    "# any column with NaN mean contains no number\n",
    "\n",
    "temporary_mean"
   ]
  },
  {
   "cell_type": "code",
   "execution_count": 7,
   "id": "eebb4840",
   "metadata": {},
   "outputs": [
    {
     "name": "stderr",
     "output_type": "stream",
     "text": [
      "C:\\Users\\MMOHSI~1\\AppData\\Local\\Temp/ipykernel_6688/3508919930.py:1: RuntimeWarning: All-NaN slice encountered\n",
      "  temporary_stats = np.array([np.nanmin(raw_data_np, axis=0),\n",
      "C:\\Users\\MMOHSI~1\\AppData\\Local\\Temp/ipykernel_6688/3508919930.py:3: RuntimeWarning: All-NaN slice encountered\n",
      "  np.nanmax(raw_data_np, axis=0)])\n"
     ]
    },
    {
     "data": {
      "text/plain": [
       "array([[  373332.  ,         nan,     1000.  ,         nan,     1000.  ,         nan,        6.  ,\n",
       "              31.42,         nan,         nan,         nan,         nan,         nan,        0.  ],\n",
       "       [54015809.19,         nan,    15273.46,         nan,    15311.04,         nan,       16.62,\n",
       "             440.92,         nan,         nan,         nan,         nan,         nan,     3143.85],\n",
       "       [68616519.  ,         nan,    35000.  ,         nan,    35000.  ,         nan,       28.99,\n",
       "            1372.97,         nan,         nan,         nan,         nan,         nan,    41913.62]])"
      ]
     },
     "execution_count": 7,
     "metadata": {},
     "output_type": "execute_result"
    }
   ],
   "source": [
    "temporary_stats = np.array([np.nanmin(raw_data_np, axis=0),\n",
    "                           temporary_mean,\n",
    "                           np.nanmax(raw_data_np, axis=0)])\n",
    "\n",
    "temporary_stats"
   ]
  },
  {
   "cell_type": "markdown",
   "id": "b24dcd0d",
   "metadata": {},
   "source": [
    "## Splitting the dataset"
   ]
  },
  {
   "cell_type": "markdown",
   "id": "bbc9b0f6",
   "metadata": {},
   "source": [
    "### Splitting the columns"
   ]
  },
  {
   "cell_type": "code",
   "execution_count": 8,
   "id": "ef9a6038",
   "metadata": {},
   "outputs": [
    {
     "data": {
      "text/plain": [
       "array([ 1,  3,  5,  8,  9, 10, 11, 12], dtype=int64)"
      ]
     },
     "execution_count": 8,
     "metadata": {},
     "output_type": "execute_result"
    }
   ],
   "source": [
    "# argwhere() function is used to find the indices of array elements that are non-zero\n",
    "\n",
    "# squeeze() function is used when we want to remove single-dimensional entries from the shape of an array\n",
    "\n",
    "columns_strings = np.argwhere(np.isnan(temporary_mean)).squeeze()\n",
    "columns_strings"
   ]
  },
  {
   "cell_type": "code",
   "execution_count": 9,
   "id": "ea1eb5f5",
   "metadata": {},
   "outputs": [
    {
     "data": {
      "text/plain": [
       "array([ 0,  2,  4,  6,  7, 13], dtype=int64)"
      ]
     },
     "execution_count": 9,
     "metadata": {},
     "output_type": "execute_result"
    }
   ],
   "source": [
    "columns_numeric = np.argwhere(np.isnan(temporary_mean)==False).squeeze()\n",
    "columns_numeric"
   ]
  },
  {
   "cell_type": "markdown",
   "id": "949a27f8",
   "metadata": {},
   "source": [
    "## Re-importing the dataset"
   ]
  },
  {
   "cell_type": "code",
   "execution_count": 10,
   "id": "359a6586",
   "metadata": {},
   "outputs": [
    {
     "data": {
      "text/plain": [
       "array([['May-15', 'Current', '36 months', ..., 'Verified',\n",
       "        'https://www.lendingclub.com/browse/loanDetail.action?loan_id=48010226', 'CA'],\n",
       "       ['', 'Current', '36 months', ..., 'Source Verified',\n",
       "        'https://www.lendingclub.com/browse/loanDetail.action?loan_id=57693261', 'NY'],\n",
       "       ['Sep-15', 'Current', '36 months', ..., 'Verified',\n",
       "        'https://www.lendingclub.com/browse/loanDetail.action?loan_id=59432726', 'PA'],\n",
       "       ...,\n",
       "       ['Jun-15', 'Current', '36 months', ..., 'Source Verified',\n",
       "        'https://www.lendingclub.com/browse/loanDetail.action?loan_id=50415990', 'CA'],\n",
       "       ['Apr-15', 'Current', '36 months', ..., 'Source Verified',\n",
       "        'https://www.lendingclub.com/browse/loanDetail.action?loan_id=46154151', 'OH'],\n",
       "       ['Dec-15', 'Current', '36 months', ..., '',\n",
       "        'https://www.lendingclub.com/browse/loanDetail.action?loan_id=66055249', 'IL']],\n",
       "      dtype='<U69')"
      ]
     },
     "execution_count": 10,
     "metadata": {},
     "output_type": "execute_result"
    }
   ],
   "source": [
    "# the string dataset\n",
    "\n",
    "loan_data_string = np.genfromtxt(\"loan-data.csv\", \n",
    "                                delimiter=\";\", \n",
    "                                skip_header=1, \n",
    "                                autostrip=True,\n",
    "                                usecols = columns_strings, \n",
    "                                dtype=np.dtype(str))\n",
    "loan_data_string"
   ]
  },
  {
   "cell_type": "code",
   "execution_count": 11,
   "id": "20a49868",
   "metadata": {},
   "outputs": [
    {
     "data": {
      "text/plain": [
       "array([[48010226.  ,    35000.  ,    35000.  ,       13.33,     1184.86,     9452.96],\n",
       "       [57693261.  ,    30000.  ,    30000.  , 68616520.  ,      938.57,     4679.7 ],\n",
       "       [59432726.  ,    15000.  ,    15000.  , 68616520.  ,      494.86,     1969.83],\n",
       "       ...,\n",
       "       [50415990.  ,    10000.  ,    10000.  , 68616520.  , 68616520.  ,     2185.64],\n",
       "       [46154151.  , 68616520.  ,    10000.  ,       16.55,      354.3 ,     3199.4 ],\n",
       "       [66055249.  ,    10000.  ,    10000.  , 68616520.  ,      309.97,      301.9 ]])"
      ]
     },
     "execution_count": 11,
     "metadata": {},
     "output_type": "execute_result"
    }
   ],
   "source": [
    "# the numeric dataset\n",
    "\n",
    "loan_data_numeric = np.genfromtxt(\"loan-data.csv\", \n",
    "                                delimiter=\";\", \n",
    "                                skip_header=1, \n",
    "                                autostrip=True,\n",
    "                                usecols = columns_numeric, \n",
    "                                filling_values=temporary_fill)\n",
    "loan_data_numeric"
   ]
  },
  {
   "cell_type": "markdown",
   "id": "3b968214",
   "metadata": {},
   "source": [
    "## The names of the columns"
   ]
  },
  {
   "cell_type": "code",
   "execution_count": 12,
   "id": "0445d9a5",
   "metadata": {},
   "outputs": [
    {
     "data": {
      "text/plain": [
       "array(['id', 'issue_d', 'loan_amnt', 'loan_status', 'funded_amnt', 'term', 'int_rate',\n",
       "       'installment', 'grade', 'sub_grade', 'verification_status', 'url', 'addr_state',\n",
       "       'total_pymnt'], dtype='<U19')"
      ]
     },
     "execution_count": 12,
     "metadata": {},
     "output_type": "execute_result"
    }
   ],
   "source": [
    "loan_data_columns = np.genfromtxt(\"loan-data.csv\", \n",
    "                                delimiter=\";\", \n",
    "                                skip_footer=raw_data_np.shape[0], \n",
    "                                autostrip=True,\n",
    "                                dtype=np.dtype(str))\n",
    "loan_data_columns"
   ]
  },
  {
   "cell_type": "code",
   "execution_count": 13,
   "id": "584b6740",
   "metadata": {},
   "outputs": [],
   "source": [
    "# columns with string data and numeric data separately\n",
    "\n",
    "columns_string, columns_numeric = loan_data_columns[columns_strings], loan_data_columns[columns_numeric]"
   ]
  },
  {
   "cell_type": "code",
   "execution_count": 14,
   "id": "4664d362",
   "metadata": {},
   "outputs": [
    {
     "data": {
      "text/plain": [
       "array(['issue_d', 'loan_status', 'term', 'grade', 'sub_grade', 'verification_status', 'url',\n",
       "       'addr_state'], dtype='<U19')"
      ]
     },
     "execution_count": 14,
     "metadata": {},
     "output_type": "execute_result"
    }
   ],
   "source": [
    "columns_string"
   ]
  },
  {
   "cell_type": "code",
   "execution_count": 15,
   "id": "636ed284",
   "metadata": {},
   "outputs": [
    {
     "data": {
      "text/plain": [
       "array(['id', 'loan_amnt', 'funded_amnt', 'int_rate', 'installment', 'total_pymnt'], dtype='<U19')"
      ]
     },
     "execution_count": 15,
     "metadata": {},
     "output_type": "execute_result"
    }
   ],
   "source": [
    "columns_numeric"
   ]
  },
  {
   "cell_type": "markdown",
   "id": "1fd3e5e2",
   "metadata": {},
   "source": [
    "## Creating checkpoints"
   ]
  },
  {
   "cell_type": "code",
   "execution_count": 16,
   "id": "acc0e4d3",
   "metadata": {},
   "outputs": [],
   "source": [
    "def checkpoint(file_name, checkpoint_header, checkpoint_data):\n",
    "    np.savez(file_name, header = checkpoint_header, data = checkpoint_data)\n",
    "    checkpoint_variable = np.load(file_name + \".npz\")\n",
    "    return checkpoint_variable"
   ]
  },
  {
   "cell_type": "code",
   "execution_count": 17,
   "id": "c4cd36b8",
   "metadata": {},
   "outputs": [],
   "source": [
    "checkpoint_test = checkpoint(\"checkpoint-test\", columns_string, loan_data_string)"
   ]
  },
  {
   "cell_type": "code",
   "execution_count": 18,
   "id": "ed2cd852",
   "metadata": {},
   "outputs": [
    {
     "data": {
      "text/plain": [
       "array([['May-15', 'Current', '36 months', ..., 'Verified',\n",
       "        'https://www.lendingclub.com/browse/loanDetail.action?loan_id=48010226', 'CA'],\n",
       "       ['', 'Current', '36 months', ..., 'Source Verified',\n",
       "        'https://www.lendingclub.com/browse/loanDetail.action?loan_id=57693261', 'NY'],\n",
       "       ['Sep-15', 'Current', '36 months', ..., 'Verified',\n",
       "        'https://www.lendingclub.com/browse/loanDetail.action?loan_id=59432726', 'PA'],\n",
       "       ...,\n",
       "       ['Jun-15', 'Current', '36 months', ..., 'Source Verified',\n",
       "        'https://www.lendingclub.com/browse/loanDetail.action?loan_id=50415990', 'CA'],\n",
       "       ['Apr-15', 'Current', '36 months', ..., 'Source Verified',\n",
       "        'https://www.lendingclub.com/browse/loanDetail.action?loan_id=46154151', 'OH'],\n",
       "       ['Dec-15', 'Current', '36 months', ..., '',\n",
       "        'https://www.lendingclub.com/browse/loanDetail.action?loan_id=66055249', 'IL']],\n",
       "      dtype='<U69')"
      ]
     },
     "execution_count": 18,
     "metadata": {},
     "output_type": "execute_result"
    }
   ],
   "source": [
    "checkpoint_test[\"data\"]"
   ]
  },
  {
   "cell_type": "code",
   "execution_count": 19,
   "id": "360bb307",
   "metadata": {},
   "outputs": [
    {
     "data": {
      "text/plain": [
       "True"
      ]
     },
     "execution_count": 19,
     "metadata": {},
     "output_type": "execute_result"
    }
   ],
   "source": [
    "# we can check two arrays of data is equal\n",
    "\n",
    "np.array_equal(checkpoint_test[\"data\"], loan_data_string)"
   ]
  },
  {
   "cell_type": "markdown",
   "id": "e9751c03",
   "metadata": {},
   "source": [
    "## Manipulating string columns"
   ]
  },
  {
   "cell_type": "code",
   "execution_count": 20,
   "id": "1f5f6626",
   "metadata": {},
   "outputs": [
    {
     "data": {
      "text/plain": [
       "array(['issue_d', 'loan_status', 'term', 'grade', 'sub_grade', 'verification_status', 'url',\n",
       "       'addr_state'], dtype='<U19')"
      ]
     },
     "execution_count": 20,
     "metadata": {},
     "output_type": "execute_result"
    }
   ],
   "source": [
    "columns_string"
   ]
  },
  {
   "cell_type": "code",
   "execution_count": 21,
   "id": "14e16e36",
   "metadata": {},
   "outputs": [],
   "source": [
    "# change the name of first column from \"issue_d\" to \"issue_date\"\n",
    "columns_string[0]=\"issue_date\""
   ]
  },
  {
   "cell_type": "code",
   "execution_count": 22,
   "id": "3749a601",
   "metadata": {},
   "outputs": [
    {
     "data": {
      "text/plain": [
       "array([['May-15', 'Current', '36 months', ..., 'Verified',\n",
       "        'https://www.lendingclub.com/browse/loanDetail.action?loan_id=48010226', 'CA'],\n",
       "       ['', 'Current', '36 months', ..., 'Source Verified',\n",
       "        'https://www.lendingclub.com/browse/loanDetail.action?loan_id=57693261', 'NY'],\n",
       "       ['Sep-15', 'Current', '36 months', ..., 'Verified',\n",
       "        'https://www.lendingclub.com/browse/loanDetail.action?loan_id=59432726', 'PA'],\n",
       "       ...,\n",
       "       ['Jun-15', 'Current', '36 months', ..., 'Source Verified',\n",
       "        'https://www.lendingclub.com/browse/loanDetail.action?loan_id=50415990', 'CA'],\n",
       "       ['Apr-15', 'Current', '36 months', ..., 'Source Verified',\n",
       "        'https://www.lendingclub.com/browse/loanDetail.action?loan_id=46154151', 'OH'],\n",
       "       ['Dec-15', 'Current', '36 months', ..., '',\n",
       "        'https://www.lendingclub.com/browse/loanDetail.action?loan_id=66055249', 'IL']],\n",
       "      dtype='<U69')"
      ]
     },
     "execution_count": 22,
     "metadata": {},
     "output_type": "execute_result"
    }
   ],
   "source": [
    "loan_data_string"
   ]
  },
  {
   "cell_type": "markdown",
   "id": "f6fa37ba",
   "metadata": {},
   "source": [
    "### issue date"
   ]
  },
  {
   "cell_type": "code",
   "execution_count": 23,
   "id": "0d57d4ec",
   "metadata": {},
   "outputs": [
    {
     "data": {
      "text/plain": [
       "array(['May-15', '', 'Sep-15', ..., 'Jun-15', 'Apr-15', 'Dec-15'], dtype='<U69')"
      ]
     },
     "execution_count": 23,
     "metadata": {},
     "output_type": "execute_result"
    }
   ],
   "source": [
    "# display the 1st column \n",
    "loan_data_string[:,0]"
   ]
  },
  {
   "cell_type": "code",
   "execution_count": 24,
   "id": "779e3423",
   "metadata": {},
   "outputs": [
    {
     "data": {
      "text/plain": [
       "array(['', 'Apr-15', 'Aug-15', 'Dec-15', 'Feb-15', 'Jan-15', 'Jul-15', 'Jun-15', 'Mar-15',\n",
       "       'May-15', 'Nov-15', 'Oct-15', 'Sep-15'], dtype='<U69')"
      ]
     },
     "execution_count": 24,
     "metadata": {},
     "output_type": "execute_result"
    }
   ],
   "source": [
    "# unique function.....display different values in column\n",
    "np.unique(loan_data_string[:,0])"
   ]
  },
  {
   "cell_type": "code",
   "execution_count": 25,
   "id": "6426e051",
   "metadata": {},
   "outputs": [
    {
     "data": {
      "text/plain": [
       "array(['', 'Apr', 'Aug', 'Dec', 'Feb', 'Jan', 'Jul', 'Jun', 'Mar', 'May', 'Nov', 'Oct', 'Sep'],\n",
       "      dtype='<U69')"
      ]
     },
     "execution_count": 25,
     "metadata": {},
     "output_type": "execute_result"
    }
   ],
   "source": [
    "# we ca skip \"-15\" common part from the column\n",
    "\n",
    "loan_data_string[:,0] = np.chararray.strip(loan_data_string[:,0], \"-15\")\n",
    "np.unique(loan_data_string[:,0])"
   ]
  },
  {
   "cell_type": "code",
   "execution_count": 26,
   "id": "7fb2b0fe",
   "metadata": {},
   "outputs": [],
   "source": [
    "# in analysis, we put month values with number\n",
    "\n",
    "months = ['', 'Jan', 'Feb', 'Mar', 'Apr', 'May', 'Jun', 'Jul', 'Aug', 'Sep', 'Oct', 'Nov', 'Dec']"
   ]
  },
  {
   "cell_type": "code",
   "execution_count": 27,
   "id": "6b1c93ce",
   "metadata": {},
   "outputs": [],
   "source": [
    "for i in range(13):\n",
    "    loan_data_string[:,0] = np.where(loan_data_string[:,0]==months[i], \n",
    "                                    i,\n",
    "                                    loan_data_string[:,0])"
   ]
  },
  {
   "cell_type": "code",
   "execution_count": 28,
   "id": "c8c15c33",
   "metadata": {},
   "outputs": [
    {
     "data": {
      "text/plain": [
       "array(['0', '1', '10', '11', '12', '2', '3', '4', '5', '6', '7', '8', '9'], dtype='<U69')"
      ]
     },
     "execution_count": 28,
     "metadata": {},
     "output_type": "execute_result"
    }
   ],
   "source": [
    "np.unique(loan_data_string[:,0])"
   ]
  },
  {
   "cell_type": "markdown",
   "id": "97665240",
   "metadata": {},
   "source": [
    "### Loan Status"
   ]
  },
  {
   "cell_type": "code",
   "execution_count": 29,
   "id": "f38d9509",
   "metadata": {},
   "outputs": [
    {
     "data": {
      "text/plain": [
       "array(['issue_date', 'loan_status', 'term', 'grade', 'sub_grade', 'verification_status', 'url',\n",
       "       'addr_state'], dtype='<U19')"
      ]
     },
     "execution_count": 29,
     "metadata": {},
     "output_type": "execute_result"
    }
   ],
   "source": [
    "columns_string"
   ]
  },
  {
   "cell_type": "code",
   "execution_count": 33,
   "id": "6da32692",
   "metadata": {},
   "outputs": [
    {
     "data": {
      "text/plain": [
       "array(['', 'Charged Off', 'Current', 'Default', 'Fully Paid', 'In Grace Period', 'Issued',\n",
       "       'Late (16-30 days)', 'Late (31-120 days)'], dtype='<U69')"
      ]
     },
     "execution_count": 33,
     "metadata": {},
     "output_type": "execute_result"
    }
   ],
   "source": [
    "np.unique(loan_data_string[:,1])"
   ]
  },
  {
   "cell_type": "code",
   "execution_count": 38,
   "id": "48c57b18",
   "metadata": {},
   "outputs": [
    {
     "data": {
      "text/plain": [
       "9"
      ]
     },
     "execution_count": 38,
     "metadata": {},
     "output_type": "execute_result"
    }
   ],
   "source": [
    "# find the number of values in column\n",
    "\n",
    "np.unique(loan_data_string[:,1]).size"
   ]
  },
  {
   "cell_type": "code",
   "execution_count": 39,
   "id": "89ef71c7",
   "metadata": {},
   "outputs": [],
   "source": [
    "status_bad = ['Charged Off', 'Late (31-120 days)', 'Default']"
   ]
  },
  {
   "cell_type": "code",
   "execution_count": 42,
   "id": "9893075b",
   "metadata": {},
   "outputs": [],
   "source": [
    "loan_data_string[:,1] = np.where(np.isin(loan_data_string[:,1], status_bad), 0, 1)"
   ]
  },
  {
   "cell_type": "code",
   "execution_count": 43,
   "id": "92249b2c",
   "metadata": {},
   "outputs": [
    {
     "data": {
      "text/plain": [
       "array(['0', '1'], dtype='<U69')"
      ]
     },
     "execution_count": 43,
     "metadata": {},
     "output_type": "execute_result"
    }
   ],
   "source": [
    "np.unique(loan_data_string[:,1])"
   ]
  },
  {
   "cell_type": "code",
   "execution_count": null,
   "id": "63a9dc89",
   "metadata": {},
   "outputs": [],
   "source": []
  }
 ],
 "metadata": {
  "kernelspec": {
   "display_name": "Python 3 (ipykernel)",
   "language": "python",
   "name": "python3"
  },
  "language_info": {
   "codemirror_mode": {
    "name": "ipython",
    "version": 3
   },
   "file_extension": ".py",
   "mimetype": "text/x-python",
   "name": "python",
   "nbconvert_exporter": "python",
   "pygments_lexer": "ipython3",
   "version": "3.9.7"
  }
 },
 "nbformat": 4,
 "nbformat_minor": 5
}
