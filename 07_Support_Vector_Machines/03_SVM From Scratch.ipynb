{
 "cells": [
  {
   "cell_type": "markdown",
   "id": "f9243c75",
   "metadata": {},
   "source": [
    "# SVM From Scratch\n",
    "\n",
    "<br>\n",
    "\n",
    "<img src=\"images/svm_concept_2.jpeg\" width='700' />"
   ]
  },
  {
   "cell_type": "markdown",
   "id": "bfdde92f",
   "metadata": {},
   "source": [
    "<br>\n",
    "<br>\n",
    "\n",
    "<img src=\"images/svm_model.png\" width='400' />\n",
    "<center>SVM Model Expressed Mathematically</center>"
   ]
  },
  {
   "cell_type": "code",
   "execution_count": 17,
   "id": "d6e4b717",
   "metadata": {},
   "outputs": [],
   "source": [
    "import numpy as np\n",
    "import pandas as pd\n",
    "import statsmodels.api as sm\n",
    "from sklearn.preprocessing import MinMaxScaler\n",
    "from sklearn.model_selection import train_test_split as tts\n",
    "from sklearn.metrics import accuracy_score, recall_score, precision_score\n",
    "from sklearn.utils import shuffle"
   ]
  },
  {
   "cell_type": "code",
   "execution_count": 18,
   "id": "13136107",
   "metadata": {},
   "outputs": [],
   "source": [
    "# >> FEATURE SELECTION << #\n",
    "def remove_correlated_features(X):\n",
    "    corr_threshold = 0.9\n",
    "    corr = X.corr()\n",
    "    drop_columns = np.full(corr.shape[0], False, dtype=bool)\n",
    "    for i in range(corr.shape[0]):\n",
    "        for j in range(i + 1, corr.shape[0]):\n",
    "            if corr.iloc[i, j] >= corr_threshold:\n",
    "                drop_columns[j] = True\n",
    "    columns_dropped = X.columns[drop_columns]\n",
    "    X.drop(columns_dropped, axis=1, inplace=True)\n",
    "    return columns_dropped\n",
    "\n",
    "\n",
    "def remove_less_significant_features(X, Y):\n",
    "    sl = 0.05\n",
    "    regression_ols = None\n",
    "    columns_dropped = np.array([])\n",
    "    for itr in range(0, len(X.columns)):\n",
    "        regression_ols = sm.OLS(Y, X).fit()\n",
    "        max_col = regression_ols.pvalues.idxmax()\n",
    "        max_val = regression_ols.pvalues.max()\n",
    "        if max_val > sl:\n",
    "            X.drop(max_col, axis='columns', inplace=True)\n",
    "            columns_dropped = np.append(columns_dropped, [max_col])\n",
    "        else:\n",
    "            break\n",
    "    regression_ols.summary()\n",
    "    return columns_dropped\n",
    "\n",
    "\n",
    "##############################"
   ]
  },
  {
   "cell_type": "markdown",
   "id": "d181d13b",
   "metadata": {},
   "source": [
    "## Cost Function (Objective Function)\n",
    "\n",
    "Our objective is to find a hyperplane that separates +ve and -ve examples with the largest margin while keeping the misclassification as low as possible.\n",
    "\n",
    "We will minimize the cost/objective function shown below:\n",
    "\n",
    "<br>\n",
    "\n",
    "<img src=\"images/cost_function.png\" width='600' />\n",
    "\n",
    "**<center>In the training phase, Larger C results in the narrow margin (for infinitely large C the SVM becomes hard margin) and smaller C results in the wider margin.</center>**\n",
    "\n",
    "<br>\n",
    "<br>\n",
    "\n",
    "Another version of a cost function\n",
    "<img src=\"images/cost_function_2.png\" width='600' />\n",
    "\n",
    "\n",
    "\n",
    "**<center>Larger λ gives a wider margin and smaller λ results in the narrow margin (for infinitely small λ the SVM becomes hard margin).</center>**\n",
    "In this cost function, λ is essentially equal to 1/C and has the opposite effect.\n",
    "\n",
    "## The Gradient of the Cost Function\n",
    "\n",
    "<img src=\"images/gradiant_of_CF.png\" width='700' />"
   ]
  },
  {
   "cell_type": "code",
   "execution_count": 19,
   "id": "f9d399ce",
   "metadata": {},
   "outputs": [],
   "source": [
    "# >> MODEL TRAINING << #\n",
    "def compute_cost(W, X, Y):\n",
    "    # calculate hinge loss\n",
    "    N = X.shape[0]\n",
    "    distances = 1 - Y * (np.dot(X, W))\n",
    "    distances[distances < 0] = 0  # equivalent to max(0, distance)\n",
    "    hinge_loss = regularization_strength * (np.sum(distances) / N)\n",
    "\n",
    "    # calculate cost\n",
    "    cost = 1 / 2 * np.dot(W, W) + hinge_loss\n",
    "    return cost\n",
    "\n",
    "\n",
    "# I haven't tested it but this same function should work for\n",
    "# vanilla and mini-batch gradient descent as well\n",
    "def calculate_cost_gradient(W, X_batch, Y_batch):\n",
    "    # if only one example is passed (eg. in case of SGD)\n",
    "    if type(Y_batch) == np.float64:\n",
    "        Y_batch = np.array([Y_batch])\n",
    "        X_batch = np.array([X_batch])  # gives multidimensional array\n",
    "\n",
    "    distance = 1 - (Y_batch * np.dot(X_batch, W))\n",
    "    dw = np.zeros(len(W))\n",
    "\n",
    "    for ind, d in enumerate(distance):\n",
    "        if max(0, d) == 0:\n",
    "            di = W\n",
    "        else:\n",
    "            di = W - (regularization_strength * Y_batch[ind] * X_batch[ind])\n",
    "        dw += di\n",
    "\n",
    "    dw = dw/len(Y_batch)  # average\n",
    "    return dw\n",
    "\n",
    "\n",
    "def sgd(features, outputs):\n",
    "    max_epochs = 5000\n",
    "    weights = np.zeros(features.shape[1])\n",
    "    nth = 0\n",
    "    prev_cost = float(\"inf\")\n",
    "    cost_threshold = 0.01  # in percent\n",
    "    # stochastic gradient descent\n",
    "    for epoch in range(1, max_epochs):\n",
    "        # shuffle to prevent repeating update cycles\n",
    "        X, Y = shuffle(features, outputs)\n",
    "        for ind, x in enumerate(X):\n",
    "            ascent = calculate_cost_gradient(weights, x, Y[ind])\n",
    "            weights = weights - (learning_rate * ascent)\n",
    "\n",
    "        # convergence check on 2^nth epoch\n",
    "        if epoch == 2 ** nth or epoch == max_epochs - 1:\n",
    "            cost = compute_cost(weights, features, outputs)\n",
    "            print(\"Epoch is: {} and Cost is: {}\".format(epoch, cost))\n",
    "            # stoppage criterion\n",
    "            if abs(prev_cost - cost) < cost_threshold * prev_cost:\n",
    "                return weights\n",
    "            prev_cost = cost\n",
    "            nth += 1\n",
    "    return weights\n",
    "\n",
    "\n",
    "########################"
   ]
  },
  {
   "cell_type": "markdown",
   "id": "47c680a4",
   "metadata": {},
   "source": [
    "## Reading the Dataset"
   ]
  },
  {
   "cell_type": "code",
   "execution_count": 20,
   "id": "e4eec10a",
   "metadata": {},
   "outputs": [],
   "source": [
    " data = pd.read_csv('data.csv')"
   ]
  },
  {
   "cell_type": "markdown",
   "id": "4529554e",
   "metadata": {},
   "source": [
    "<br>\n",
    "\n",
    "Drop last column (extra column added by pd) and unnecessary first column (id)"
   ]
  },
  {
   "cell_type": "code",
   "execution_count": 21,
   "id": "4af3aee6",
   "metadata": {},
   "outputs": [],
   "source": [
    "data.drop(data.columns[[-1, 0]], axis=1, inplace=True)"
   ]
  },
  {
   "cell_type": "markdown",
   "id": "34fe16dd",
   "metadata": {},
   "source": [
    "<br>\n",
    "\n",
    "SVM only accepts numerical values. Therefore, we will transform the categories M and B into values 1 and -1 respectively."
   ]
  },
  {
   "cell_type": "code",
   "execution_count": 22,
   "id": "15f3fcd9",
   "metadata": {},
   "outputs": [],
   "source": [
    "diag_map = {'M': 1.0, 'B': -1.0}\n",
    "data['diagnosis'] = data['diagnosis'].map(diag_map)"
   ]
  },
  {
   "cell_type": "markdown",
   "id": "ba8a249d",
   "metadata": {},
   "source": [
    "## Feature Engineering"
   ]
  },
  {
   "cell_type": "markdown",
   "id": "f65a2fc8",
   "metadata": {},
   "source": [
    "Feature engineering techniques have two characteristics in common:\n",
    "\n",
    "- Preparing the data which is compatible with the model\n",
    "- Improving the performance of the machine learning algorithm\n",
    "\n",
    "**Normalization** is one of the many feature engineering technique. Normalization is the process of converting a range of values, into a standard range of values, typically in the interval [−1, 1] or [0, 1]. It’s not a strict requirement but it improves the speed of learning (e.g. faster convergence in gradient descent) and prevents numerical overflow."
   ]
  },
  {
   "cell_type": "code",
   "execution_count": 23,
   "id": "f5fb06a4",
   "metadata": {},
   "outputs": [],
   "source": [
    "Y = data.loc[:, 'diagnosis']\n",
    "X = data.iloc[:, 1:]"
   ]
  },
  {
   "cell_type": "code",
   "execution_count": 24,
   "id": "3f27860b",
   "metadata": {},
   "outputs": [
    {
     "data": {
      "text/plain": [
       "array(['smoothness_mean', 'compactness_worst', 'compactness_mean',\n",
       "       'radius_mean', 'texture_se', 'symmetry_se', 'smoothness_se',\n",
       "       'concavity_worst'], dtype='<U32')"
      ]
     },
     "execution_count": 24,
     "metadata": {},
     "output_type": "execute_result"
    }
   ],
   "source": [
    "# filter features\n",
    "remove_correlated_features(X)\n",
    "remove_less_significant_features(X, Y)"
   ]
  },
  {
   "cell_type": "code",
   "execution_count": 25,
   "id": "4460f323",
   "metadata": {},
   "outputs": [],
   "source": [
    "# normalize the features using MinMaxScalar\n",
    "\n",
    "X_normalized = MinMaxScaler().fit_transform(X.values)\n",
    "X = pd.DataFrame(X_normalized)"
   ]
  },
  {
   "cell_type": "code",
   "execution_count": 26,
   "id": "6d67a5c0",
   "metadata": {},
   "outputs": [],
   "source": [
    "# insert 1 in every row for intercept b\n",
    "X.insert(loc=len(X.columns), column='intercept', value=1)"
   ]
  },
  {
   "cell_type": "markdown",
   "id": "c482f078",
   "metadata": {},
   "source": [
    "## Splitting the Dataset"
   ]
  },
  {
   "cell_type": "code",
   "execution_count": 27,
   "id": "b3c2d382",
   "metadata": {},
   "outputs": [],
   "source": [
    "X_train, X_test, y_train, y_test = tts(X, Y, test_size=0.2, random_state=42)"
   ]
  },
  {
   "cell_type": "code",
   "execution_count": 29,
   "id": "2b78cbc0",
   "metadata": {},
   "outputs": [],
   "source": [
    "# set hyper-parameters and call init\n",
    "regularization_strength = 10000\n",
    "learning_rate = 0.000001"
   ]
  },
  {
   "cell_type": "code",
   "execution_count": 30,
   "id": "dc591ef2",
   "metadata": {},
   "outputs": [
    {
     "name": "stdout",
     "output_type": "stream",
     "text": [
      "training started...\n",
      "Epoch is: 1 and Cost is: 7241.912513637917\n",
      "Epoch is: 2 and Cost is: 6543.973619707361\n",
      "Epoch is: 4 and Cost is: 5435.448266033489\n",
      "Epoch is: 8 and Cost is: 3836.385742838332\n",
      "Epoch is: 16 and Cost is: 2637.9997945349855\n",
      "Epoch is: 32 and Cost is: 1966.732146494961\n",
      "Epoch is: 64 and Cost is: 1584.9800341912085\n",
      "Epoch is: 128 and Cost is: 1323.5706207185253\n",
      "Epoch is: 256 and Cost is: 1160.324596925277\n",
      "Epoch is: 512 and Cost is: 1077.2306308348145\n",
      "Epoch is: 1024 and Cost is: 1047.594733753037\n",
      "Epoch is: 2048 and Cost is: 1054.5711198462566\n",
      "training finished.\n",
      "weights are: [ 3.53866577 11.05131892 -2.33022667 -7.92293421 10.14360543 -1.31074021\n",
      " -6.45350098  2.23130273 -3.89423401  3.21090318  4.94062452  4.80083756\n",
      " -4.7922664 ]\n"
     ]
    }
   ],
   "source": [
    "# train the model\n",
    "print(\"training started...\")\n",
    "W = sgd(X_train.to_numpy(), y_train.to_numpy())\n",
    "print(\"training finished.\")\n",
    "print(\"weights are: {}\".format(W))"
   ]
  },
  {
   "cell_type": "code",
   "execution_count": 32,
   "id": "2e23c15d",
   "metadata": {},
   "outputs": [
    {
     "name": "stdout",
     "output_type": "stream",
     "text": [
      "testing the model...\n",
      "accuracy on test dataset: 0.9736842105263158\n",
      "recall on test dataset: 0.9302325581395349\n",
      "precision on test dataset: 0.9302325581395349\n"
     ]
    }
   ],
   "source": [
    "# testing the model\n",
    "print(\"testing the model...\")\n",
    "y_train_predicted = np.array([])\n",
    "for i in range(X_train.shape[0]):\n",
    "    yp = np.sign(np.dot(X_train.to_numpy()[i], W))\n",
    "    y_train_predicted = np.append(y_train_predicted, yp)\n",
    "\n",
    "    y_test_predicted = np.array([])\n",
    "for i in range(X_test.shape[0]):\n",
    "    yp = np.sign(np.dot(X_test.to_numpy()[i], W))\n",
    "    y_test_predicted = np.append(y_test_predicted, yp)\n",
    "\n",
    "print(\"accuracy on test dataset: {}\".format(accuracy_score(y_test, y_test_predicted)))\n",
    "print(\"recall on test dataset: {}\".format(recall_score(y_test, y_test_predicted)))\n",
    "print(\"precision on test dataset: {}\".format(recall_score(y_test, y_test_predicted)))"
   ]
  },
  {
   "cell_type": "code",
   "execution_count": null,
   "id": "a5e38be5",
   "metadata": {},
   "outputs": [],
   "source": []
  }
 ],
 "metadata": {
  "kernelspec": {
   "display_name": "Python 3 (ipykernel)",
   "language": "python",
   "name": "python3"
  },
  "language_info": {
   "codemirror_mode": {
    "name": "ipython",
    "version": 3
   },
   "file_extension": ".py",
   "mimetype": "text/x-python",
   "name": "python",
   "nbconvert_exporter": "python",
   "pygments_lexer": "ipython3",
   "version": "3.9.7"
  }
 },
 "nbformat": 4,
 "nbformat_minor": 5
}
