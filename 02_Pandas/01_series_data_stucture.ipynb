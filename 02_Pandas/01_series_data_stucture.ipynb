{
 "cells": [
  {
   "cell_type": "code",
   "execution_count": 1,
   "id": "abc12544",
   "metadata": {},
   "outputs": [],
   "source": [
    "import numpy as np\n",
    "import pandas as pd"
   ]
  },
  {
   "cell_type": "code",
   "execution_count": 2,
   "id": "dc03ccfb",
   "metadata": {},
   "outputs": [
    {
     "data": {
      "text/plain": [
       "0    1\n",
       "1    2\n",
       "2    3\n",
       "3    4\n",
       "dtype: int64"
      ]
     },
     "execution_count": 2,
     "metadata": {},
     "output_type": "execute_result"
    }
   ],
   "source": [
    "# pd.Series(data, index, dtype, copy)\n",
    "p_series = pd.Series([1,2,3,4])\n",
    "p_series"
   ]
  },
  {
   "cell_type": "code",
   "execution_count": 3,
   "id": "8d2edba2",
   "metadata": {},
   "outputs": [
    {
     "data": {
      "text/plain": [
       "0    7\n",
       "1    7\n",
       "2    7\n",
       "3    7\n",
       "4    7\n",
       "dtype: int64"
      ]
     },
     "execution_count": 3,
     "metadata": {},
     "output_type": "execute_result"
    }
   ],
   "source": [
    "p_series_2 = pd.Series(7, range(5))\n",
    "p_series_2"
   ]
  },
  {
   "cell_type": "code",
   "execution_count": 4,
   "id": "1128f113",
   "metadata": {},
   "outputs": [
    {
     "data": {
      "text/plain": [
       "7"
      ]
     },
     "execution_count": 4,
     "metadata": {},
     "output_type": "execute_result"
    }
   ],
   "source": [
    "# access series elements\n",
    "p_series_2[3]"
   ]
  },
  {
   "cell_type": "code",
   "execution_count": 5,
   "id": "0b684ba8",
   "metadata": {},
   "outputs": [
    {
     "data": {
      "text/plain": [
       "0       1\n",
       "1     122\n",
       "2      47\n",
       "3     135\n",
       "4      94\n",
       "5      41\n",
       "6      83\n",
       "7      88\n",
       "8     118\n",
       "9      56\n",
       "10     60\n",
       "11     69\n",
       "12    103\n",
       "13     29\n",
       "14     93\n",
       "15     53\n",
       "16    102\n",
       "17     52\n",
       "18     53\n",
       "19     81\n",
       "dtype: int32"
      ]
     },
     "execution_count": 5,
     "metadata": {},
     "output_type": "execute_result"
    }
   ],
   "source": [
    "p_series_3 = pd.Series(np.random.randint(1, 150, 20))\n",
    "p_series_3"
   ]
  },
  {
   "cell_type": "code",
   "execution_count": 6,
   "id": "3a3e27c4",
   "metadata": {},
   "outputs": [
    {
     "data": {
      "text/plain": [
       "count     20.000000\n",
       "mean      74.000000\n",
       "std       33.838626\n",
       "min        1.000000\n",
       "25%       52.750000\n",
       "50%       75.000000\n",
       "75%       96.000000\n",
       "max      135.000000\n",
       "dtype: float64"
      ]
     },
     "execution_count": 6,
     "metadata": {},
     "output_type": "execute_result"
    }
   ],
   "source": [
    "# description of series data stucture\n",
    "\n",
    "p_series_3.describe()"
   ]
  },
  {
   "cell_type": "code",
   "execution_count": 7,
   "id": "51764e60",
   "metadata": {},
   "outputs": [
    {
     "data": {
      "text/plain": [
       "0      1\n",
       "1    122\n",
       "2     47\n",
       "3    135\n",
       "4     94\n",
       "5     41\n",
       "6     83\n",
       "dtype: int32"
      ]
     },
     "execution_count": 7,
     "metadata": {},
     "output_type": "execute_result"
    }
   ],
   "source": [
    "p_series_3.head(7)"
   ]
  },
  {
   "cell_type": "code",
   "execution_count": 8,
   "id": "b87ef08e",
   "metadata": {},
   "outputs": [
    {
     "data": {
      "text/plain": [
       "17    52\n",
       "18    53\n",
       "19    81\n",
       "dtype: int32"
      ]
     },
     "execution_count": 8,
     "metadata": {},
     "output_type": "execute_result"
    }
   ],
   "source": [
    "p_series_3.tail(3)"
   ]
  },
  {
   "cell_type": "code",
   "execution_count": 9,
   "id": "3cadd2e7",
   "metadata": {},
   "outputs": [
    {
     "data": {
      "text/plain": [
       "a    1\n",
       "b    2\n",
       "c    3\n",
       "dtype: int64"
      ]
     },
     "execution_count": 9,
     "metadata": {},
     "output_type": "execute_result"
    }
   ],
   "source": [
    "# custom index \n",
    "\n",
    "p_series_4 = pd.Series([1,2,3], index=['a', 'b', 'c'])\n",
    "p_series_4"
   ]
  },
  {
   "cell_type": "code",
   "execution_count": 10,
   "id": "13dfa08e",
   "metadata": {},
   "outputs": [
    {
     "data": {
      "text/plain": [
       "3"
      ]
     },
     "execution_count": 10,
     "metadata": {},
     "output_type": "execute_result"
    }
   ],
   "source": [
    "p_series_4['c']"
   ]
  },
  {
   "cell_type": "code",
   "execution_count": 11,
   "id": "2f790aad",
   "metadata": {},
   "outputs": [
    {
     "data": {
      "text/plain": [
       "1"
      ]
     },
     "execution_count": 11,
     "metadata": {},
     "output_type": "execute_result"
    }
   ],
   "source": [
    "# if index is valid string then we can use it as attribute and access element\n",
    "\n",
    "p_series_4.a    # dot operator"
   ]
  },
  {
   "cell_type": "code",
   "execution_count": 12,
   "id": "42a2cc69",
   "metadata": {},
   "outputs": [
    {
     "data": {
      "text/plain": [
       "one      1\n",
       "two      2\n",
       "three    3\n",
       "dtype: int64"
      ]
     },
     "execution_count": 12,
     "metadata": {},
     "output_type": "execute_result"
    }
   ],
   "source": [
    "# if we use dictionary as data in series (keys become index values)\n",
    "\n",
    "p_series_5 = pd.Series({'one':1, 'two':2, 'three':3})\n",
    "p_series_5"
   ]
  },
  {
   "cell_type": "code",
   "execution_count": 13,
   "id": "7ab64bf8",
   "metadata": {},
   "outputs": [
    {
     "data": {
      "text/plain": [
       "0     mohsin\n",
       "1      nimra\n",
       "2    ibrahim\n",
       "3    razzaqi\n",
       "dtype: object"
      ]
     },
     "execution_count": 13,
     "metadata": {},
     "output_type": "execute_result"
    }
   ],
   "source": [
    "# strings as data in series\n",
    "\n",
    "p_series_S = pd.Series(['mohsin', 'nimra', 'ibrahim', 'razzaqi'])\n",
    "p_series_S"
   ]
  },
  {
   "cell_type": "code",
   "execution_count": 14,
   "id": "0e1ae22c",
   "metadata": {},
   "outputs": [
    {
     "data": {
      "text/plain": [
       "0     True\n",
       "1     True\n",
       "2     True\n",
       "3    False\n",
       "dtype: bool"
      ]
     },
     "execution_count": 14,
     "metadata": {},
     "output_type": "execute_result"
    }
   ],
   "source": [
    "# check whether a chrachter exist in strings\n",
    "#contains() return a series containing bool values\n",
    "\n",
    "p_series_S.str.contains('m')"
   ]
  },
  {
   "cell_type": "code",
   "execution_count": 15,
   "id": "d6a8aae6",
   "metadata": {},
   "outputs": [
    {
     "data": {
      "text/plain": [
       "0     MOHSIN\n",
       "1      NIMRA\n",
       "2    IBRAHIM\n",
       "3    RAZZAQI\n",
       "dtype: object"
      ]
     },
     "execution_count": 15,
     "metadata": {},
     "output_type": "execute_result"
    }
   ],
   "source": [
    "# upper() string method\n",
    "\n",
    "p_series_S.str.upper()"
   ]
  },
  {
   "cell_type": "code",
   "execution_count": 16,
   "id": "f67347cc",
   "metadata": {},
   "outputs": [],
   "source": [
    "# we can add two series\n",
    "\n",
    "p_series_6 = pd.Series([1,2,3], index=['apple', 'orange', 'mango'])\n",
    "p_series_7 = pd.Series([4,5,6], index=['apple', 'orange', 'lemon'])"
   ]
  },
  {
   "cell_type": "code",
   "execution_count": 17,
   "id": "f5147367",
   "metadata": {},
   "outputs": [
    {
     "data": {
      "text/plain": [
       "apple     5.0\n",
       "lemon     NaN\n",
       "mango     NaN\n",
       "orange    7.0\n",
       "dtype: float64"
      ]
     },
     "execution_count": 17,
     "metadata": {},
     "output_type": "execute_result"
    }
   ],
   "source": [
    "# NaN (not a number). it occure where index does not match\n",
    "\n",
    "p_series_6 + p_series_7"
   ]
  },
  {
   "cell_type": "code",
   "execution_count": null,
   "id": "d198f338",
   "metadata": {},
   "outputs": [],
   "source": []
  }
 ],
 "metadata": {
  "kernelspec": {
   "display_name": "Python 3 (ipykernel)",
   "language": "python",
   "name": "python3"
  },
  "language_info": {
   "codemirror_mode": {
    "name": "ipython",
    "version": 3
   },
   "file_extension": ".py",
   "mimetype": "text/x-python",
   "name": "python",
   "nbconvert_exporter": "python",
   "pygments_lexer": "ipython3",
   "version": "3.9.7"
  }
 },
 "nbformat": 4,
 "nbformat_minor": 5
}
