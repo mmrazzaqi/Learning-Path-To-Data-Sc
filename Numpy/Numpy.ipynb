{
 "cells": [
  {
   "cell_type": "code",
   "execution_count": 4,
   "id": "2bc336f1",
   "metadata": {},
   "outputs": [
    {
     "data": {
      "text/plain": [
       "'1.21.3'"
      ]
     },
     "execution_count": 4,
     "metadata": {},
     "output_type": "execute_result"
    }
   ],
   "source": [
    "import numpy as np\n",
    "np.__version__        # current version"
   ]
  },
  {
   "cell_type": "markdown",
   "id": "592df8a0",
   "metadata": {},
   "source": [
    "# 1 dimensional Array"
   ]
  },
  {
   "cell_type": "code",
   "execution_count": 5,
   "id": "735214b7",
   "metadata": {},
   "outputs": [
    {
     "data": {
      "text/plain": [
       "array([1, 2, 3])"
      ]
     },
     "execution_count": 5,
     "metadata": {},
     "output_type": "execute_result"
    }
   ],
   "source": [
    "arr = np.array([1,2,3])\n",
    "arr"
   ]
  },
  {
   "cell_type": "markdown",
   "id": "abec4c2f",
   "metadata": {},
   "source": [
    "### Shape attribute"
   ]
  },
  {
   "cell_type": "code",
   "execution_count": 6,
   "id": "70303b5d",
   "metadata": {},
   "outputs": [
    {
     "data": {
      "text/plain": [
       "(3,)"
      ]
     },
     "execution_count": 6,
     "metadata": {},
     "output_type": "execute_result"
    }
   ],
   "source": [
    "arr.shape"
   ]
  },
  {
   "cell_type": "markdown",
   "id": "46b8a140",
   "metadata": {},
   "source": [
    "### dtype attribute"
   ]
  },
  {
   "cell_type": "code",
   "execution_count": 7,
   "id": "48c549ca",
   "metadata": {},
   "outputs": [
    {
     "data": {
      "text/plain": [
       "dtype('int32')"
      ]
     },
     "execution_count": 7,
     "metadata": {},
     "output_type": "execute_result"
    }
   ],
   "source": [
    "arr.dtype"
   ]
  },
  {
   "cell_type": "markdown",
   "id": "1c820642",
   "metadata": {},
   "source": [
    "### ndim attribute"
   ]
  },
  {
   "cell_type": "code",
   "execution_count": 8,
   "id": "1563cd73",
   "metadata": {},
   "outputs": [
    {
     "data": {
      "text/plain": [
       "1"
      ]
     },
     "execution_count": 8,
     "metadata": {},
     "output_type": "execute_result"
    }
   ],
   "source": [
    "arr.ndim"
   ]
  },
  {
   "cell_type": "markdown",
   "id": "ba0daf30",
   "metadata": {},
   "source": [
    "### size attribute"
   ]
  },
  {
   "cell_type": "code",
   "execution_count": 9,
   "id": "f255b32d",
   "metadata": {},
   "outputs": [
    {
     "data": {
      "text/plain": [
       "3"
      ]
     },
     "execution_count": 9,
     "metadata": {},
     "output_type": "execute_result"
    }
   ],
   "source": [
    "arr.size"
   ]
  },
  {
   "cell_type": "markdown",
   "id": "7a91a4a2",
   "metadata": {},
   "source": [
    "### itemsize attribute"
   ]
  },
  {
   "cell_type": "code",
   "execution_count": 10,
   "id": "75050a4c",
   "metadata": {},
   "outputs": [
    {
     "data": {
      "text/plain": [
       "4"
      ]
     },
     "execution_count": 10,
     "metadata": {},
     "output_type": "execute_result"
    }
   ],
   "source": [
    "arr.itemsize    # size (in bytes) of each element in array"
   ]
  },
  {
   "cell_type": "markdown",
   "id": "f0ca2b60",
   "metadata": {},
   "source": [
    "### dot product of arrays"
   ]
  },
  {
   "cell_type": "markdown",
   "id": "701c53ae",
   "metadata": {},
   "source": [
    "###### normal way"
   ]
  },
  {
   "cell_type": "code",
   "execution_count": 11,
   "id": "d455bd26",
   "metadata": {},
   "outputs": [
    {
     "data": {
      "text/plain": [
       "32"
      ]
     },
     "execution_count": 11,
     "metadata": {},
     "output_type": "execute_result"
    }
   ],
   "source": [
    "l1 = [1,2,3]\n",
    "l2 = [4,5,6]\n",
    "list_dot = 0\n",
    "for i in range(len(l1)):\n",
    "    list_dot += l1[i]*l2[i]\n",
    "    \n",
    "list_dot"
   ]
  },
  {
   "cell_type": "markdown",
   "id": "07bbb96c",
   "metadata": {},
   "source": [
    "###### using np.dot()"
   ]
  },
  {
   "cell_type": "code",
   "execution_count": 12,
   "id": "9099c8c6",
   "metadata": {},
   "outputs": [
    {
     "data": {
      "text/plain": [
       "32"
      ]
     },
     "execution_count": 12,
     "metadata": {},
     "output_type": "execute_result"
    }
   ],
   "source": [
    "a1 = np.array(l1)\n",
    "a2 = np.array(l2)\n",
    "array_dot = np.dot(a1,a2)\n",
    "array_dot"
   ]
  },
  {
   "cell_type": "markdown",
   "id": "57ef8d49",
   "metadata": {},
   "source": [
    "###### using @ sign"
   ]
  },
  {
   "cell_type": "code",
   "execution_count": 13,
   "id": "3bb191aa",
   "metadata": {},
   "outputs": [
    {
     "data": {
      "text/plain": [
       "32"
      ]
     },
     "execution_count": 13,
     "metadata": {},
     "output_type": "execute_result"
    }
   ],
   "source": [
    "dot = a1 @ a2\n",
    "dot"
   ]
  },
  {
   "attachments": {},
   "cell_type": "markdown",
   "id": "c1d63169",
   "metadata": {},
   "source": [
    "# Multi-Dim array\n",
    "<div>\n",
    "    <img src=\"images/numpy_arrays.png\", width='600' />\n",
    "    </div>\n"
   ]
  },
  {
   "cell_type": "code",
   "execution_count": 14,
   "id": "0a99097c",
   "metadata": {},
   "outputs": [
    {
     "data": {
      "text/plain": [
       "array([[1, 2, 3],\n",
       "       [4, 5, 6]])"
      ]
     },
     "execution_count": 14,
     "metadata": {},
     "output_type": "execute_result"
    }
   ],
   "source": [
    "arr_m = np.array([[1,2,3],[4,5,6]])\n",
    "arr_m"
   ]
  },
  {
   "cell_type": "code",
   "execution_count": 15,
   "id": "6f0bddfe",
   "metadata": {},
   "outputs": [
    {
     "data": {
      "text/plain": [
       "(2, 3)"
      ]
     },
     "execution_count": 15,
     "metadata": {},
     "output_type": "execute_result"
    }
   ],
   "source": [
    "arr_m.shape"
   ]
  },
  {
   "cell_type": "markdown",
   "id": "cff20045",
   "metadata": {},
   "source": [
    "### indexing of multi dim array"
   ]
  },
  {
   "cell_type": "code",
   "execution_count": 16,
   "id": "309ec341",
   "metadata": {},
   "outputs": [
    {
     "data": {
      "text/plain": [
       "True"
      ]
     },
     "execution_count": 16,
     "metadata": {},
     "output_type": "execute_result"
    }
   ],
   "source": [
    "arr_m[0][1]\n",
    "arr_m[0,1]\n",
    "arr_m[0][1]==arr_m[0,1]"
   ]
  },
  {
   "cell_type": "markdown",
   "id": "bb93bfc1",
   "metadata": {},
   "source": [
    "### slicing"
   ]
  },
  {
   "cell_type": "code",
   "execution_count": 17,
   "id": "0e053d32",
   "metadata": {},
   "outputs": [
    {
     "data": {
      "text/plain": [
       "array([2, 5])"
      ]
     },
     "execution_count": 17,
     "metadata": {},
     "output_type": "execute_result"
    }
   ],
   "source": [
    "arr_m[:,1]    # if we want all the rows of a specific column"
   ]
  },
  {
   "cell_type": "code",
   "execution_count": 18,
   "id": "32fe79a1",
   "metadata": {},
   "outputs": [
    {
     "data": {
      "text/plain": [
       "array([4, 5, 6])"
      ]
     },
     "execution_count": 18,
     "metadata": {},
     "output_type": "execute_result"
    }
   ],
   "source": [
    "arr_m[1,:]    # if we want all the columns of a specific row"
   ]
  },
  {
   "cell_type": "code",
   "execution_count": 19,
   "id": "740b0b1c",
   "metadata": {},
   "outputs": [
    {
     "data": {
      "text/plain": [
       "array([5, 6])"
      ]
     },
     "execution_count": 19,
     "metadata": {},
     "output_type": "execute_result"
    }
   ],
   "source": [
    "arr_m[-1,-2:]"
   ]
  },
  {
   "cell_type": "markdown",
   "id": "b0dfdd5a",
   "metadata": {},
   "source": [
    "### Boolean indexing can be done by putting the condition within square brackets"
   ]
  },
  {
   "cell_type": "code",
   "execution_count": 20,
   "id": "3a09c4f9",
   "metadata": {},
   "outputs": [
    {
     "data": {
      "text/plain": [
       "array([[1, 2, 3],\n",
       "       [4, 5, 6]])"
      ]
     },
     "execution_count": 20,
     "metadata": {},
     "output_type": "execute_result"
    }
   ],
   "source": [
    "arr_m"
   ]
  },
  {
   "cell_type": "code",
   "execution_count": 21,
   "id": "a675628d",
   "metadata": {},
   "outputs": [
    {
     "data": {
      "text/plain": [
       "array([[False, False,  True],\n",
       "       [ True,  True,  True]])"
      ]
     },
     "execution_count": 21,
     "metadata": {},
     "output_type": "execute_result"
    }
   ],
   "source": [
    "arr_m>2     #"
   ]
  },
  {
   "cell_type": "code",
   "execution_count": 22,
   "id": "f92666f9",
   "metadata": {},
   "outputs": [
    {
     "name": "stdout",
     "output_type": "stream",
     "text": [
      "[2]\n"
     ]
    }
   ],
   "source": [
    "arr_2 = np.array([2,4,6])\n",
    "arr_3 = np.array([True,False,False])\n",
    "print(arr_2[arr_3])"
   ]
  },
  {
   "cell_type": "markdown",
   "id": "084fef2a",
   "metadata": {},
   "source": [
    "##### It is a convenient way to threshold images"
   ]
  },
  {
   "cell_type": "code",
   "execution_count": 23,
   "id": "203e495c",
   "metadata": {},
   "outputs": [
    {
     "data": {
      "text/plain": [
       "array([[1, 1, 1, 1, 0, 1, 1, 1, 1],\n",
       "       [1, 1, 1, 0, 0, 0, 1, 1, 1],\n",
       "       [1, 1, 1, 0, 1, 0, 1, 1, 1],\n",
       "       [1, 1, 0, 0, 1, 0, 0, 1, 1],\n",
       "       [1, 1, 0, 1, 1, 1, 0, 1, 1],\n",
       "       [1, 0, 0, 1, 1, 1, 0, 0, 1],\n",
       "       [1, 0, 1, 1, 1, 1, 1, 0, 1],\n",
       "       [1, 0, 1, 1, 1, 1, 1, 0, 1],\n",
       "       [1, 0, 1, 1, 1, 1, 1, 0, 1],\n",
       "       [1, 0, 0, 0, 0, 0, 0, 0, 1],\n",
       "       [1, 0, 1, 1, 1, 1, 1, 0, 1],\n",
       "       [1, 0, 1, 1, 1, 1, 1, 0, 1],\n",
       "       [1, 0, 1, 1, 1, 1, 1, 0, 1],\n",
       "       [1, 0, 1, 1, 1, 1, 1, 0, 1],\n",
       "       [1, 0, 1, 1, 1, 1, 1, 0, 1]], dtype=int8)"
      ]
     },
     "execution_count": 23,
     "metadata": {},
     "output_type": "execute_result"
    }
   ],
   "source": [
    "A = np.array([\n",
    "[12, 13, 14, 12, 16, 14, 11, 10,  9],\n",
    "[11, 14, 12, 15, 15, 16, 10, 12, 11],\n",
    "[10, 12, 12, 15, 14, 16, 10, 12, 12],\n",
    "[ 9, 11, 16, 15, 14, 16, 15, 12, 10],\n",
    "[12, 11, 16, 14, 10, 12, 16, 12, 13],\n",
    "[10, 15, 16, 14, 14, 14, 16, 15, 12],\n",
    "[13, 17, 14, 10, 14, 11, 14, 15, 10],\n",
    "[10, 16, 12, 14, 11, 12, 14, 18, 11],\n",
    "[10, 19, 12, 14, 11, 12, 14, 18, 10],\n",
    "[14, 22, 17, 19, 16, 17, 18, 17, 13],\n",
    "[10, 16, 12, 14, 11, 12, 14, 18, 11],\n",
    "[10, 16, 12, 14, 11, 12, 14, 18, 11],\n",
    "[10, 19, 12, 14, 11, 12, 14, 18, 10],\n",
    "[14, 22, 12, 14, 11, 12, 14, 17, 13],\n",
    "[10, 16, 12, 14, 11, 12, 14, 18, 11]])\n",
    "\n",
    "B = A<15\n",
    "B.astype(np.int8)"
   ]
  },
  {
   "cell_type": "code",
   "execution_count": 24,
   "id": "c80b30bc",
   "metadata": {},
   "outputs": [
    {
     "data": {
      "text/plain": [
       "array([3, 4, 5, 6])"
      ]
     },
     "execution_count": 24,
     "metadata": {},
     "output_type": "execute_result"
    }
   ],
   "source": [
    "arr_m[arr_m>2]"
   ]
  },
  {
   "attachments": {
    "where%28%29.webp": {
     "image/webp": "[encoded data removed]"
    }
   },
   "cell_type": "markdown",
   "id": "09e6d36b",
   "metadata": {},
   "source": [
    "##### np.where() method\n",
    "![where%28%29.webp](attachment:where%28%29.webp)"
   ]
  },
  {
   "cell_type": "code",
   "execution_count": 25,
   "id": "e6956966",
   "metadata": {},
   "outputs": [
    {
     "data": {
      "text/plain": [
       "(array([0, 1, 1, 1], dtype=int64), array([2, 0, 1, 2], dtype=int64))"
      ]
     },
     "execution_count": 25,
     "metadata": {},
     "output_type": "execute_result"
    }
   ],
   "source": [
    "np.where(arr_m>2)"
   ]
  },
  {
   "cell_type": "code",
   "execution_count": 26,
   "id": "b21909d4",
   "metadata": {},
   "outputs": [
    {
     "data": {
      "text/plain": [
       "array([[-1, -1,  3],\n",
       "       [ 4,  5,  6]])"
      ]
     },
     "execution_count": 26,
     "metadata": {},
     "output_type": "execute_result"
    }
   ],
   "source": [
    "np.where(arr_m>2, arr_m, -1)   #condition, filled false values with x, filled true values with y"
   ]
  },
  {
   "cell_type": "code",
   "execution_count": 27,
   "id": "73d23655",
   "metadata": {},
   "outputs": [
    {
     "data": {
      "text/plain": [
       "array([[0, 2, 0],\n",
       "       [4, 0, 6]])"
      ]
     },
     "execution_count": 27,
     "metadata": {},
     "output_type": "execute_result"
    }
   ],
   "source": [
    "# Finding evens\n",
    "np.where(arr_m%2==0, arr_m, 0)"
   ]
  },
  {
   "cell_type": "markdown",
   "id": "fbc7a903",
   "metadata": {},
   "source": [
    "##### fancy indexing"
   ]
  },
  {
   "cell_type": "code",
   "execution_count": 28,
   "id": "93462c09",
   "metadata": {},
   "outputs": [
    {
     "data": {
      "text/plain": [
       "array([13, 57, 78])"
      ]
     },
     "execution_count": 28,
     "metadata": {},
     "output_type": "execute_result"
    }
   ],
   "source": [
    "arr = np.array([12,13,15,57,78,34,23])\n",
    "indexes = [1,3,4]\n",
    "arr[indexes]"
   ]
  },
  {
   "cell_type": "markdown",
   "id": "503c16da",
   "metadata": {},
   "source": [
    "##### Find indexes of an array where some condition is True, using np.argwhere() method"
   ]
  },
  {
   "cell_type": "code",
   "execution_count": 29,
   "id": "587bd229",
   "metadata": {},
   "outputs": [
    {
     "data": {
      "text/plain": [
       "array([[0],\n",
       "       [4],\n",
       "       [5]], dtype=int64)"
      ]
     },
     "execution_count": 29,
     "metadata": {},
     "output_type": "execute_result"
    }
   ],
   "source": [
    "even_indexes = np.argwhere(arr%2==0)\n",
    "even_indexes"
   ]
  },
  {
   "cell_type": "code",
   "execution_count": 30,
   "id": "3d16946a",
   "metadata": {},
   "outputs": [
    {
     "data": {
      "text/plain": [
       "array([0, 4, 5], dtype=int64)"
      ]
     },
     "execution_count": 30,
     "metadata": {},
     "output_type": "execute_result"
    }
   ],
   "source": [
    "even_indexes.flatten()"
   ]
  },
  {
   "cell_type": "code",
   "execution_count": 31,
   "id": "a7fb329f",
   "metadata": {},
   "outputs": [
    {
     "data": {
      "text/plain": [
       "array([12, 78, 34])"
      ]
     },
     "execution_count": 31,
     "metadata": {},
     "output_type": "execute_result"
    }
   ],
   "source": [
    "arr[even_indexes].flatten()"
   ]
  },
  {
   "cell_type": "markdown",
   "id": "a57b55cf",
   "metadata": {},
   "source": [
    "### Transpose of an array using T attribute"
   ]
  },
  {
   "cell_type": "code",
   "execution_count": 32,
   "id": "cb3e4704",
   "metadata": {},
   "outputs": [
    {
     "data": {
      "text/plain": [
       "array([[1, 2, 3],\n",
       "       [4, 5, 6]])"
      ]
     },
     "execution_count": 32,
     "metadata": {},
     "output_type": "execute_result"
    }
   ],
   "source": [
    "arr_m"
   ]
  },
  {
   "cell_type": "code",
   "execution_count": 33,
   "id": "d651ac7f",
   "metadata": {},
   "outputs": [
    {
     "data": {
      "text/plain": [
       "array([[1, 4],\n",
       "       [2, 5],\n",
       "       [3, 6]])"
      ]
     },
     "execution_count": 33,
     "metadata": {},
     "output_type": "execute_result"
    }
   ],
   "source": [
    "arr_m.T"
   ]
  },
  {
   "cell_type": "markdown",
   "id": "e84423e6",
   "metadata": {},
   "source": [
    "### To get diagonals of an array, we use np.diag(arr)"
   ]
  },
  {
   "cell_type": "code",
   "execution_count": 34,
   "id": "bcb17331",
   "metadata": {},
   "outputs": [
    {
     "data": {
      "text/plain": [
       "array([1, 5])"
      ]
     },
     "execution_count": 34,
     "metadata": {},
     "output_type": "execute_result"
    }
   ],
   "source": [
    "np.diag(arr_m)"
   ]
  },
  {
   "cell_type": "code",
   "execution_count": 35,
   "id": "a74183dc",
   "metadata": {},
   "outputs": [
    {
     "data": {
      "text/plain": [
       "array([[1, 0],\n",
       "       [0, 5]])"
      ]
     },
     "execution_count": 35,
     "metadata": {},
     "output_type": "execute_result"
    }
   ],
   "source": [
    "np.diag(np.diag(arr_m))"
   ]
  },
  {
   "cell_type": "code",
   "execution_count": 36,
   "id": "779038ad",
   "metadata": {},
   "outputs": [
    {
     "data": {
      "text/plain": [
       "array([[1, 0, 0, 0, 0, 0],\n",
       "       [0, 6, 0, 0, 0, 0],\n",
       "       [0, 0, 8, 0, 0, 0],\n",
       "       [0, 0, 0, 7, 0, 0],\n",
       "       [0, 0, 0, 0, 4, 0],\n",
       "       [0, 0, 0, 0, 0, 9]])"
      ]
     },
     "execution_count": 36,
     "metadata": {},
     "output_type": "execute_result"
    }
   ],
   "source": [
    "np.diag(np.array([1,6,8,7,4,9,]))"
   ]
  },
  {
   "cell_type": "markdown",
   "id": "6205be95",
   "metadata": {},
   "source": [
    "### np.arange() method (array creation)"
   ]
  },
  {
   "cell_type": "code",
   "execution_count": 37,
   "id": "e029c91e",
   "metadata": {},
   "outputs": [
    {
     "data": {
      "text/plain": [
       "array([1, 2, 3, 4, 5, 6, 7, 8])"
      ]
     },
     "execution_count": 37,
     "metadata": {},
     "output_type": "execute_result"
    }
   ],
   "source": [
    "arr_3 = np.arange(1,9) # np.arange(start, end, step(by default it is 1))\n",
    "arr_3"
   ]
  },
  {
   "cell_type": "markdown",
   "id": "b4da6dd1",
   "metadata": {},
   "source": [
    "### reshape() method"
   ]
  },
  {
   "cell_type": "markdown",
   "id": "9d40d349",
   "metadata": {},
   "source": [
    "##### the shape should be equal to total number of values(elements) in the array"
   ]
  },
  {
   "cell_type": "code",
   "execution_count": 38,
   "id": "31eb09b4",
   "metadata": {},
   "outputs": [
    {
     "data": {
      "text/plain": [
       "array([[1, 2, 3, 4],\n",
       "       [5, 6, 7, 8]])"
      ]
     },
     "execution_count": 38,
     "metadata": {},
     "output_type": "execute_result"
    }
   ],
   "source": [
    "arr_4 = arr_3.reshape(2,4)\n",
    "arr_4"
   ]
  },
  {
   "cell_type": "code",
   "execution_count": 39,
   "id": "e723d698",
   "metadata": {},
   "outputs": [
    {
     "data": {
      "text/plain": [
       "(2, 4)"
      ]
     },
     "execution_count": 39,
     "metadata": {},
     "output_type": "execute_result"
    }
   ],
   "source": [
    "arr_4.shape"
   ]
  },
  {
   "cell_type": "code",
   "execution_count": 40,
   "id": "af69724b",
   "metadata": {},
   "outputs": [
    {
     "data": {
      "text/plain": [
       "array([[1, 2],\n",
       "       [3, 4],\n",
       "       [5, 6],\n",
       "       [7, 8]])"
      ]
     },
     "execution_count": 40,
     "metadata": {},
     "output_type": "execute_result"
    }
   ],
   "source": [
    "arr_4.reshape(4,2)"
   ]
  },
  {
   "cell_type": "code",
   "execution_count": 41,
   "id": "7473b582",
   "metadata": {},
   "outputs": [
    {
     "data": {
      "text/plain": [
       "(2, 4)"
      ]
     },
     "execution_count": 41,
     "metadata": {},
     "output_type": "execute_result"
    }
   ],
   "source": [
    "arr_4.shape    # it show the shape of previous arr_4. when we create new reference,the it show the reshape shape"
   ]
  },
  {
   "cell_type": "code",
   "execution_count": 42,
   "id": "b2d921e6",
   "metadata": {},
   "outputs": [
    {
     "data": {
      "text/plain": [
       "array([[[1, 2, 3, 4],\n",
       "        [5, 6, 7, 8]]])"
      ]
     },
     "execution_count": 42,
     "metadata": {},
     "output_type": "execute_result"
    }
   ],
   "source": [
    "arr_5 = arr_4[np.newaxis, :] #it is used to increase the dimension of the existing array by one more dimension, when used once. arr_\n",
    "                             #Thus, 1D array will become 2D array and 2D array will become 3D array, so on\n",
    "arr_5"
   ]
  },
  {
   "attachments": {
    "newaxis.png": {
     "image/png": "[encoded data removed]"
    }
   },
   "cell_type": "markdown",
   "id": "a7f3c735",
   "metadata": {},
   "source": [
    "![newaxis.png](attachment:newaxis.png)"
   ]
  },
  {
   "cell_type": "code",
   "execution_count": 43,
   "id": "9a8306cf",
   "metadata": {},
   "outputs": [
    {
     "data": {
      "text/plain": [
       "(1, 2, 4)"
      ]
     },
     "execution_count": 43,
     "metadata": {},
     "output_type": "execute_result"
    }
   ],
   "source": [
    "arr_5.shape"
   ]
  },
  {
   "cell_type": "code",
   "execution_count": 44,
   "id": "f72fd542",
   "metadata": {},
   "outputs": [
    {
     "data": {
      "text/plain": [
       "array([[[1, 2, 3, 4]],\n",
       "\n",
       "       [[5, 6, 7, 8]]])"
      ]
     },
     "execution_count": 44,
     "metadata": {},
     "output_type": "execute_result"
    }
   ],
   "source": [
    "arr_6 = arr_4[:, np.newaxis]\n",
    "arr_6"
   ]
  },
  {
   "cell_type": "code",
   "execution_count": 45,
   "id": "f35b5af3",
   "metadata": {},
   "outputs": [
    {
     "data": {
      "text/plain": [
       "(2, 1, 4)"
      ]
     },
     "execution_count": 45,
     "metadata": {},
     "output_type": "execute_result"
    }
   ],
   "source": [
    "arr_6.shape"
   ]
  },
  {
   "cell_type": "markdown",
   "id": "cf40ada3",
   "metadata": {},
   "source": [
    "### np.concatenate() method"
   ]
  },
  {
   "attachments": {
    "numpy-concatenate-function-image-2.png": {
     "image/png": "[encoded data removed]"
    }
   },
   "cell_type": "markdown",
   "id": "5a0cbef8",
   "metadata": {},
   "source": [
    "![numpy-concatenate-function-image-2.png](attachment:numpy-concatenate-function-image-2.png)"
   ]
  },
  {
   "cell_type": "code",
   "execution_count": 46,
   "id": "28e4c4ca",
   "metadata": {},
   "outputs": [
    {
     "data": {
      "text/plain": [
       "(array([[1, 2],\n",
       "        [3, 4]]),\n",
       " array([[5, 6]]))"
      ]
     },
     "execution_count": 46,
     "metadata": {},
     "output_type": "execute_result"
    }
   ],
   "source": [
    "m = np.array([[1,2],[3,4]])\n",
    "n = np.array([[5,6]])\n",
    "m,n"
   ]
  },
  {
   "cell_type": "code",
   "execution_count": 47,
   "id": "dd5e3bde",
   "metadata": {},
   "outputs": [
    {
     "name": "stdout",
     "output_type": "stream",
     "text": [
      "(1, 2)\n",
      "(2, 2)\n"
     ]
    }
   ],
   "source": [
    "print(n.shape)\n",
    "print(m.shape)"
   ]
  },
  {
   "cell_type": "code",
   "execution_count": 48,
   "id": "fe1ab32c",
   "metadata": {},
   "outputs": [
    {
     "data": {
      "text/plain": [
       "array([[1, 2],\n",
       "       [3, 4],\n",
       "       [5, 6]])"
      ]
     },
     "execution_count": 48,
     "metadata": {},
     "output_type": "execute_result"
    }
   ],
   "source": [
    "np.concatenate((m,n), axis=0)  # concatenate an other row"
   ]
  },
  {
   "cell_type": "code",
   "execution_count": 49,
   "id": "85d77666",
   "metadata": {},
   "outputs": [
    {
     "data": {
      "text/plain": [
       "array([[1, 2, 5],\n",
       "       [3, 4, 6]])"
      ]
     },
     "execution_count": 49,
     "metadata": {},
     "output_type": "execute_result"
    }
   ],
   "source": [
    "np.concatenate((m,n.T), axis=1)  # Concatenate another column"
   ]
  },
  {
   "cell_type": "code",
   "execution_count": 50,
   "id": "5d300bf5",
   "metadata": {},
   "outputs": [
    {
     "data": {
      "text/plain": [
       "array([1, 2, 3, 4, 5, 6])"
      ]
     },
     "execution_count": 50,
     "metadata": {},
     "output_type": "execute_result"
    }
   ],
   "source": [
    "np.concatenate((m,n), axis=None) # If axis=None, concatenation occure after flattening them"
   ]
  },
  {
   "attachments": {
    "hstack_vstack.png": {
     "image/png": "[encoded data removed]"
    }
   },
   "cell_type": "markdown",
   "id": "c7a5c654",
   "metadata": {},
   "source": [
    "### np.hstack and np.vstack concatenation method\n",
    "![hstack_vstack.png](attachment:hstack_vstack.png)"
   ]
  },
  {
   "cell_type": "code",
   "execution_count": 51,
   "id": "06c42c42",
   "metadata": {},
   "outputs": [
    {
     "data": {
      "text/plain": [
       "array([[1, 2],\n",
       "       [3, 4],\n",
       "       [5, 6]])"
      ]
     },
     "execution_count": 51,
     "metadata": {},
     "output_type": "execute_result"
    }
   ],
   "source": [
    "np.vstack((m,n))"
   ]
  },
  {
   "cell_type": "code",
   "execution_count": 52,
   "id": "6321e614",
   "metadata": {},
   "outputs": [
    {
     "data": {
      "text/plain": [
       "array([[1, 2, 5],\n",
       "       [3, 4, 6]])"
      ]
     },
     "execution_count": 52,
     "metadata": {},
     "output_type": "execute_result"
    }
   ],
   "source": [
    "np.hstack((m,n.T))"
   ]
  },
  {
   "cell_type": "code",
   "execution_count": 53,
   "id": "b9871e44",
   "metadata": {},
   "outputs": [
    {
     "data": {
      "text/plain": [
       "array([[7, 8]])"
      ]
     },
     "execution_count": 53,
     "metadata": {},
     "output_type": "execute_result"
    }
   ],
   "source": [
    "o = np.array([[7,8]])\n",
    "o"
   ]
  },
  {
   "cell_type": "code",
   "execution_count": 54,
   "id": "b2cb1f42",
   "metadata": {},
   "outputs": [
    {
     "data": {
      "text/plain": [
       "array([[5, 7],\n",
       "       [6, 8]])"
      ]
     },
     "execution_count": 54,
     "metadata": {},
     "output_type": "execute_result"
    }
   ],
   "source": [
    "np.column_stack((n.T,o.T))"
   ]
  },
  {
   "cell_type": "markdown",
   "id": "b7dfc304",
   "metadata": {},
   "source": [
    "### Broadcasting"
   ]
  },
  {
   "attachments": {},
   "cell_type": "markdown",
   "id": "9fc1f49c",
   "metadata": {},
   "source": [
    "<div>\n",
    "    <img src='images/broadcasting.jpg', width='700' />\n",
    "    </div>"
   ]
  },
  {
   "cell_type": "code",
   "execution_count": 55,
   "id": "443379ed",
   "metadata": {},
   "outputs": [
    {
     "data": {
      "text/plain": [
       "array([2, 4, 6])"
      ]
     },
     "execution_count": 55,
     "metadata": {},
     "output_type": "execute_result"
    }
   ],
   "source": [
    "np.array([1,2,3]) * 2"
   ]
  },
  {
   "cell_type": "code",
   "execution_count": 56,
   "id": "60dee2b2",
   "metadata": {},
   "outputs": [
    {
     "data": {
      "text/plain": [
       "array([[ 4,  8, 12],\n",
       "       [ 3,  6,  9]])"
      ]
     },
     "execution_count": 56,
     "metadata": {},
     "output_type": "execute_result"
    }
   ],
   "source": [
    "a_br = np.array([1,2,3])\n",
    "b_br = np.array([[4,4,4],[3,3,3]])\n",
    "a_br * b_br"
   ]
  },
  {
   "cell_type": "code",
   "execution_count": 57,
   "id": "a79f1a93",
   "metadata": {},
   "outputs": [
    {
     "data": {
      "text/plain": [
       "array([0, 1, 2])"
      ]
     },
     "execution_count": 57,
     "metadata": {},
     "output_type": "execute_result"
    }
   ],
   "source": [
    "a_br - 1"
   ]
  },
  {
   "cell_type": "markdown",
   "id": "d8a35aa7",
   "metadata": {},
   "source": [
    "### .sum(), .mean(), .max(), .min(), .std()"
   ]
  },
  {
   "cell_type": "code",
   "execution_count": 58,
   "id": "47f17400",
   "metadata": {},
   "outputs": [
    {
     "data": {
      "text/plain": [
       "array([[4, 4, 4],\n",
       "       [3, 3, 3]])"
      ]
     },
     "execution_count": 58,
     "metadata": {},
     "output_type": "execute_result"
    }
   ],
   "source": [
    "b_br"
   ]
  },
  {
   "cell_type": "code",
   "execution_count": 59,
   "id": "7776c1bf",
   "metadata": {},
   "outputs": [
    {
     "name": "stdout",
     "output_type": "stream",
     "text": [
      "3\n",
      "4\n",
      "3.5\n",
      "21\n",
      "0.816496580927726\n"
     ]
    }
   ],
   "source": [
    "print(b_br.min())\n",
    "print(b_br.max())\n",
    "print(b_br.mean())\n",
    "print(b_br.sum())\n",
    "print(a_br.std())"
   ]
  },
  {
   "cell_type": "code",
   "execution_count": 60,
   "id": "967f5899",
   "metadata": {},
   "outputs": [
    {
     "data": {
      "text/plain": [
       "array([7, 7, 7])"
      ]
     },
     "execution_count": 60,
     "metadata": {},
     "output_type": "execute_result"
    }
   ],
   "source": [
    "b_br.sum(0)   # sum elements along vertical (columns)"
   ]
  },
  {
   "cell_type": "code",
   "execution_count": 61,
   "id": "1ec9200c",
   "metadata": {},
   "outputs": [
    {
     "data": {
      "text/plain": [
       "array([12,  9])"
      ]
     },
     "execution_count": 61,
     "metadata": {},
     "output_type": "execute_result"
    }
   ],
   "source": [
    "b_br.sum(axis=1) # sum rows"
   ]
  },
  {
   "cell_type": "code",
   "execution_count": 62,
   "id": "3091e3ac",
   "metadata": {},
   "outputs": [
    {
     "data": {
      "text/plain": [
       "array([3.5, 3.5, 3.5])"
      ]
     },
     "execution_count": 62,
     "metadata": {},
     "output_type": "execute_result"
    }
   ],
   "source": [
    "b_br.mean(axis=0)   # mean along columns"
   ]
  },
  {
   "cell_type": "code",
   "execution_count": 63,
   "id": "2e2b9647",
   "metadata": {},
   "outputs": [
    {
     "data": {
      "text/plain": [
       "array([4., 3.])"
      ]
     },
     "execution_count": 63,
     "metadata": {},
     "output_type": "execute_result"
    }
   ],
   "source": [
    "b_br.mean(axis=1)   # mean along rows"
   ]
  },
  {
   "cell_type": "markdown",
   "id": "3a189048",
   "metadata": {},
   "source": [
    "#### There are several more methods, we can use them as an instance methods / array methods or numpy methods."
   ]
  },
  {
   "cell_type": "markdown",
   "id": "8aa731ae",
   "metadata": {},
   "source": [
    "###### dtype"
   ]
  },
  {
   "cell_type": "code",
   "execution_count": 64,
   "id": "b963ad2e",
   "metadata": {},
   "outputs": [
    {
     "data": {
      "text/plain": [
       "dtype('int32')"
      ]
     },
     "execution_count": 64,
     "metadata": {},
     "output_type": "execute_result"
    }
   ],
   "source": [
    "np.array([1,2,3,4]).dtype"
   ]
  },
  {
   "cell_type": "code",
   "execution_count": 65,
   "id": "1054f1c6",
   "metadata": {},
   "outputs": [
    {
     "data": {
      "text/plain": [
       "dtype('float64')"
      ]
     },
     "execution_count": 65,
     "metadata": {},
     "output_type": "execute_result"
    }
   ],
   "source": [
    "a_dt = np.array([1,2,3,4], dtype=np.float64)\n",
    "a_dt.dtype"
   ]
  },
  {
   "cell_type": "markdown",
   "id": "9c872ea6",
   "metadata": {},
   "source": [
    "##### Copying an array"
   ]
  },
  {
   "attachments": {},
   "cell_type": "markdown",
   "id": "7f931c7a",
   "metadata": {},
   "source": [
    "view() create reference to original object. If you change copied object - you change the original object.\n",
    "copy() creates new object and does real copying of original object to new one. Changing new deepcopied object doesn't affect original object.\n",
    "<div>\n",
    "    <img src='images/copying%20an%20array.png', width='500' />\n",
    "    </div>"
   ]
  },
  {
   "cell_type": "code",
   "execution_count": 66,
   "id": "ce57e3d0",
   "metadata": {},
   "outputs": [
    {
     "data": {
      "text/plain": [
       "array([1, 2, 3, 4, 5])"
      ]
     },
     "execution_count": 66,
     "metadata": {},
     "output_type": "execute_result"
    }
   ],
   "source": [
    "a_co = np.array([1,2,3,4,5])\n",
    "a_co"
   ]
  },
  {
   "cell_type": "code",
   "execution_count": 67,
   "id": "4f2fb5fd",
   "metadata": {},
   "outputs": [
    {
     "data": {
      "text/plain": [
       "array([1, 2, 3, 4, 5])"
      ]
     },
     "execution_count": 67,
     "metadata": {},
     "output_type": "execute_result"
    }
   ],
   "source": [
    "a_dco = a_co.copy()  # create deep copy with copy()\n",
    "a_dco"
   ]
  },
  {
   "cell_type": "code",
   "execution_count": 68,
   "id": "abb96662",
   "metadata": {},
   "outputs": [],
   "source": [
    "a_dco[0] *=10"
   ]
  },
  {
   "cell_type": "code",
   "execution_count": 69,
   "id": "4aaae150",
   "metadata": {},
   "outputs": [
    {
     "name": "stdout",
     "output_type": "stream",
     "text": [
      "[10  2  3  4  5]\n",
      "[1 2 3 4 5]\n"
     ]
    }
   ],
   "source": [
    "print(a_dco)\n",
    "print(a_co)"
   ]
  },
  {
   "cell_type": "code",
   "execution_count": 70,
   "id": "290e1e25",
   "metadata": {},
   "outputs": [
    {
     "data": {
      "text/plain": [
       "array([1, 2, 3, 4, 5])"
      ]
     },
     "execution_count": 70,
     "metadata": {},
     "output_type": "execute_result"
    }
   ],
   "source": [
    "a_co2 = np.array([1,2,3,4,5])\n",
    "a_sco = a_co2.view()             # create shalow copy with view()\n",
    "a_sco"
   ]
  },
  {
   "cell_type": "code",
   "execution_count": 71,
   "id": "6a5b51e1",
   "metadata": {},
   "outputs": [],
   "source": [
    "a_sco[1] *=10"
   ]
  },
  {
   "cell_type": "code",
   "execution_count": 72,
   "id": "bebb01c4",
   "metadata": {},
   "outputs": [
    {
     "name": "stdout",
     "output_type": "stream",
     "text": [
      "[ 1 20  3  4  5]\n",
      "[ 1 20  3  4  5]\n"
     ]
    }
   ],
   "source": [
    "print(a_sco)\n",
    "print(a_co2)"
   ]
  },
  {
   "cell_type": "markdown",
   "id": "e048c485",
   "metadata": {},
   "source": [
    "### Creating/generating arrays"
   ]
  },
  {
   "cell_type": "code",
   "execution_count": 73,
   "id": "9682ccb8",
   "metadata": {},
   "outputs": [
    {
     "data": {
      "text/plain": [
       "array([1, 2, 3, 4])"
      ]
     },
     "execution_count": 73,
     "metadata": {},
     "output_type": "execute_result"
    }
   ],
   "source": [
    "# conversion from python data structur\n",
    "tuple = (1,2,3,4)\n",
    "np.array(tuple)"
   ]
  },
  {
   "cell_type": "code",
   "execution_count": 74,
   "id": "2b102a09",
   "metadata": {},
   "outputs": [
    {
     "data": {
      "text/plain": [
       "array([[0., 0., 0.],\n",
       "       [0., 0., 0.]])"
      ]
     },
     "execution_count": 74,
     "metadata": {},
     "output_type": "execute_result"
    }
   ],
   "source": [
    "# np.zeros\n",
    "np.zeros((2,3))        "
   ]
  },
  {
   "cell_type": "code",
   "execution_count": 75,
   "id": "47f935fd",
   "metadata": {},
   "outputs": [
    {
     "name": "stdout",
     "output_type": "stream",
     "text": [
      "[[0 0 0]\n",
      " [0 0 0]]\n"
     ]
    }
   ],
   "source": [
    "a_zeros = np.zeros((2,3), dtype = int)\n",
    "print(a_zeros)"
   ]
  },
  {
   "cell_type": "code",
   "execution_count": 76,
   "id": "3b61c5f4",
   "metadata": {},
   "outputs": [
    {
     "data": {
      "text/plain": [
       "array([1, 1, 1])"
      ]
     },
     "execution_count": 76,
     "metadata": {},
     "output_type": "execute_result"
    }
   ],
   "source": [
    "# np.ones\n",
    "np.ones((3), dtype=int)"
   ]
  },
  {
   "cell_type": "code",
   "execution_count": 77,
   "id": "27847b72",
   "metadata": {},
   "outputs": [
    {
     "data": {
      "text/plain": [
       "array([[5, 5, 5],\n",
       "       [5, 5, 5]])"
      ]
     },
     "execution_count": 77,
     "metadata": {},
     "output_type": "execute_result"
    }
   ],
   "source": [
    "# np.full\n",
    "np.full((2,3),5)"
   ]
  },
  {
   "cell_type": "code",
   "execution_count": 78,
   "id": "e646018c",
   "metadata": {},
   "outputs": [
    {
     "data": {
      "text/plain": [
       "array([[1, 2, 3, 4],\n",
       "       [1, 2, 3, 4],\n",
       "       [1, 2, 3, 4]])"
      ]
     },
     "execution_count": 78,
     "metadata": {},
     "output_type": "execute_result"
    }
   ],
   "source": [
    "np.full((3,4), [1,2,3,4])"
   ]
  },
  {
   "cell_type": "code",
   "execution_count": 79,
   "id": "68891ee0",
   "metadata": {},
   "outputs": [
    {
     "data": {
      "text/plain": [
       "array([[1., 0., 0., 0.],\n",
       "       [0., 1., 0., 0.],\n",
       "       [0., 0., 1., 0.],\n",
       "       [0., 0., 0., 1.]])"
      ]
     },
     "execution_count": 79,
     "metadata": {},
     "output_type": "execute_result"
    }
   ],
   "source": [
    "# identity matrix (array)\n",
    "np.eye(4)"
   ]
  },
  {
   "cell_type": "code",
   "execution_count": 80,
   "id": "18024cf3",
   "metadata": {},
   "outputs": [
    {
     "data": {
      "text/plain": [
       "array([[1, 0, 0],\n",
       "       [0, 1, 0],\n",
       "       [0, 0, 1]])"
      ]
     },
     "execution_count": 80,
     "metadata": {},
     "output_type": "execute_result"
    }
   ],
   "source": [
    "np.eye(3, dtype=int)"
   ]
  },
  {
   "cell_type": "code",
   "execution_count": 81,
   "id": "e6e32f26",
   "metadata": {},
   "outputs": [
    {
     "data": {
      "text/plain": [
       "array([[1., 0., 0., 0.],\n",
       "       [0., 1., 0., 0.]])"
      ]
     },
     "execution_count": 81,
     "metadata": {},
     "output_type": "execute_result"
    }
   ],
   "source": [
    "np.eye(2,4)"
   ]
  },
  {
   "cell_type": "code",
   "execution_count": 82,
   "id": "e8eaa9fa",
   "metadata": {},
   "outputs": [],
   "source": [
    "# linespace()"
   ]
  },
  {
   "attachments": {},
   "cell_type": "markdown",
   "id": "7573e8a7",
   "metadata": {},
   "source": [
    "<div>\n",
    "    <img src='images/linspace.jpg', width='600' />\n",
    "    </div>"
   ]
  },
  {
   "cell_type": "code",
   "execution_count": 83,
   "id": "f0858ed1",
   "metadata": {},
   "outputs": [
    {
     "data": {
      "text/plain": [
       "array([ 1.,  2.,  3.,  4.,  5.,  6.,  7.,  8.,  9., 10., 11., 12., 13.,\n",
       "       14., 15., 16., 17., 18., 19., 20., 21., 22., 23., 24., 25., 26.,\n",
       "       27., 28., 29., 30., 31., 32., 33., 34., 35., 36., 37., 38., 39.,\n",
       "       40., 41., 42., 43., 44., 45., 46., 47., 48., 49., 50.])"
      ]
     },
     "execution_count": 83,
     "metadata": {},
     "output_type": "execute_result"
    }
   ],
   "source": [
    "np.linspace(1,50)"
   ]
  },
  {
   "cell_type": "code",
   "execution_count": 84,
   "id": "7bd83713",
   "metadata": {},
   "outputs": [
    {
     "data": {
      "text/plain": [
       "array([ 1.        ,  3.11111111,  5.22222222,  7.33333333,  9.44444444,\n",
       "       11.55555556, 13.66666667, 15.77777778, 17.88888889, 20.        ])"
      ]
     },
     "execution_count": 84,
     "metadata": {},
     "output_type": "execute_result"
    }
   ],
   "source": [
    "np.linspace(1,20,10)"
   ]
  },
  {
   "cell_type": "code",
   "execution_count": 85,
   "id": "08f5fd75",
   "metadata": {},
   "outputs": [
    {
     "name": "stdout",
     "output_type": "stream",
     "text": [
      "[35 34 34  1 16 19 10 40 20 21  8 48 12 30 22 25 25 17 36 37 49 21  9 33\n",
      " 44 22 37  2 48 15]\n"
     ]
    }
   ],
   "source": [
    "# array of random values\n",
    "# np.random.randint(1,10(remain between these limits, 5(no. of elements)))\n",
    "# randint takes low, high, size\n",
    "rand_array = np.random.randint(1,50,30)\n",
    "print(rand_array)"
   ]
  },
  {
   "cell_type": "code",
   "execution_count": 107,
   "id": "9009f8cd",
   "metadata": {},
   "outputs": [
    {
     "data": {
      "text/plain": [
       "array([[10,  5,  7],\n",
       "       [ 6,  9, 23],\n",
       "       [16, 11, 15]])"
      ]
     },
     "execution_count": 107,
     "metadata": {},
     "output_type": "execute_result"
    }
   ],
   "source": [
    "np.random.randint(low=1, high=30, size=(3,3))  # if only one value is provided, then low=0"
   ]
  },
  {
   "cell_type": "code",
   "execution_count": 109,
   "id": "e6440f39",
   "metadata": {},
   "outputs": [
    {
     "data": {
      "text/plain": [
       "array([[4, 3, 2],\n",
       "       [1, 2, 4]])"
      ]
     },
     "execution_count": 109,
     "metadata": {},
     "output_type": "execute_result"
    }
   ],
   "source": [
    "# np.radom.choice\n",
    "np.random.choice([1,2,3,4,5], (2,3))"
   ]
  },
  {
   "cell_type": "markdown",
   "id": "29327a99",
   "metadata": {},
   "source": [
    "#### Reading arrays from custom file formats like CSV"
   ]
  },
  {
   "cell_type": "code",
   "execution_count": 104,
   "id": "52672bda",
   "metadata": {},
   "outputs": [],
   "source": [
    "games_data = np.genfromtxt('./data.csv', delimiter=',', invalid_raise = False)"
   ]
  },
  {
   "cell_type": "code",
   "execution_count": 105,
   "id": "3998685b",
   "metadata": {},
   "outputs": [
    {
     "data": {
      "text/plain": [
       "(100, 28)"
      ]
     },
     "execution_count": 105,
     "metadata": {},
     "output_type": "execute_result"
    }
   ],
   "source": [
    "games_data.shape"
   ]
  },
  {
   "cell_type": "markdown",
   "id": "020e997e",
   "metadata": {},
   "source": [
    "##### np.hsplit  & np..vsplit"
   ]
  },
  {
   "cell_type": "code",
   "execution_count": 132,
   "id": "0c63064d",
   "metadata": {},
   "outputs": [
    {
     "data": {
      "text/plain": [
       "array([[ 0,  1,  2,  3],\n",
       "       [ 4,  5,  6,  7],\n",
       "       [ 8,  9, 10, 11],\n",
       "       [12, 13, 14, 15]])"
      ]
     },
     "execution_count": 132,
     "metadata": {},
     "output_type": "execute_result"
    }
   ],
   "source": [
    "# np.hsplit() is used to split the arrays horizontally, columns wise\n",
    "arr_sp = np.arange(16).reshape(4,4)\n",
    "arr_sp"
   ]
  },
  {
   "cell_type": "code",
   "execution_count": 133,
   "id": "3c85fae9",
   "metadata": {},
   "outputs": [
    {
     "data": {
      "text/plain": [
       "[array([[ 0,  1],\n",
       "        [ 4,  5],\n",
       "        [ 8,  9],\n",
       "        [12, 13]]),\n",
       " array([[ 2,  3],\n",
       "        [ 6,  7],\n",
       "        [10, 11],\n",
       "        [14, 15]])]"
      ]
     },
     "execution_count": 133,
     "metadata": {},
     "output_type": "execute_result"
    }
   ],
   "source": [
    "# passing array and no of splits\n",
    "np.hsplit(arr_sp, 2)"
   ]
  },
  {
   "cell_type": "code",
   "execution_count": 135,
   "id": "2e501d6b",
   "metadata": {},
   "outputs": [
    {
     "data": {
      "text/plain": [
       "[array([[ 0],\n",
       "        [ 4],\n",
       "        [ 8],\n",
       "        [12]]),\n",
       " array([[ 1,  2],\n",
       "        [ 5,  6],\n",
       "        [ 9, 10],\n",
       "        [13, 14]]),\n",
       " array([[ 3],\n",
       "        [ 7],\n",
       "        [11],\n",
       "        [15]])]"
      ]
     },
     "execution_count": 135,
     "metadata": {},
     "output_type": "execute_result"
    }
   ],
   "source": [
    "# Passing the array with the indices where the split needed\n",
    "np.hsplit(arr_sp, [1,3])"
   ]
  },
  {
   "cell_type": "code",
   "execution_count": 136,
   "id": "8cbf4d41",
   "metadata": {},
   "outputs": [
    {
     "data": {
      "text/plain": [
       "[array([[0, 1, 2, 3],\n",
       "        [4, 5, 6, 7]]),\n",
       " array([[ 8,  9, 10, 11],\n",
       "        [12, 13, 14, 15]])]"
      ]
     },
     "execution_count": 136,
     "metadata": {},
     "output_type": "execute_result"
    }
   ],
   "source": [
    "# vertical split\n",
    "np.vsplit(arr_sp,2)\n"
   ]
  },
  {
   "cell_type": "code",
   "execution_count": 139,
   "id": "947a9ab7",
   "metadata": {},
   "outputs": [
    {
     "data": {
      "text/plain": [
       "[array([[0, 1, 2, 3],\n",
       "        [4, 5, 6, 7]]),\n",
       " array([[ 8,  9, 10, 11],\n",
       "        [12, 13, 14, 15]])]"
      ]
     },
     "execution_count": 139,
     "metadata": {},
     "output_type": "execute_result"
    }
   ],
   "source": [
    "np.split(arr_sp, 2)   # split = vsplit"
   ]
  },
  {
   "cell_type": "code",
   "execution_count": 140,
   "id": "0fd20276",
   "metadata": {},
   "outputs": [
    {
     "data": {
      "text/plain": [
       "[array([[0, 1, 2, 3]]),\n",
       " array([[ 4,  5,  6,  7],\n",
       "        [ 8,  9, 10, 11]]),\n",
       " array([[12, 13, 14, 15]]),\n",
       " array([], shape=(0, 4), dtype=int32)]"
      ]
     },
     "execution_count": 140,
     "metadata": {},
     "output_type": "execute_result"
    }
   ],
   "source": [
    "# if the provided index is not there, it will create an empty array of same shape\n",
    "np.vsplit(arr_sp, [1,3,8])"
   ]
  },
  {
   "attachments": {},
   "cell_type": "markdown",
   "id": "8af823db",
   "metadata": {},
   "source": [
    "#### nditer()\n",
    "The main purpose of the nditer() function is to iterate an array of objects\n",
    "<div> \n",
    "    <img src=\"images/Row_and_column_major_order.png\", width='300'/>\n",
    "</div>"
   ]
  },
  {
   "cell_type": "code",
   "execution_count": 146,
   "id": "87673249",
   "metadata": {},
   "outputs": [
    {
     "data": {
      "text/plain": [
       "array([[0, 1, 2],\n",
       "       [3, 4, 5],\n",
       "       [6, 7, 8]])"
      ]
     },
     "execution_count": 146,
     "metadata": {},
     "output_type": "execute_result"
    }
   ],
   "source": [
    "# C order (row major order) to iterate over each row and each column\n",
    "# F (fortan/column major order) order to iterate over each column and each row\n",
    "\n",
    "arr_rmo = np.arange(9).reshape(3,3)\n",
    "arr_rmo"
   ]
  },
  {
   "cell_type": "code",
   "execution_count": 144,
   "id": "35e6ac8f",
   "metadata": {},
   "outputs": [
    {
     "name": "stdout",
     "output_type": "stream",
     "text": [
      "0\n",
      "1\n",
      "2\n",
      "3\n",
      "4\n",
      "5\n",
      "6\n",
      "7\n",
      "8\n"
     ]
    }
   ],
   "source": [
    "# row major order\n",
    "# by default it\n",
    "for i in np.nditer(arr_rmo):\n",
    "    print(i)"
   ]
  },
  {
   "cell_type": "code",
   "execution_count": 145,
   "id": "dc7c32d2",
   "metadata": {},
   "outputs": [
    {
     "name": "stdout",
     "output_type": "stream",
     "text": [
      "0\n",
      "3\n",
      "6\n",
      "1\n",
      "4\n",
      "7\n",
      "2\n",
      "5\n",
      "8\n"
     ]
    }
   ],
   "source": [
    "# colum major order\n",
    "for i in np.nditer(arr_rmo, order='F'):\n",
    "    print(i)"
   ]
  },
  {
   "cell_type": "code",
   "execution_count": 163,
   "id": "75ad00de",
   "metadata": {},
   "outputs": [
    {
     "name": "stdout",
     "output_type": "stream",
     "text": [
      "[0 3 6]\n",
      "[1 4 7]\n",
      "[2 5 8]\n"
     ]
    }
   ],
   "source": [
    "# Use external loop flag to loop only once.\n",
    "for i in np.nditer(arr_rmo, order='F', flags=[\"external_loop\"]):\n",
    "    print(i)"
   ]
  },
  {
   "cell_type": "code",
   "execution_count": 172,
   "id": "8a7bb2bb",
   "metadata": {},
   "outputs": [
    {
     "data": {
      "text/plain": [
       "array([[[ 1,  2],\n",
       "        [ 3,  4]],\n",
       "\n",
       "       [[ 5,  6],\n",
       "        [ 7,  8]],\n",
       "\n",
       "       [[ 9, 10],\n",
       "        [11, 12]],\n",
       "\n",
       "       [[13, 14],\n",
       "        [15, 16]]])"
      ]
     },
     "execution_count": 172,
     "metadata": {},
     "output_type": "execute_result"
    }
   ],
   "source": [
    "arrr = np.array([np.arange(1,5).reshape(2,2),\n",
    "                np.arange(5,9).reshape(2,2),\n",
    "                np.arange(9,13).reshape(2,2),\n",
    "                np.arange(13,17).reshape(2,2)])\n",
    "arrr"
   ]
  },
  {
   "cell_type": "code",
   "execution_count": 175,
   "id": "fe693814",
   "metadata": {},
   "outputs": [
    {
     "name": "stdout",
     "output_type": "stream",
     "text": [
      "[ 1  5  9 13]\n",
      "[ 3  7 11 15]\n",
      "[ 2  6 10 14]\n",
      "[ 4  8 12 16]\n"
     ]
    }
   ],
   "source": [
    "# Use external_loop flag to make 1 dimensional array values\n",
    "arrr2=arrr.copy()\n",
    "for i in np.nditer(arrr2, order=\"F\", flags=[\"external_loop\"]):\n",
    "    print(i)"
   ]
  },
  {
   "cell_type": "code",
   "execution_count": 176,
   "id": "1f852a98",
   "metadata": {},
   "outputs": [
    {
     "name": "stdout",
     "output_type": "stream",
     "text": [
      "1\n",
      "25\n",
      "81\n",
      "169\n",
      "9\n",
      "49\n",
      "121\n",
      "225\n",
      "4\n",
      "36\n",
      "100\n",
      "196\n",
      "16\n",
      "64\n",
      "144\n",
      "256\n"
     ]
    }
   ],
   "source": [
    "# makes the value readable and writeable both\n",
    "arrr3=arrr.copy()\n",
    "for i in np.nditer(arrr3, order=\"F\", op_flags=[\"readwrite\"]):\n",
    "    i[...]=i*i\n",
    "    print(i)"
   ]
  },
  {
   "cell_type": "code",
   "execution_count": 178,
   "id": "273de413",
   "metadata": {},
   "outputs": [
    {
     "data": {
      "text/plain": [
       "array([[10, 20],\n",
       "       [30, 40]])"
      ]
     },
     "execution_count": 178,
     "metadata": {},
     "output_type": "execute_result"
    }
   ],
   "source": [
    "x = np.arange(10,50,10).reshape(2,2)\n",
    "x"
   ]
  },
  {
   "cell_type": "code",
   "execution_count": 179,
   "id": "0424b12a",
   "metadata": {},
   "outputs": [
    {
     "data": {
      "text/plain": [
       "array([[50, 60],\n",
       "       [70, 80]])"
      ]
     },
     "execution_count": 179,
     "metadata": {},
     "output_type": "execute_result"
    }
   ],
   "source": [
    "y = np.arange(50,90,10).reshape(2,2)\n",
    "y"
   ]
  },
  {
   "cell_type": "code",
   "execution_count": 180,
   "id": "927e4dc8",
   "metadata": {},
   "outputs": [
    {
     "name": "stdout",
     "output_type": "stream",
     "text": [
      "10 50\n",
      "20 60\n",
      "30 70\n",
      "40 80\n"
     ]
    }
   ],
   "source": [
    "for x,y in np.nditer([x,y]):\n",
    "    print(x,y)"
   ]
  },
  {
   "cell_type": "code",
   "execution_count": null,
   "id": "82d23505",
   "metadata": {},
   "outputs": [],
   "source": []
  }
 ],
 "metadata": {
  "kernelspec": {
   "display_name": "Python 3 (ipykernel)",
   "language": "python",
   "name": "python3"
  },
  "language_info": {
   "codemirror_mode": {
    "name": "ipython",
    "version": 3
   },
   "file_extension": ".py",
   "mimetype": "text/x-python",
   "name": "python",
   "nbconvert_exporter": "python",
   "pygments_lexer": "ipython3",
   "version": "3.9.7"
  }
 },
 "nbformat": 4,
 "nbformat_minor": 5
}
