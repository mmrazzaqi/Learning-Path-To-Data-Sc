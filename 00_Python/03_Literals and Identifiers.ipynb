{
 "cells": [
  {
   "cell_type": "markdown",
   "id": "050f2e06",
   "metadata": {},
   "source": [
    "## Literals and Identifiers\n",
    "A **variable** is a storage location that has an **associated symbolic name (called “identifier”)**, which contains **some value (can be literal or other data)** that can change. <br>\n",
    "An **identifier** is a name used to identify a variable, function, class, module, or another object. <br>\n",
    "**Literal** is a notation for constant values of some built-in type. Literal can be string, plain integer, long integer, floating-point number, imaginary number. "
   ]
  },
  {
   "cell_type": "code",
   "execution_count": 2,
   "id": "a95b4d3a",
   "metadata": {},
   "outputs": [
    {
     "name": "stdout",
     "output_type": "stream",
     "text": [
      "105\n"
     ]
    }
   ],
   "source": [
    "num_1 = 5     # num_1 is identifier and 5 is numeric literal.\n",
    "\n",
    "num_2 = 0b1101001     # num_2 is identifier and 5 is Binary literal.\n",
    "print(num_2)"
   ]
  },
  {
   "cell_type": "markdown",
   "id": "680975de",
   "metadata": {},
   "source": [
    "Python has different types of literals.\n",
    "\n",
    "1. String literals\n",
    "2. Numeric literals\n",
    "3. Boolean literals\n",
    "4. Literal Collections\n",
    "5. Special literals"
   ]
  },
  {
   "cell_type": "markdown",
   "id": "faee3c2d",
   "metadata": {},
   "source": [
    "##### String literals\n",
    "A string literal can be created by writing a text(a group of Characters ) surrounded by the single(”), double(“”), or triple quotes.  By using triple quotes we can write multi-line strings or display in the desired way. "
   ]
  },
  {
   "cell_type": "code",
   "execution_count": 5,
   "id": "6de9a931",
   "metadata": {},
   "outputs": [
    {
     "name": "stdout",
     "output_type": "stream",
     "text": [
      "mmrazzaqi\n",
      "mmrazzaqi\n",
      "mm\n",
      "           razzaqi\n",
      "m\n",
      "n\n",
      "s\n",
      "                i\n"
     ]
    }
   ],
   "source": [
    "# in single quote\n",
    "x = 'mmrazzaqi'\n",
    " \n",
    "# in double quotes\n",
    "y = \"mmrazzaqi\"\n",
    " \n",
    "# multi-line String\n",
    "z = '''mm\n",
    "           razzaqi'''\n",
    " \n",
    "print(x)\n",
    "print(y)\n",
    "print(z)\n",
    "\n",
    "\n",
    "# Character literal\n",
    "char_1 = 'm'\n",
    "char_2 = \"n\"\n",
    "char_3 = '''s\n",
    "                i'''\n",
    "\n",
    "print(char_1)\n",
    "print(char_2)\n",
    "print(char_3)"
   ]
  },
  {
   "cell_type": "markdown",
   "id": "94f17540",
   "metadata": {},
   "source": [
    "##### Numeric literals\n",
    "1. Integer\n",
    "2. Float\n",
    "3. Complex."
   ]
  },
  {
   "cell_type": "code",
   "execution_count": 6,
   "id": "ab085ebd",
   "metadata": {},
   "outputs": [
    {
     "name": "stdout",
     "output_type": "stream",
     "text": [
      "20 208 299\n"
     ]
    }
   ],
   "source": [
    "# Binary Literals\n",
    "bin = 0b10100\n",
    " \n",
    "# Octal Literal\n",
    "oct = 0o320\n",
    " \n",
    "# Hexadecimal Literal\n",
    "hex = 0x12b\n",
    " \n",
    "print(bin, oct, hex)\n"
   ]
  },
  {
   "cell_type": "markdown",
   "id": "6ac4268b",
   "metadata": {},
   "source": [
    "##### Boolean Literals"
   ]
  },
  {
   "cell_type": "code",
   "execution_count": 16,
   "id": "49dbe6ca",
   "metadata": {},
   "outputs": [
    {
     "name": "stdout",
     "output_type": "stream",
     "text": [
      "True \n",
      " False \n",
      " 4 \n",
      " 3\n"
     ]
    }
   ],
   "source": [
    "a = (1 == True)\n",
    "b = (1 == False)\n",
    "\n",
    "bol = True + 3\n",
    "bol_2 = False + 3\n",
    "print(a, \"\\n\", b, \"\\n\", bol, \"\\n\", bol_2)"
   ]
  },
  {
   "cell_type": "markdown",
   "id": "b868d899",
   "metadata": {},
   "source": [
    "##### Literal Collections\n",
    "\n",
    "1. List literals\n",
    "2. Tuple literals\n",
    "3. Dict literals\n",
    "4. Set literals"
   ]
  },
  {
   "cell_type": "markdown",
   "id": "5efd29a5",
   "metadata": {},
   "source": [
    "##### Special literals\n",
    "Python contains one special literal (None). <br>\n",
    "**‘None’** is used to define a null variable. <br>\n",
    "If **‘None’** is compared with anything else other than a ‘None’, it will return false."
   ]
  },
  {
   "cell_type": "code",
   "execution_count": 17,
   "id": "d923c7fb",
   "metadata": {},
   "outputs": [
    {
     "data": {
      "text/plain": [
       "True"
      ]
     },
     "execution_count": 17,
     "metadata": {},
     "output_type": "execute_result"
    }
   ],
   "source": [
    "None == None"
   ]
  },
  {
   "cell_type": "code",
   "execution_count": 18,
   "id": "96cd196b",
   "metadata": {},
   "outputs": [
    {
     "data": {
      "text/plain": [
       "False"
      ]
     },
     "execution_count": 18,
     "metadata": {},
     "output_type": "execute_result"
    }
   ],
   "source": [
    "1 == None"
   ]
  },
  {
   "cell_type": "code",
   "execution_count": 19,
   "id": "976753c4",
   "metadata": {},
   "outputs": [
    {
     "name": "stdout",
     "output_type": "stream",
     "text": [
      "None\n"
     ]
    }
   ],
   "source": [
    "max = None\n",
    "print(max)"
   ]
  }
 ],
 "metadata": {
  "kernelspec": {
   "display_name": "Python 3 (ipykernel)",
   "language": "python",
   "name": "python3"
  },
  "language_info": {
   "codemirror_mode": {
    "name": "ipython",
    "version": 3
   },
   "file_extension": ".py",
   "mimetype": "text/x-python",
   "name": "python",
   "nbconvert_exporter": "python",
   "pygments_lexer": "ipython3",
   "version": "3.9.7"
  }
 },
 "nbformat": 4,
 "nbformat_minor": 5
}
