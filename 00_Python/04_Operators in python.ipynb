{
 "cells": [
  {
   "cell_type": "markdown",
   "id": "94a6e016",
   "metadata": {},
   "source": [
    "## Operators in python\n",
    "\n",
    "### Arithmetic operators\n",
    "\n",
    "<img src=\"images/operation-in-python.png\" width=\"500\" />"
   ]
  },
  {
   "cell_type": "code",
   "execution_count": 1,
   "id": "3ea5138a",
   "metadata": {},
   "outputs": [
    {
     "name": "stdout",
     "output_type": "stream",
     "text": [
      "x + y = 19\n",
      "x - y = 11\n",
      "x * y = 60\n",
      "x / y = 3.75\n",
      "x % y = 3\n",
      "x ** y = 50625\n",
      "x // y = 3\n"
     ]
    }
   ],
   "source": [
    "x = 15\n",
    "y = 4\n",
    "\n",
    "print('x + y =', x+y)\n",
    "\n",
    "print('x - y =',x-y)\n",
    "\n",
    "print('x * y =',x*y)\n",
    "\n",
    "print('x / y =',x/y)  # it always return float\n",
    "\n",
    "\n",
    "print('x % y =',x%y)\n",
    "\n",
    "\n",
    "print('x ** y =',x**y)\n",
    "\n",
    "\n",
    "print('x // y =',x//y)\n",
    "\n",
    "\n"
   ]
  },
  {
   "cell_type": "markdown",
   "id": "cc1320b5",
   "metadata": {},
   "source": [
    "### Comparison operators\n",
    "\n",
    "<img src=\"images/relational-operator-in-python.png\" width=\"500\" />\n"
   ]
  },
  {
   "cell_type": "code",
   "execution_count": 2,
   "id": "9b7f9d61",
   "metadata": {},
   "outputs": [
    {
     "name": "stdout",
     "output_type": "stream",
     "text": [
      "x > y is False\n",
      "x < y is True\n",
      "x == y is False\n",
      "x != y is True\n",
      "x >= y is False\n",
      "x <= y is True\n"
     ]
    }
   ],
   "source": [
    "x = 10\n",
    "y = 12\n",
    "\n",
    "\n",
    "print('x > y is',x>y)\n",
    "\n",
    "\n",
    "print('x < y is',x<y)\n",
    "\n",
    "\n",
    "print('x == y is',x==y)\n",
    "\n",
    "\n",
    "print('x != y is',x!=y)\n",
    "\n",
    "\n",
    "print('x >= y is',x>=y)\n",
    "\n",
    "\n",
    "print('x <= y is',x<=y)"
   ]
  },
  {
   "cell_type": "markdown",
   "id": "d21c8fc9",
   "metadata": {},
   "source": [
    "### Logical operators\n",
    "\n",
    "<img src=\"images/logical_operators.png\" width=\"500\" />"
   ]
  },
  {
   "cell_type": "code",
   "execution_count": 3,
   "id": "949aebe0",
   "metadata": {},
   "outputs": [
    {
     "name": "stdout",
     "output_type": "stream",
     "text": [
      "x and y is False\n",
      "x or y is True\n",
      "not x is False\n"
     ]
    }
   ],
   "source": [
    "x = True\n",
    "y = False\n",
    "\n",
    "print('x and y is',x and y)\n",
    "\n",
    "print('x or y is',x or y)\n",
    "\n",
    "print('not x is',not x)"
   ]
  },
  {
   "cell_type": "markdown",
   "id": "80f27c6b",
   "metadata": {},
   "source": [
    "### Bitwise operators\n",
    "\n",
    "Bitwise operators are used to performing bitwise calculations on integers. The integers are first converted into binary and then operations are performed on bit by bit, hence the name bitwise operators.\n",
    "\n",
    "<img src=\"images/bitwise-operators.png\" width=\"500\" />\n",
    "\n",
    "<img src=\"images/bitwise_and_opr.png\" width=\"500\" />\n",
    "\n",
    "<br>\n",
    "\n",
    "**Bitwise right shift:** Shifts the bits of the number to the right and fills 0 on voids left( fills 1 in the case of a negative number) as a result.\n",
    "\n",
    "<img src=\"images/bitwise_r_shift.jpg\" width=\"500\" />\n",
    "\n",
    "**Bitwise left shift:** Shifts the bits of the number to the left and fills 0 on voids right as a result.\n",
    "\n",
    "<br>\n",
    "\n",
    "<img src=\"images/bitwise-left-shift.png\" width=\"500\" />\n",
    "\n"
   ]
  },
  {
   "cell_type": "code",
   "execution_count": 5,
   "id": "8041d119",
   "metadata": {},
   "outputs": [
    {
     "name": "stdout",
     "output_type": "stream",
     "text": [
      "a & b = 0\n",
      "a | b = 14\n",
      "~a = -11\n",
      "a ^ b = 14\n"
     ]
    }
   ],
   "source": [
    "a = 10\n",
    "b = 4\n",
    " \n",
    "\n",
    "print(\"a & b =\", a & b)\n",
    " \n",
    "\n",
    "print(\"a | b =\", a | b)\n",
    " \n",
    "\n",
    "print(\"~a =\", ~a)\n",
    " \n",
    "\n",
    "print(\"a ^ b =\", a ^ b)"
   ]
  },
  {
   "cell_type": "markdown",
   "id": "189b6f32",
   "metadata": {},
   "source": [
    "## Assignment operators\n",
    "\n",
    "<img src=\"images/assignment-operators-python.png\" width=\"600\" />\n"
   ]
  },
  {
   "cell_type": "markdown",
   "id": "c43f1004",
   "metadata": {},
   "source": [
    "## Special operators\n",
    "### Identity operators\n",
    "**is** and **is not** are the identity operators in Python. They are used to check if two values (or variables) are located on the same part of the memory. Two variables that are equal does not imply that they are identical.\n",
    "\n",
    "<img src=\"images/identity_op.png\" width=\"600\" />\n"
   ]
  },
  {
   "cell_type": "code",
   "execution_count": 7,
   "id": "6d224fc1",
   "metadata": {},
   "outputs": [
    {
     "name": "stdout",
     "output_type": "stream",
     "text": [
      "False\n",
      "True\n"
     ]
    }
   ],
   "source": [
    "num_1 = 2\n",
    "num_2 = 5\n",
    "\n",
    "print(num_1 is num_2)\n",
    "\n",
    "num_3 = 10\n",
    "num_4 = 10\n",
    "print(num_3 is num_4)"
   ]
  },
  {
   "cell_type": "markdown",
   "id": "8bba6c05",
   "metadata": {},
   "source": [
    "### Membership operators\n",
    "**in** and **not in** are the membership operators in Python. They are used to test whether a value or variable is found in a sequence (string, list, tuple, set and dictionary).\n",
    "\n",
    "In a dictionary we can only test for presence of key, not the value.\n",
    "\n",
    "<img src=\"images/membership_operators.png\" width=\"600\" />"
   ]
  },
  {
   "cell_type": "code",
   "execution_count": 8,
   "id": "c4d9203f",
   "metadata": {},
   "outputs": [
    {
     "name": "stdout",
     "output_type": "stream",
     "text": [
      "True\n",
      "True\n",
      "True\n",
      "False\n"
     ]
    }
   ],
   "source": [
    "x = 'Hello world'\n",
    "y = {1:'a',2:'b'}\n",
    "\n",
    "\n",
    "print('H' in x)\n",
    "\n",
    "\n",
    "print('hello' not in x)\n",
    "\n",
    "\n",
    "print(1 in y)\n",
    "\n",
    "\n",
    "print('a' in y)"
   ]
  },
  {
   "cell_type": "code",
   "execution_count": null,
   "id": "b7480c10",
   "metadata": {},
   "outputs": [],
   "source": []
  }
 ],
 "metadata": {
  "kernelspec": {
   "display_name": "Python 3 (ipykernel)",
   "language": "python",
   "name": "python3"
  },
  "language_info": {
   "codemirror_mode": {
    "name": "ipython",
    "version": 3
   },
   "file_extension": ".py",
   "mimetype": "text/x-python",
   "name": "python",
   "nbconvert_exporter": "python",
   "pygments_lexer": "ipython3",
   "version": "3.9.7"
  }
 },
 "nbformat": 4,
 "nbformat_minor": 5
}
