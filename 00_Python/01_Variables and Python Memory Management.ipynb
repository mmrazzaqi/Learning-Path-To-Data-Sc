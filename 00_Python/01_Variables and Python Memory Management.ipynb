{
 "cells": [
  {
   "cell_type": "markdown",
   "id": "9133e3e3",
   "metadata": {},
   "source": [
    "**Garbage collection** is a process in which the interpreter frees up the memory when not in use to make it available for other objects. <br>\n",
    "\n",
    "#### Memory Allocation in Python\n",
    "- stack memory\n",
    "- heap memory\n",
    "\n",
    "The methods/method calls and the references are stored in stack memory <br>\n",
    "All the values objects are stored in a private heap.\n",
    "\n"
   ]
  },
  {
   "cell_type": "code",
   "execution_count": 19,
   "id": "a4a331e0",
   "metadata": {},
   "outputs": [
    {
     "data": {
      "text/plain": [
       "11"
      ]
     },
     "execution_count": 19,
     "metadata": {},
     "output_type": "execute_result"
    }
   ],
   "source": [
    "x = 5\n",
    "y = 6\n",
    "x+y"
   ]
  },
  {
   "cell_type": "code",
   "execution_count": 2,
   "id": "aceb0c1a",
   "metadata": {},
   "outputs": [
    {
     "name": "stdout",
     "output_type": "stream",
     "text": [
      "2445582494128\n",
      "2445582494160\n"
     ]
    }
   ],
   "source": [
    "# x and y have different memory address\n",
    "print(id(x))\n",
    "print(id(y))"
   ]
  },
  {
   "cell_type": "markdown",
   "id": "8134b04a",
   "metadata": {},
   "source": [
    "<img src=\"images/var_memory_2.png\" width=150 />"
   ]
  },
  {
   "cell_type": "code",
   "execution_count": 5,
   "id": "c23ffc5b",
   "metadata": {},
   "outputs": [
    {
     "name": "stdout",
     "output_type": "stream",
     "text": [
      "2445582494000\n",
      "2445582494000\n",
      "2445582494064\n"
     ]
    }
   ],
   "source": [
    "a = 1\n",
    "b = a\n",
    "\n",
    "# both a and b have same memory address\n",
    "print(id(a))\n",
    "print(id(b))\n",
    "\n",
    "# when b reassign, address will be different\n",
    "b = 3\n",
    "print(id(b))"
   ]
  },
  {
   "cell_type": "code",
   "execution_count": 6,
   "id": "94dbcff4",
   "metadata": {},
   "outputs": [
    {
     "name": "stdout",
     "output_type": "stream",
     "text": [
      "2445582494128\n",
      "2445582494128\n"
     ]
    }
   ],
   "source": [
    "# when initiate new variable with value which assign previous to a var\n",
    "\n",
    "z = 5\n",
    "\n",
    "print(id(z))\n",
    "print(id(x))   # previous var with value 5"
   ]
  },
  {
   "cell_type": "code",
   "execution_count": 16,
   "id": "d4f2dfa1",
   "metadata": {},
   "outputs": [
    {
     "name": "stdout",
     "output_type": "stream",
     "text": [
      "True\n",
      "2445582690704\n",
      "2445582690704\n",
      "False\n",
      "2445680380656\n",
      "2445680381680\n"
     ]
    }
   ],
   "source": [
    "num_1 = 256\n",
    "num_2 = 256\n",
    "\n",
    "print(num_1 is num_2)\n",
    "print(id(num_1))\n",
    "print(id(num_2))\n",
    "\n",
    "num_3 = 300\n",
    "num_4 = 300\n",
    "\n",
    "print(num_3 is num_4)\n",
    "print(id(num_3))\n",
    "print(id(num_4))\n",
    "\n",
    "# it is because number from -5~256 are stored in same memory location. above 256, numbers save in different memory portion."
   ]
  },
  {
   "cell_type": "code",
   "execution_count": 18,
   "id": "9362d31d",
   "metadata": {},
   "outputs": [
    {
     "name": "stdout",
     "output_type": "stream",
     "text": [
      "True\n",
      "2445683002352\n",
      "2445683002352\n"
     ]
    }
   ],
   "source": [
    "# but when we initiate variables in one line, var always save in same memory portion\n",
    "\n",
    "num_5, num_6 = 400, 400\n",
    "\n",
    "print(num_5 is num_6)\n",
    "print(id(num_5))\n",
    "print(id(num_6))"
   ]
  },
  {
   "cell_type": "code",
   "execution_count": null,
   "id": "83573788",
   "metadata": {},
   "outputs": [],
   "source": []
  }
 ],
 "metadata": {
  "kernelspec": {
   "display_name": "Python 3 (ipykernel)",
   "language": "python",
   "name": "python3"
  },
  "language_info": {
   "codemirror_mode": {
    "name": "ipython",
    "version": 3
   },
   "file_extension": ".py",
   "mimetype": "text/x-python",
   "name": "python",
   "nbconvert_exporter": "python",
   "pygments_lexer": "ipython3",
   "version": "3.9.7"
  }
 },
 "nbformat": 4,
 "nbformat_minor": 5
}
